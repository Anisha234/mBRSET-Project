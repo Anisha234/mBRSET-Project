{
 "cells": [
  {
   "cell_type": "markdown",
   "id": "67caa755",
   "metadata": {},
   "source": [
    "### Setup Environment:"
   ]
  },
  {
   "cell_type": "code",
   "execution_count": 1,
   "id": "ff7164ae",
   "metadata": {},
   "outputs": [],
   "source": [
    "from src.get_dataset import get_dataset, split_data\n",
    "from src.data_loader import BRSETDataset, process_labels\n",
    "from src.model import FoundationalCVModel, FoundationalCVModelWithClassifier\n",
    "from sklearn.utils.class_weight import compute_class_weight\n",
    "from torch.utils.data import DataLoader\n",
    "import torch\n",
    "import torch.nn as nn\n",
    "import torch.optim as optim\n",
    "from torchvision import transforms\n",
    "import os\n",
    "import matplotlib.pyplot as plt\n",
    "import numpy as np\n",
    "\n",
    "# loss function and optimizer\n",
    "from src.FocalLoss import BinaryFocalLoss, FocalLoss\n",
    "\n",
    "# train and test functions\n",
    "from src.train import train\n",
    "from src.test import test\n",
    "import pandas as pd\n",
    "import random"
   ]
  },
  {
   "cell_type": "code",
   "execution_count": 2,
   "id": "2f2dffbd-a079-41cd-8086-83bb8374cc74",
   "metadata": {},
   "outputs": [],
   "source": [
    "def set_random_seeds(seed):\n",
    "    random.seed(seed)          # Python random module\n",
    "    np.random.seed(seed)       # NumPy random module\n",
    "    torch.manual_seed(seed)    # PyTorch CPU random generator\n",
    "    torch.cuda.manual_seed(seed)  # PyTorch GPU random generator (if using CUDA)\n",
    "    torch.cuda.manual_seed_all(seed)  # For multi-GPU setups\n",
    "    torch.backends.cudnn.deterministic = True  # Ensure deterministic behavior on CUDA\n",
    "    torch.backends.cudnn.benchmark = False    # Avoid non-deterministic algorithms"
   ]
  },
  {
   "cell_type": "code",
   "execution_count": 3,
   "id": "41c1eda4",
   "metadata": {},
   "outputs": [],
   "source": [
    "set_random_seeds(42)\n",
    "# Constants:\n",
    "DATASET = 'C:\\\\Users\\\\preet\\\\Documents\\\\mBRSET\\\\mbrset-a-mobile-brazilian-retinal-dataset-1.0\\\\'\n",
    "HOME_DIR = 'C:\\\\Users\\\\preet\\\\Documents\\\\mBRSET\\\\mBRSET\\\\' # change this as appropriate \n",
    "DOWNLOAD = False\n",
    "SHAPE = (224, 224)\n",
    "IMAGES = os.path.join(DATASET, 'images')\n",
    "LABEL = 'final_icdr'\n",
    "TEST_SIZE = 0.3\n",
    "UNDERSAMPLE = False\n",
    "\n",
    "LABELS_PATH = os.path.join(DATASET, 'labels.csv') #labels.csv when partitioning by image\n",
    "\n",
    "#---------------------------------\n",
    "\n",
    "IMAGE_COL = 'file'\n",
    "NORM_MEAN =  [0.485, 0.456, 0.406]\n",
    "NORM_STD = [0.229, 0.224, 0.225]\n",
    "BACKBONE = 'resnet50'\n",
    "#BACKBONE = 'dinov2_large'\n",
    "MODE = 'fine_tune'\n",
    "backbone_mode = 'fine_tune'\n",
    "\n",
    "HIDDEN = [128]\n",
    "num_classes = 2\n",
    "\n",
    "BATCH_SIZE = 64 #16\n",
    "NUM_WORKERS = 8 #4\n",
    "\n",
    "LOSS = None #'focal_loss'\n",
    "OPTIMIZER = 'adam'\n",
    "USE_RELU = True #addition of RELU for final model classification, between the two linear layers after the backbone\n",
    "# Define your hyperparameters\n",
    "num_epochs = 50 \n",
    "learning_rate = 1e-5\n",
    "device = torch.device('cuda' if torch.cuda.is_available() else 'cpu')"
   ]
  },
  {
   "cell_type": "markdown",
   "id": "986a7eab",
   "metadata": {},
   "source": [
    "#### Read csv file:"
   ]
  },
  {
   "cell_type": "code",
   "execution_count": 4,
   "id": "0487e2b5",
   "metadata": {},
   "outputs": [
    {
     "name": "stdout",
     "output_type": "stream",
     "text": [
      "(5164, 24)\n",
      "(5164, 24)\n",
      "patient                           0\n",
      "age                               0\n",
      "sex                               0\n",
      "dm_time                          56\n",
      "insulin                          48\n",
      "insulin_time                   4148\n",
      "oraltreatment_dm                 44\n",
      "systemic_hypertension            44\n",
      "insurance                        48\n",
      "educational_level                52\n",
      "alcohol_consumption              76\n",
      "smoking                          88\n",
      "obesity                          76\n",
      "vascular_disease                 76\n",
      "acute_myocardial_infarction      84\n",
      "nephropathy                      80\n",
      "neuropathy                       76\n",
      "diabetic_foot                   108\n",
      "file                              0\n",
      "laterality                        0\n",
      "final_artifacts                   0\n",
      "final_quality                     0\n",
      "final_icdr                      280\n",
      "final_edema                     265\n",
      "dtype: int64\n"
     ]
    },
    {
     "data": {
      "text/html": [
       "<div>\n",
       "<style scoped>\n",
       "    .dataframe tbody tr th:only-of-type {\n",
       "        vertical-align: middle;\n",
       "    }\n",
       "\n",
       "    .dataframe tbody tr th {\n",
       "        vertical-align: top;\n",
       "    }\n",
       "\n",
       "    .dataframe thead th {\n",
       "        text-align: right;\n",
       "    }\n",
       "</style>\n",
       "<table border=\"1\" class=\"dataframe\">\n",
       "  <thead>\n",
       "    <tr style=\"text-align: right;\">\n",
       "      <th></th>\n",
       "      <th>patient</th>\n",
       "      <th>age</th>\n",
       "      <th>sex</th>\n",
       "      <th>dm_time</th>\n",
       "      <th>insulin</th>\n",
       "      <th>insulin_time</th>\n",
       "      <th>oraltreatment_dm</th>\n",
       "      <th>systemic_hypertension</th>\n",
       "      <th>insurance</th>\n",
       "      <th>educational_level</th>\n",
       "      <th>...</th>\n",
       "      <th>acute_myocardial_infarction</th>\n",
       "      <th>nephropathy</th>\n",
       "      <th>neuropathy</th>\n",
       "      <th>diabetic_foot</th>\n",
       "      <th>file</th>\n",
       "      <th>laterality</th>\n",
       "      <th>final_artifacts</th>\n",
       "      <th>final_quality</th>\n",
       "      <th>final_icdr</th>\n",
       "      <th>final_edema</th>\n",
       "    </tr>\n",
       "  </thead>\n",
       "  <tbody>\n",
       "    <tr>\n",
       "      <th>0</th>\n",
       "      <td>1</td>\n",
       "      <td>58</td>\n",
       "      <td>1</td>\n",
       "      <td>15.0</td>\n",
       "      <td>1.0</td>\n",
       "      <td>NaN</td>\n",
       "      <td>1.0</td>\n",
       "      <td>1.0</td>\n",
       "      <td>0.0</td>\n",
       "      <td>3.0</td>\n",
       "      <td>...</td>\n",
       "      <td>1.0</td>\n",
       "      <td>1.0</td>\n",
       "      <td>0.0</td>\n",
       "      <td>0.0</td>\n",
       "      <td>1.1.jpg</td>\n",
       "      <td>right</td>\n",
       "      <td>yes</td>\n",
       "      <td>yes</td>\n",
       "      <td>4.0</td>\n",
       "      <td>no</td>\n",
       "    </tr>\n",
       "    <tr>\n",
       "      <th>1</th>\n",
       "      <td>1</td>\n",
       "      <td>58</td>\n",
       "      <td>1</td>\n",
       "      <td>15.0</td>\n",
       "      <td>1.0</td>\n",
       "      <td>NaN</td>\n",
       "      <td>1.0</td>\n",
       "      <td>1.0</td>\n",
       "      <td>0.0</td>\n",
       "      <td>3.0</td>\n",
       "      <td>...</td>\n",
       "      <td>1.0</td>\n",
       "      <td>1.0</td>\n",
       "      <td>0.0</td>\n",
       "      <td>0.0</td>\n",
       "      <td>1.2.jpg</td>\n",
       "      <td>right</td>\n",
       "      <td>yes</td>\n",
       "      <td>yes</td>\n",
       "      <td>4.0</td>\n",
       "      <td>no</td>\n",
       "    </tr>\n",
       "    <tr>\n",
       "      <th>2</th>\n",
       "      <td>1</td>\n",
       "      <td>58</td>\n",
       "      <td>1</td>\n",
       "      <td>15.0</td>\n",
       "      <td>1.0</td>\n",
       "      <td>NaN</td>\n",
       "      <td>1.0</td>\n",
       "      <td>1.0</td>\n",
       "      <td>0.0</td>\n",
       "      <td>3.0</td>\n",
       "      <td>...</td>\n",
       "      <td>1.0</td>\n",
       "      <td>1.0</td>\n",
       "      <td>0.0</td>\n",
       "      <td>0.0</td>\n",
       "      <td>1.3.jpg</td>\n",
       "      <td>left</td>\n",
       "      <td>yes</td>\n",
       "      <td>yes</td>\n",
       "      <td>4.0</td>\n",
       "      <td>no</td>\n",
       "    </tr>\n",
       "    <tr>\n",
       "      <th>3</th>\n",
       "      <td>1</td>\n",
       "      <td>58</td>\n",
       "      <td>1</td>\n",
       "      <td>15.0</td>\n",
       "      <td>1.0</td>\n",
       "      <td>NaN</td>\n",
       "      <td>1.0</td>\n",
       "      <td>1.0</td>\n",
       "      <td>0.0</td>\n",
       "      <td>3.0</td>\n",
       "      <td>...</td>\n",
       "      <td>1.0</td>\n",
       "      <td>1.0</td>\n",
       "      <td>0.0</td>\n",
       "      <td>0.0</td>\n",
       "      <td>1.4.jpg</td>\n",
       "      <td>left</td>\n",
       "      <td>yes</td>\n",
       "      <td>yes</td>\n",
       "      <td>4.0</td>\n",
       "      <td>no</td>\n",
       "    </tr>\n",
       "    <tr>\n",
       "      <th>4</th>\n",
       "      <td>10</td>\n",
       "      <td>63</td>\n",
       "      <td>0</td>\n",
       "      <td>7.0</td>\n",
       "      <td>0.0</td>\n",
       "      <td>NaN</td>\n",
       "      <td>1.0</td>\n",
       "      <td>1.0</td>\n",
       "      <td>0.0</td>\n",
       "      <td>2.0</td>\n",
       "      <td>...</td>\n",
       "      <td>0.0</td>\n",
       "      <td>0.0</td>\n",
       "      <td>0.0</td>\n",
       "      <td>0.0</td>\n",
       "      <td>10.1.jpg</td>\n",
       "      <td>right</td>\n",
       "      <td>yes</td>\n",
       "      <td>yes</td>\n",
       "      <td>0.0</td>\n",
       "      <td>no</td>\n",
       "    </tr>\n",
       "  </tbody>\n",
       "</table>\n",
       "<p>5 rows × 24 columns</p>\n",
       "</div>"
      ],
      "text/plain": [
       "   patient age  sex  dm_time  insulin  insulin_time  oraltreatment_dm   \n",
       "0        1  58    1     15.0      1.0           NaN               1.0  \\\n",
       "1        1  58    1     15.0      1.0           NaN               1.0   \n",
       "2        1  58    1     15.0      1.0           NaN               1.0   \n",
       "3        1  58    1     15.0      1.0           NaN               1.0   \n",
       "4       10  63    0      7.0      0.0           NaN               1.0   \n",
       "\n",
       "   systemic_hypertension  insurance  educational_level  ...   \n",
       "0                    1.0        0.0                3.0  ...  \\\n",
       "1                    1.0        0.0                3.0  ...   \n",
       "2                    1.0        0.0                3.0  ...   \n",
       "3                    1.0        0.0                3.0  ...   \n",
       "4                    1.0        0.0                2.0  ...   \n",
       "\n",
       "   acute_myocardial_infarction  nephropathy  neuropathy  diabetic_foot   \n",
       "0                          1.0          1.0         0.0            0.0  \\\n",
       "1                          1.0          1.0         0.0            0.0   \n",
       "2                          1.0          1.0         0.0            0.0   \n",
       "3                          1.0          1.0         0.0            0.0   \n",
       "4                          0.0          0.0         0.0            0.0   \n",
       "\n",
       "       file  laterality  final_artifacts  final_quality final_icdr final_edema  \n",
       "0   1.1.jpg       right              yes            yes        4.0          no  \n",
       "1   1.2.jpg       right              yes            yes        4.0          no  \n",
       "2   1.3.jpg        left              yes            yes        4.0          no  \n",
       "3   1.4.jpg        left              yes            yes        4.0          no  \n",
       "4  10.1.jpg       right              yes            yes        0.0          no  \n",
       "\n",
       "[5 rows x 24 columns]"
      ]
     },
     "execution_count": 4,
     "metadata": {},
     "output_type": "execute_result"
    }
   ],
   "source": [
    "df = pd.read_csv(LABELS_PATH)\n",
    "print(df.shape)\n",
    "\n",
    "#Check for nans\n",
    "nan_counts = df.isna().sum()\n",
    "print(df.shape)\n",
    "print(nan_counts)\n",
    "# Fill missing labels as normal\n",
    "df[LABEL] = df[LABEL].fillna(0)\n",
    "df.head(5)"
   ]
  },
  {
   "cell_type": "code",
   "execution_count": 5,
   "id": "d2830ec9",
   "metadata": {},
   "outputs": [
    {
     "name": "stdout",
     "output_type": "stream",
     "text": [
      "Train data shape: (3614, 24)\n",
      "Test data shape: (1550, 24)\n"
     ]
    },
    {
     "data": {
      "image/png": "[encoded data removed]",
      "text/plain": [
       "<Figure size 1000x500 with 2 Axes>"
      ]
     },
     "metadata": {},
     "output_type": "display_data"
    },
    {
     "name": "stdout",
     "output_type": "stream",
     "text": [
      "Getting validation set...\n",
      "Train data shape: (1240, 24)\n",
      "Test data shape: (310, 24)\n"
     ]
    },
    {
     "data": {
      "image/png": "[encoded data removed]",
      "text/plain": [
       "<Figure size 1000x500 with 2 Axes>"
      ]
     },
     "metadata": {},
     "output_type": "display_data"
    }
   ],
   "source": [
    "# Split dataset into train, test and validation:\n",
    "df[LABEL] = df[LABEL].apply(lambda x: 'Normal' if x == 0.0 else ('DR'))\n",
    "df_train, df_test = split_data(df, LABEL, TEST_SIZE, undersample=False)\n",
    "print('Getting validation set...')\n",
    "df_test, df_val = split_data(df_test, LABEL, 0.20)"
   ]
  },
  {
   "cell_type": "markdown",
   "id": "93e7975b",
   "metadata": {},
   "source": [
    "### Dataloaders"
   ]
  },
  {
   "cell_type": "code",
   "execution_count": 6,
   "id": "33f243f6",
   "metadata": {},
   "outputs": [
    {
     "name": "stdout",
     "output_type": "stream",
     "text": [
      "357     {Normal}\n",
      "3654    {Normal}\n",
      "4965    {Normal}\n",
      "465     {Normal}\n",
      "558         {DR}\n",
      "          ...   \n",
      "3315    {Normal}\n",
      "2181    {Normal}\n",
      "4263    {Normal}\n",
      "4641    {Normal}\n",
      "1651        {DR}\n",
      "Name: final_icdr, Length: 3614, dtype: object\n"
     ]
    }
   ],
   "source": [
    "# Train the one hot encoder on the train set and get the labels for the test and validation sets:\n",
    "train_labels, mlb, train_columns = process_labels(df_train, col=LABEL)\n"
   ]
  },
  {
   "cell_type": "code",
   "execution_count": 7,
   "id": "fb38e445",
   "metadata": {},
   "outputs": [],
   "source": [
    "\n",
    "# Define the target image shape\n",
    "SHAPE = (224, 224)  # Adjust to your desired image size\n",
    "\n",
    "#Here we have added additional transforms: color jitter and random vertical flip to the training image embeddings\n",
    "train_transforms = transforms.Compose([\n",
    "    transforms.Resize((256, 256)),\n",
    "    transforms.RandomRotation(90),  # Randomly rotate the image by up to 10 degrees\n",
    "    transforms.RandomCrop(SHAPE),\n",
    "    transforms.ToTensor(),\n",
    "    transforms.RandomHorizontalFlip(),  # Randomly flip the image horizontally\n",
    "    transforms.RandomVerticalFlip(),  # Randomly flip the image horizontally\n",
    "    transforms.ColorJitter(brightness=0.4, contrast=0.1, saturation=0.0, hue=0.0),\n",
    "\n",
    "])\n",
    "\n",
    "if NORM_MEAN is not None and NORM_STD is not None:\n",
    "    train_transforms.transforms.append(transforms.Normalize(mean=NORM_MEAN, std=NORM_STD))\n",
    "\n",
    "test_transform = transforms.Compose([\n",
    "    transforms.Resize(SHAPE),\n",
    "    transforms.ToTensor(),\n",
    "])\n",
    "\n",
    "if NORM_MEAN is not None and NORM_STD is not None:\n",
    "    test_transform.transforms.append(transforms.Normalize(mean=NORM_MEAN, std=NORM_STD))\n"
   ]
  },
  {
   "cell_type": "code",
   "execution_count": 8,
   "id": "5aa0b4e3",
   "metadata": {},
   "outputs": [
    {
     "name": "stdout",
     "output_type": "stream",
     "text": [
      "DF col dtype object final_icdr\n",
      "DF col dtype object final_icdr\n",
      "DF col dtype object final_icdr\n"
     ]
    }
   ],
   "source": [
    "# Create the custom datasets\n",
    "train_dataset = BRSETDataset(\n",
    "    df_train, \n",
    "    IMAGE_COL, \n",
    "    IMAGES, \n",
    "    LABEL, \n",
    "    mlb, \n",
    "    train_columns, \n",
    "    transform=train_transforms\n",
    ")\n",
    "\n",
    "test_dataset = BRSETDataset(\n",
    "    df_test, \n",
    "    IMAGE_COL, \n",
    "    IMAGES, \n",
    "    LABEL, \n",
    "    mlb, \n",
    "    train_columns, \n",
    "    transform=test_transform\n",
    ")\n",
    "\n",
    "val_dataset = BRSETDataset(\n",
    "    df_val, \n",
    "    IMAGE_COL, \n",
    "    IMAGES, \n",
    "    LABEL, \n",
    "    mlb, \n",
    "    train_columns, \n",
    "    transform=test_transform\n",
    ")\n",
    "\n",
    "#Create dataloaders\n",
    "train_dataloader = DataLoader(train_dataset, batch_size=BATCH_SIZE, shuffle=True, num_workers=NUM_WORKERS, pin_memory=True)\n",
    "test_dataloader = DataLoader(test_dataset, batch_size=BATCH_SIZE, shuffle=False, num_workers=NUM_WORKERS, pin_memory=True)\n",
    "val_dataloader = DataLoader(val_dataset, batch_size=BATCH_SIZE, shuffle=False, num_workers=NUM_WORKERS, pin_memory=True)"
   ]
  },
  {
   "cell_type": "code",
   "execution_count": 9,
   "id": "edec00bf",
   "metadata": {},
   "outputs": [
    {
     "name": "stderr",
     "output_type": "stream",
     "text": [
      "Clipping input data to the valid range for imshow with RGB data ([0..1] for floats or [0..255] for integers).\n",
      "Clipping input data to the valid range for imshow with RGB data ([0..1] for floats or [0..255] for integers).\n",
      "Clipping input data to the valid range for imshow with RGB data ([0..1] for floats or [0..255] for integers).\n",
      "Clipping input data to the valid range for imshow with RGB data ([0..1] for floats or [0..255] for integers).\n",
      "Clipping input data to the valid range for imshow with RGB data ([0..1] for floats or [0..255] for integers).\n",
      "Clipping input data to the valid range for imshow with RGB data ([0..1] for floats or [0..255] for integers).\n"
     ]
    },
    {
     "data": {
      "image/png": "[encoded data removed]",
      "text/plain": [
       "<Figure size 640x480 with 6 Axes>"
      ]
     },
     "metadata": {},
     "output_type": "display_data"
    }
   ],
   "source": [
    "# Print 6 samples with their labels\n",
    "# Iterate through the DataLoader and plot the images with labels after transforms\n",
    "for batch in train_dataloader:\n",
    "    images, labels = batch['image'], batch['labels']\n",
    "    for i in range(len(images)):\n",
    "        if i == 6:\n",
    "            break\n",
    "        plt.subplot(2, 3, i + 1)\n",
    "        plt.imshow(images[i].permute(1, 2, 0))  # Permute to (H, W, C) from (C, H, W)\n",
    "        plt.title(f\"Label: {labels[i]}\")\n",
    "        plt.axis('off')\n",
    "    plt.show()\n",
    "    break"
   ]
  },
  {
   "cell_type": "markdown",
   "id": "038f0fb7",
   "metadata": {},
   "source": [
    "### Model"
   ]
  },
  {
   "cell_type": "code",
   "execution_count": 10,
   "id": "8a652c24",
   "metadata": {},
   "outputs": [],
   "source": [
    "# Create the model\n",
    "backbone_model = FoundationalCVModel(backbone=BACKBONE, mode=MODE)\n",
    "model = FoundationalCVModelWithClassifier(backbone_model, relu= USE_RELU, hidden=HIDDEN, num_classes=num_classes, mode=MODE, backbone_mode=backbone_mode)\n",
    "model.to(device)\n",
    "\n",
    "# Use DataParallel to parallelize the model across multiple GPUs\n",
    "if torch.cuda.device_count() > 1:\n",
    "    print(\"Using\", torch.cuda.device_count(), \"GPUs!\")\n",
    "    model = nn.DataParallel(model, [0,1])"
   ]
  },
  {
   "cell_type": "markdown",
   "id": "7dc7e0f3",
   "metadata": {},
   "source": [
    "### Training:"
   ]
  },
  {
   "cell_type": "code",
   "execution_count": 11,
   "id": "a49bc284",
   "metadata": {},
   "outputs": [
    {
     "name": "stdout",
     "output_type": "stream",
     "text": [
      "[1 1 1 ... 1 1 0]\n"
     ]
    }
   ],
   "source": [
    "if LOSS == 'focal_loss':\n",
    "    class_distribution = train_dataloader.dataset.labels.sum(axis=0)\n",
    "    print(f'Class distribution: {class_distribution}')\n",
    "    class_dis = np.array(class_distribution)\n",
    "    class_weights =1-class_dis/np.sum(class_dis)\n",
    "    weights = torch.tensor(class_weights).to(device)\n",
    "    #criterion = FocalLoss()  # Focal Loss\n",
    "    criterion = FocalLoss(gamma=2, alpha=weights)\n",
    "else:\n",
    "    # Assuming train_loader.dataset.labels is a one-hot representation\n",
    "    class_indices = np.argmax(train_dataloader.dataset.labels, axis=1)\n",
    "    print(class_indices)\n",
    "    # Compute class weights using class indices\n",
    "    class_weights = compute_class_weight('balanced', classes=np.unique(class_indices), y=class_indices)\n",
    "    class_weights = torch.tensor(class_weights, dtype=torch.float32)\n",
    "    criterion = nn.CrossEntropyLoss(weight=class_weights).to(device)\n",
    "    #criterion = nn.BCEWithLogitsLoss() # Binary Cross-Entropy Loss\n",
    "\n",
    "if OPTIMIZER == 'adam':\n",
    "    optimizer = optim.Adam(model.parameters(), lr=learning_rate)\n",
    "elif OPTIMIZER == 'adamw':\n",
    "    optimizer = optim.AdamW(model.parameters(), lr=learning_rate)\n",
    "else:\n",
    "    optimizer = optim.SGD(model.parameters(), lr=learning_rate, momentum=0.9)"
   ]
  },
  {
   "cell_type": "code",
   "execution_count": 12,
   "id": "264f3f1f",
   "metadata": {},
   "outputs": [
    {
     "name": "stdout",
     "output_type": "stream",
     "text": [
      "AMP True\n"
     ]
    },
    {
     "name": "stderr",
     "output_type": "stream",
     "text": [
      "100%|██████████████████████████████████████████████████████████████████████████████████| 57/57 [00:44<00:00,  1.28it/s]\n"
     ]
    },
    {
     "name": "stdout",
     "output_type": "stream",
     "text": [
      "Epoch 1\n",
      "Train loss 0.674, F1 0.529, Acc 0.566, BA 0.596\n",
      "cm[[ 517  277]\n",
      " [1292 1528]]\n"
     ]
    },
    {
     "name": "stderr",
     "output_type": "stream",
     "text": [
      "100%|████████████████████████████████████████████████████████████████████████████████████| 5/5 [00:18<00:00,  3.68s/it]\n"
     ]
    },
    {
     "name": "stdout",
     "output_type": "stream",
     "text": [
      "Epoch 1\n",
      "Val loss 0.641, F1 0.512, Acc 0.532, BA 0.611\n",
      "cm[[ 51  17]\n",
      " [128 114]]\n"
     ]
    },
    {
     "name": "stderr",
     "output_type": "stream",
     "text": [
      "100%|██████████████████████████████████████████████████████████████████████████████████| 20/20 [00:40<00:00,  2.02s/it]\n"
     ]
    },
    {
     "name": "stdout",
     "output_type": "stream",
     "text": [
      "cm[[230  42]\n",
      " [498 470]]\n",
      "              precision    recall  f1-score   support\n",
      "\n",
      "           0       0.32      0.85      0.46       272\n",
      "           1       0.92      0.49      0.64       968\n",
      "\n",
      "    accuracy                           0.56      1240\n",
      "   macro avg       0.62      0.67      0.55      1240\n",
      "weighted avg       0.79      0.56      0.60      1240\n",
      "\n",
      "F1 0.597, Acc 0.565, BA 0.666\n",
      "Saving\n"
     ]
    },
    {
     "name": "stderr",
     "output_type": "stream",
     "text": [
      "100%|██████████████████████████████████████████████████████████████████████████████████| 57/57 [01:17<00:00,  1.35s/it]\n"
     ]
    },
    {
     "name": "stdout",
     "output_type": "stream",
     "text": [
      "Epoch 2\n",
      "Train loss 0.581, F1 0.689, Acc 0.757, BA 0.722\n",
      "cm[[ 523  271]\n",
      " [ 606 2214]]\n"
     ]
    },
    {
     "name": "stderr",
     "output_type": "stream",
     "text": [
      "100%|████████████████████████████████████████████████████████████████████████████████████| 5/5 [00:18<00:00,  3.64s/it]\n"
     ]
    },
    {
     "name": "stdout",
     "output_type": "stream",
     "text": [
      "Epoch 2\n",
      "Val loss 0.571, F1 0.624, Acc 0.684, BA 0.671\n",
      "cm[[ 44  24]\n",
      " [ 74 168]]\n"
     ]
    },
    {
     "name": "stderr",
     "output_type": "stream",
     "text": [
      "100%|██████████████████████████████████████████████████████████████████████████████████| 20/20 [00:37<00:00,  1.86s/it]\n"
     ]
    },
    {
     "name": "stdout",
     "output_type": "stream",
     "text": [
      "cm[[207  65]\n",
      " [294 674]]\n",
      "              precision    recall  f1-score   support\n",
      "\n",
      "           0       0.41      0.76      0.54       272\n",
      "           1       0.91      0.70      0.79       968\n",
      "\n",
      "    accuracy                           0.71      1240\n",
      "   macro avg       0.66      0.73      0.66      1240\n",
      "weighted avg       0.80      0.71      0.73      1240\n",
      "\n",
      "F1 0.734, Acc 0.710, BA 0.729\n",
      "Saving\n"
     ]
    },
    {
     "name": "stderr",
     "output_type": "stream",
     "text": [
      "100%|██████████████████████████████████████████████████████████████████████████████████| 57/57 [00:56<00:00,  1.01it/s]\n"
     ]
    },
    {
     "name": "stdout",
     "output_type": "stream",
     "text": [
      "Epoch 3\n",
      "Train loss 0.512, F1 0.739, Acc 0.808, BA 0.758\n",
      "cm[[ 530  264]\n",
      " [ 430 2390]]\n"
     ]
    },
    {
     "name": "stderr",
     "output_type": "stream",
     "text": [
      "100%|████████████████████████████████████████████████████████████████████████████████████| 5/5 [00:18<00:00,  3.65s/it]\n"
     ]
    },
    {
     "name": "stdout",
     "output_type": "stream",
     "text": [
      "Epoch 3\n",
      "Val loss 0.533, F1 0.715, Acc 0.787, BA 0.737\n",
      "cm[[ 44  24]\n",
      " [ 42 200]]\n"
     ]
    },
    {
     "name": "stderr",
     "output_type": "stream",
     "text": [
      "100%|██████████████████████████████████████████████████████████████████████████████████| 20/20 [00:38<00:00,  1.92s/it]\n"
     ]
    },
    {
     "name": "stdout",
     "output_type": "stream",
     "text": [
      "cm[[192  80]\n",
      " [195 773]]\n",
      "              precision    recall  f1-score   support\n",
      "\n",
      "           0       0.50      0.71      0.58       272\n",
      "           1       0.91      0.80      0.85       968\n",
      "\n",
      "    accuracy                           0.78      1240\n",
      "   macro avg       0.70      0.75      0.72      1240\n",
      "weighted avg       0.82      0.78      0.79      1240\n",
      "\n",
      "F1 0.791, Acc 0.778, BA 0.752\n",
      "Saving\n"
     ]
    },
    {
     "name": "stderr",
     "output_type": "stream",
     "text": [
      "100%|██████████████████████████████████████████████████████████████████████████████████| 57/57 [01:06<00:00,  1.17s/it]\n"
     ]
    },
    {
     "name": "stdout",
     "output_type": "stream",
     "text": [
      "Epoch 4\n",
      "Train loss 0.475, F1 0.752, Acc 0.819, BA 0.770\n",
      "cm[[ 543  251]\n",
      " [ 403 2417]]\n"
     ]
    },
    {
     "name": "stderr",
     "output_type": "stream",
     "text": [
      "100%|████████████████████████████████████████████████████████████████████████████████████| 5/5 [00:18<00:00,  3.77s/it]\n"
     ]
    },
    {
     "name": "stdout",
     "output_type": "stream",
     "text": [
      "Epoch 4\n",
      "Val loss 0.538, F1 0.673, Acc 0.726, BA 0.729\n",
      "cm[[ 50  18]\n",
      " [ 67 175]]\n"
     ]
    },
    {
     "name": "stderr",
     "output_type": "stream",
     "text": [
      "100%|██████████████████████████████████████████████████████████████████████████████████| 20/20 [00:39<00:00,  1.98s/it]\n"
     ]
    },
    {
     "name": "stdout",
     "output_type": "stream",
     "text": [
      "cm[[213  59]\n",
      " [270 698]]\n",
      "              precision    recall  f1-score   support\n",
      "\n",
      "           0       0.44      0.78      0.56       272\n",
      "           1       0.92      0.72      0.81       968\n",
      "\n",
      "    accuracy                           0.73      1240\n",
      "   macro avg       0.68      0.75      0.69      1240\n",
      "weighted avg       0.82      0.73      0.76      1240\n",
      "\n",
      "F1 0.756, Acc 0.735, BA 0.752\n"
     ]
    },
    {
     "name": "stderr",
     "output_type": "stream",
     "text": [
      "100%|██████████████████████████████████████████████████████████████████████████████████| 57/57 [00:56<00:00,  1.00it/s]\n"
     ]
    },
    {
     "name": "stdout",
     "output_type": "stream",
     "text": [
      "Epoch 5\n",
      "Train loss 0.448, F1 0.757, Acc 0.819, BA 0.781\n",
      "cm[[ 566  228]\n",
      " [ 425 2395]]\n"
     ]
    },
    {
     "name": "stderr",
     "output_type": "stream",
     "text": [
      "100%|████████████████████████████████████████████████████████████████████████████████████| 5/5 [00:18<00:00,  3.80s/it]\n"
     ]
    },
    {
     "name": "stdout",
     "output_type": "stream",
     "text": [
      "Epoch 5\n",
      "Val loss 0.528, F1 0.739, Acc 0.819, BA 0.742\n",
      "cm[[ 41  27]\n",
      " [ 29 213]]\n"
     ]
    },
    {
     "name": "stderr",
     "output_type": "stream",
     "text": [
      "100%|██████████████████████████████████████████████████████████████████████████████████| 20/20 [00:39<00:00,  1.99s/it]\n"
     ]
    },
    {
     "name": "stdout",
     "output_type": "stream",
     "text": [
      "cm[[187  85]\n",
      " [118 850]]\n",
      "              precision    recall  f1-score   support\n",
      "\n",
      "           0       0.61      0.69      0.65       272\n",
      "           1       0.91      0.88      0.89       968\n",
      "\n",
      "    accuracy                           0.84      1240\n",
      "   macro avg       0.76      0.78      0.77      1240\n",
      "weighted avg       0.84      0.84      0.84      1240\n",
      "\n",
      "F1 0.840, Acc 0.836, BA 0.783\n",
      "Saving\n"
     ]
    },
    {
     "name": "stderr",
     "output_type": "stream",
     "text": [
      "100%|██████████████████████████████████████████████████████████████████████████████████| 57/57 [00:56<00:00,  1.02it/s]\n"
     ]
    },
    {
     "name": "stdout",
     "output_type": "stream",
     "text": [
      "Epoch 6\n",
      "Train loss 0.425, F1 0.774, Acc 0.831, BA 0.802\n",
      "cm[[ 596  198]\n",
      " [ 414 2406]]\n"
     ]
    },
    {
     "name": "stderr",
     "output_type": "stream",
     "text": [
      "100%|████████████████████████████████████████████████████████████████████████████████████| 5/5 [00:17<00:00,  3.60s/it]\n"
     ]
    },
    {
     "name": "stdout",
     "output_type": "stream",
     "text": [
      "Epoch 6\n",
      "Val loss 0.538, F1 0.757, Acc 0.842, BA 0.745\n",
      "cm[[ 39  29]\n",
      " [ 20 222]]\n"
     ]
    },
    {
     "name": "stderr",
     "output_type": "stream",
     "text": [
      "100%|██████████████████████████████████████████████████████████████████████████████████| 20/20 [00:38<00:00,  1.93s/it]\n"
     ]
    },
    {
     "name": "stdout",
     "output_type": "stream",
     "text": [
      "cm[[182  90]\n",
      " [ 74 894]]\n",
      "              precision    recall  f1-score   support\n",
      "\n",
      "           0       0.71      0.67      0.69       272\n",
      "           1       0.91      0.92      0.92       968\n",
      "\n",
      "    accuracy                           0.87      1240\n",
      "   macro avg       0.81      0.80      0.80      1240\n",
      "weighted avg       0.87      0.87      0.87      1240\n",
      "\n",
      "F1 0.866, Acc 0.868, BA 0.796\n",
      "Saving\n"
     ]
    },
    {
     "name": "stderr",
     "output_type": "stream",
     "text": [
      "100%|██████████████████████████████████████████████████████████████████████████████████| 57/57 [00:56<00:00,  1.01it/s]\n"
     ]
    },
    {
     "name": "stdout",
     "output_type": "stream",
     "text": [
      "Epoch 7\n",
      "Train loss 0.422, F1 0.783, Acc 0.840, BA 0.805\n",
      "cm[[ 590  204]\n",
      " [ 373 2447]]\n"
     ]
    },
    {
     "name": "stderr",
     "output_type": "stream",
     "text": [
      "100%|████████████████████████████████████████████████████████████████████████████████████| 5/5 [00:18<00:00,  3.68s/it]\n"
     ]
    },
    {
     "name": "stdout",
     "output_type": "stream",
     "text": [
      "Epoch 7\n",
      "Val loss 0.523, F1 0.745, Acc 0.823, BA 0.749\n",
      "cm[[ 42  26]\n",
      " [ 29 213]]\n"
     ]
    },
    {
     "name": "stderr",
     "output_type": "stream",
     "text": [
      "100%|██████████████████████████████████████████████████████████████████████████████████| 20/20 [00:39<00:00,  1.98s/it]\n"
     ]
    },
    {
     "name": "stdout",
     "output_type": "stream",
     "text": [
      "cm[[190  82]\n",
      " [109 859]]\n",
      "              precision    recall  f1-score   support\n",
      "\n",
      "           0       0.64      0.70      0.67       272\n",
      "           1       0.91      0.89      0.90       968\n",
      "\n",
      "    accuracy                           0.85      1240\n",
      "   macro avg       0.77      0.79      0.78      1240\n",
      "weighted avg       0.85      0.85      0.85      1240\n",
      "\n",
      "F1 0.849, Acc 0.846, BA 0.793\n"
     ]
    },
    {
     "name": "stderr",
     "output_type": "stream",
     "text": [
      "100%|██████████████████████████████████████████████████████████████████████████████████| 57/57 [00:58<00:00,  1.02s/it]\n"
     ]
    },
    {
     "name": "stdout",
     "output_type": "stream",
     "text": [
      "Epoch 8\n",
      "Train loss 0.405, F1 0.790, Acc 0.846, BA 0.812\n",
      "cm[[ 595  199]\n",
      " [ 356 2464]]\n"
     ]
    },
    {
     "name": "stderr",
     "output_type": "stream",
     "text": [
      "100%|████████████████████████████████████████████████████████████████████████████████████| 5/5 [00:18<00:00,  3.75s/it]\n"
     ]
    },
    {
     "name": "stdout",
     "output_type": "stream",
     "text": [
      "Epoch 8\n",
      "Val loss 0.518, F1 0.743, Acc 0.813, BA 0.759\n",
      "cm[[ 45  23]\n",
      " [ 35 207]]\n"
     ]
    },
    {
     "name": "stderr",
     "output_type": "stream",
     "text": [
      "100%|██████████████████████████████████████████████████████████████████████████████████| 20/20 [00:38<00:00,  1.93s/it]\n"
     ]
    },
    {
     "name": "stdout",
     "output_type": "stream",
     "text": [
      "cm[[206  66]\n",
      " [123 845]]\n",
      "              precision    recall  f1-score   support\n",
      "\n",
      "           0       0.63      0.76      0.69       272\n",
      "           1       0.93      0.87      0.90       968\n",
      "\n",
      "    accuracy                           0.85      1240\n",
      "   macro avg       0.78      0.82      0.79      1240\n",
      "weighted avg       0.86      0.85      0.85      1240\n",
      "\n",
      "F1 0.852, Acc 0.848, BA 0.815\n"
     ]
    },
    {
     "name": "stderr",
     "output_type": "stream",
     "text": [
      "100%|██████████████████████████████████████████████████████████████████████████████████| 57/57 [00:56<00:00,  1.01it/s]\n"
     ]
    },
    {
     "name": "stdout",
     "output_type": "stream",
     "text": [
      "Epoch 9\n",
      "Train loss 0.379, F1 0.810, Acc 0.859, BA 0.836\n",
      "cm[[ 630  164]\n",
      " [ 344 2476]]\n"
     ]
    },
    {
     "name": "stderr",
     "output_type": "stream",
     "text": [
      "100%|████████████████████████████████████████████████████████████████████████████████████| 5/5 [00:17<00:00,  3.57s/it]\n"
     ]
    },
    {
     "name": "stdout",
     "output_type": "stream",
     "text": [
      "Epoch 9\n",
      "Val loss 0.512, F1 0.717, Acc 0.777, BA 0.757\n",
      "cm[[ 49  19]\n",
      " [ 50 192]]\n"
     ]
    },
    {
     "name": "stderr",
     "output_type": "stream",
     "text": [
      "100%|██████████████████████████████████████████████████████████████████████████████████| 20/20 [00:38<00:00,  1.94s/it]\n"
     ]
    },
    {
     "name": "stdout",
     "output_type": "stream",
     "text": [
      "cm[[219  53]\n",
      " [179 789]]\n",
      "              precision    recall  f1-score   support\n",
      "\n",
      "           0       0.55      0.81      0.65       272\n",
      "           1       0.94      0.82      0.87       968\n",
      "\n",
      "    accuracy                           0.81      1240\n",
      "   macro avg       0.74      0.81      0.76      1240\n",
      "weighted avg       0.85      0.81      0.82      1240\n",
      "\n",
      "F1 0.824, Acc 0.813, BA 0.810\n"
     ]
    },
    {
     "name": "stderr",
     "output_type": "stream",
     "text": [
      "100%|██████████████████████████████████████████████████████████████████████████████████| 57/57 [00:56<00:00,  1.01it/s]\n"
     ]
    },
    {
     "name": "stdout",
     "output_type": "stream",
     "text": [
      "Epoch 10\n",
      "Train loss 0.372, F1 0.813, Acc 0.863, BA 0.836\n",
      "cm[[ 626  168]\n",
      " [ 326 2494]]\n"
     ]
    },
    {
     "name": "stderr",
     "output_type": "stream",
     "text": [
      "100%|████████████████████████████████████████████████████████████████████████████████████| 5/5 [00:18<00:00,  3.75s/it]\n"
     ]
    },
    {
     "name": "stdout",
     "output_type": "stream",
     "text": [
      "Epoch 10\n",
      "Val loss 0.508, F1 0.744, Acc 0.810, BA 0.767\n",
      "cm[[ 47  21]\n",
      " [ 38 204]]\n"
     ]
    },
    {
     "name": "stderr",
     "output_type": "stream",
     "text": [
      "100%|██████████████████████████████████████████████████████████████████████████████████| 20/20 [00:39<00:00,  1.98s/it]\n"
     ]
    },
    {
     "name": "stdout",
     "output_type": "stream",
     "text": [
      "cm[[207  65]\n",
      " [146 822]]\n",
      "              precision    recall  f1-score   support\n",
      "\n",
      "           0       0.59      0.76      0.66       272\n",
      "           1       0.93      0.85      0.89       968\n",
      "\n",
      "    accuracy                           0.83      1240\n",
      "   macro avg       0.76      0.81      0.77      1240\n",
      "weighted avg       0.85      0.83      0.84      1240\n",
      "\n",
      "F1 0.837, Acc 0.830, BA 0.805\n"
     ]
    },
    {
     "name": "stderr",
     "output_type": "stream",
     "text": [
      "100%|██████████████████████████████████████████████████████████████████████████████████| 57/57 [00:40<00:00,  1.42it/s]\n"
     ]
    },
    {
     "name": "stdout",
     "output_type": "stream",
     "text": [
      "Epoch 11\n",
      "Train loss 0.376, F1 0.809, Acc 0.858, BA 0.835\n",
      "cm[[ 631  163]\n",
      " [ 349 2471]]\n"
     ]
    },
    {
     "name": "stderr",
     "output_type": "stream",
     "text": [
      "100%|████████████████████████████████████████████████████████████████████████████████████| 5/5 [00:19<00:00,  3.95s/it]\n"
     ]
    },
    {
     "name": "stdout",
     "output_type": "stream",
     "text": [
      "Epoch 11\n",
      "Val loss 0.512, F1 0.754, Acc 0.829, BA 0.758\n",
      "cm[[ 43  25]\n",
      " [ 28 214]]\n"
     ]
    },
    {
     "name": "stderr",
     "output_type": "stream",
     "text": [
      "100%|██████████████████████████████████████████████████████████████████████████████████| 20/20 [00:40<00:00,  2.00s/it]\n"
     ]
    },
    {
     "name": "stdout",
     "output_type": "stream",
     "text": [
      "cm[[191  81]\n",
      " [ 93 875]]\n",
      "              precision    recall  f1-score   support\n",
      "\n",
      "           0       0.67      0.70      0.69       272\n",
      "           1       0.92      0.90      0.91       968\n",
      "\n",
      "    accuracy                           0.86      1240\n",
      "   macro avg       0.79      0.80      0.80      1240\n",
      "weighted avg       0.86      0.86      0.86      1240\n",
      "\n",
      "F1 0.861, Acc 0.860, BA 0.803\n"
     ]
    },
    {
     "name": "stderr",
     "output_type": "stream",
     "text": [
      "100%|██████████████████████████████████████████████████████████████████████████████████| 57/57 [00:40<00:00,  1.41it/s]\n"
     ]
    },
    {
     "name": "stdout",
     "output_type": "stream",
     "text": [
      "Epoch 12\n",
      "Train loss 0.348, F1 0.827, Acc 0.874, BA 0.848\n",
      "cm[[ 638  156]\n",
      " [ 301 2519]]\n"
     ]
    },
    {
     "name": "stderr",
     "output_type": "stream",
     "text": [
      "100%|████████████████████████████████████████████████████████████████████████████████████| 5/5 [00:18<00:00,  3.64s/it]\n"
     ]
    },
    {
     "name": "stdout",
     "output_type": "stream",
     "text": [
      "Epoch 12\n",
      "Val loss 0.508, F1 0.765, Acc 0.832, BA 0.776\n",
      "cm[[ 46  22]\n",
      " [ 30 212]]\n"
     ]
    },
    {
     "name": "stderr",
     "output_type": "stream",
     "text": [
      "100%|██████████████████████████████████████████████████████████████████████████████████| 20/20 [00:39<00:00,  2.00s/it]\n"
     ]
    },
    {
     "name": "stdout",
     "output_type": "stream",
     "text": [
      "cm[[202  70]\n",
      " [123 845]]\n",
      "              precision    recall  f1-score   support\n",
      "\n",
      "           0       0.62      0.74      0.68       272\n",
      "           1       0.92      0.87      0.90       968\n",
      "\n",
      "    accuracy                           0.84      1240\n",
      "   macro avg       0.77      0.81      0.79      1240\n",
      "weighted avg       0.86      0.84      0.85      1240\n",
      "\n",
      "F1 0.849, Acc 0.844, BA 0.808\n",
      "Saving\n"
     ]
    },
    {
     "name": "stderr",
     "output_type": "stream",
     "text": [
      "100%|██████████████████████████████████████████████████████████████████████████████████| 57/57 [00:40<00:00,  1.41it/s]\n"
     ]
    },
    {
     "name": "stdout",
     "output_type": "stream",
     "text": [
      "Epoch 13\n",
      "Train loss 0.353, F1 0.822, Acc 0.870, BA 0.845\n",
      "cm[[ 636  158]\n",
      " [ 313 2507]]\n"
     ]
    },
    {
     "name": "stderr",
     "output_type": "stream",
     "text": [
      "100%|████████████████████████████████████████████████████████████████████████████████████| 5/5 [00:15<00:00,  3.10s/it]\n"
     ]
    },
    {
     "name": "stdout",
     "output_type": "stream",
     "text": [
      "Epoch 13\n",
      "Val loss 0.517, F1 0.747, Acc 0.813, BA 0.769\n",
      "cm[[ 47  21]\n",
      " [ 37 205]]\n"
     ]
    },
    {
     "name": "stderr",
     "output_type": "stream",
     "text": [
      "100%|██████████████████████████████████████████████████████████████████████████████████| 20/20 [00:21<00:00,  1.07s/it]\n"
     ]
    },
    {
     "name": "stdout",
     "output_type": "stream",
     "text": [
      "cm[[201  71]\n",
      " [132 836]]\n",
      "              precision    recall  f1-score   support\n",
      "\n",
      "           0       0.60      0.74      0.66       272\n",
      "           1       0.92      0.86      0.89       968\n",
      "\n",
      "    accuracy                           0.84      1240\n",
      "   macro avg       0.76      0.80      0.78      1240\n",
      "weighted avg       0.85      0.84      0.84      1240\n",
      "\n",
      "F1 0.842, Acc 0.836, BA 0.801\n"
     ]
    },
    {
     "name": "stderr",
     "output_type": "stream",
     "text": [
      "100%|██████████████████████████████████████████████████████████████████████████████████| 57/57 [00:39<00:00,  1.45it/s]\n"
     ]
    },
    {
     "name": "stdout",
     "output_type": "stream",
     "text": [
      "Epoch 14\n",
      "Train loss 0.344, F1 0.829, Acc 0.874, BA 0.854\n",
      "cm[[ 650  144]\n",
      " [ 311 2509]]\n"
     ]
    },
    {
     "name": "stderr",
     "output_type": "stream",
     "text": [
      "100%|████████████████████████████████████████████████████████████████████████████████████| 5/5 [00:17<00:00,  3.43s/it]\n"
     ]
    },
    {
     "name": "stdout",
     "output_type": "stream",
     "text": [
      "Epoch 14\n",
      "Val loss 0.529, F1 0.758, Acc 0.832, BA 0.760\n",
      "cm[[ 43  25]\n",
      " [ 27 215]]\n"
     ]
    },
    {
     "name": "stderr",
     "output_type": "stream",
     "text": [
      "100%|██████████████████████████████████████████████████████████████████████████████████| 20/20 [00:33<00:00,  1.67s/it]\n"
     ]
    },
    {
     "name": "stdout",
     "output_type": "stream",
     "text": [
      "cm[[191  81]\n",
      " [ 81 887]]\n",
      "              precision    recall  f1-score   support\n",
      "\n",
      "           0       0.70      0.70      0.70       272\n",
      "           1       0.92      0.92      0.92       968\n",
      "\n",
      "    accuracy                           0.87      1240\n",
      "   macro avg       0.81      0.81      0.81      1240\n",
      "weighted avg       0.87      0.87      0.87      1240\n",
      "\n",
      "F1 0.869, Acc 0.869, BA 0.809\n"
     ]
    },
    {
     "name": "stderr",
     "output_type": "stream",
     "text": [
      "100%|██████████████████████████████████████████████████████████████████████████████████| 57/57 [00:38<00:00,  1.48it/s]\n"
     ]
    },
    {
     "name": "stdout",
     "output_type": "stream",
     "text": [
      "Epoch 15\n",
      "Train loss 0.328, F1 0.832, Acc 0.876, BA 0.857\n",
      "cm[[ 654  140]\n",
      " [ 308 2512]]\n"
     ]
    },
    {
     "name": "stderr",
     "output_type": "stream",
     "text": [
      "100%|████████████████████████████████████████████████████████████████████████████████████| 5/5 [00:17<00:00,  3.46s/it]\n"
     ]
    },
    {
     "name": "stdout",
     "output_type": "stream",
     "text": [
      "Epoch 15\n",
      "Val loss 0.528, F1 0.765, Acc 0.832, BA 0.776\n",
      "cm[[ 46  22]\n",
      " [ 30 212]]\n"
     ]
    },
    {
     "name": "stderr",
     "output_type": "stream",
     "text": [
      "100%|██████████████████████████████████████████████████████████████████████████████████| 20/20 [00:34<00:00,  1.71s/it]\n"
     ]
    },
    {
     "name": "stdout",
     "output_type": "stream",
     "text": [
      "cm[[199  73]\n",
      " [109 859]]\n",
      "              precision    recall  f1-score   support\n",
      "\n",
      "           0       0.65      0.73      0.69       272\n",
      "           1       0.92      0.89      0.90       968\n",
      "\n",
      "    accuracy                           0.85      1240\n",
      "   macro avg       0.78      0.81      0.80      1240\n",
      "weighted avg       0.86      0.85      0.86      1240\n",
      "\n",
      "F1 0.856, Acc 0.853, BA 0.810\n"
     ]
    },
    {
     "name": "stderr",
     "output_type": "stream",
     "text": [
      "100%|██████████████████████████████████████████████████████████████████████████████████| 57/57 [00:38<00:00,  1.49it/s]\n"
     ]
    },
    {
     "name": "stdout",
     "output_type": "stream",
     "text": [
      "Epoch 16\n",
      "Train loss 0.326, F1 0.832, Acc 0.877, BA 0.854\n",
      "cm[[ 645  149]\n",
      " [ 294 2526]]\n"
     ]
    },
    {
     "name": "stderr",
     "output_type": "stream",
     "text": [
      "100%|████████████████████████████████████████████████████████████████████████████████████| 5/5 [00:13<00:00,  2.68s/it]\n"
     ]
    },
    {
     "name": "stdout",
     "output_type": "stream",
     "text": [
      "Epoch 16\n",
      "Val loss 0.529, F1 0.742, Acc 0.823, BA 0.744\n",
      "cm[[ 41  27]\n",
      " [ 28 214]]\n"
     ]
    },
    {
     "name": "stderr",
     "output_type": "stream",
     "text": [
      "100%|██████████████████████████████████████████████████████████████████████████████████| 20/20 [00:20<00:00,  1.01s/it]\n"
     ]
    },
    {
     "name": "stdout",
     "output_type": "stream",
     "text": [
      "cm[[194  78]\n",
      " [ 88 880]]\n",
      "              precision    recall  f1-score   support\n",
      "\n",
      "           0       0.69      0.71      0.70       272\n",
      "           1       0.92      0.91      0.91       968\n",
      "\n",
      "    accuracy                           0.87      1240\n",
      "   macro avg       0.80      0.81      0.81      1240\n",
      "weighted avg       0.87      0.87      0.87      1240\n",
      "\n",
      "F1 0.867, Acc 0.866, BA 0.811\n"
     ]
    },
    {
     "name": "stderr",
     "output_type": "stream",
     "text": [
      "100%|██████████████████████████████████████████████████████████████████████████████████| 57/57 [00:38<00:00,  1.47it/s]\n"
     ]
    },
    {
     "name": "stdout",
     "output_type": "stream",
     "text": [
      "Epoch 17\n",
      "Train loss 0.325, F1 0.836, Acc 0.880, BA 0.858\n",
      "cm[[ 650  144]\n",
      " [ 288 2532]]\n"
     ]
    },
    {
     "name": "stderr",
     "output_type": "stream",
     "text": [
      "100%|████████████████████████████████████████████████████████████████████████████████████| 5/5 [00:17<00:00,  3.50s/it]\n"
     ]
    },
    {
     "name": "stdout",
     "output_type": "stream",
     "text": [
      "Epoch 17\n",
      "Val loss 0.527, F1 0.756, Acc 0.819, BA 0.779\n",
      "cm[[ 48  20]\n",
      " [ 36 206]]\n"
     ]
    },
    {
     "name": "stderr",
     "output_type": "stream",
     "text": [
      "100%|██████████████████████████████████████████████████████████████████████████████████| 20/20 [00:34<00:00,  1.72s/it]\n"
     ]
    },
    {
     "name": "stdout",
     "output_type": "stream",
     "text": [
      "cm[[203  69]\n",
      " [115 853]]\n",
      "              precision    recall  f1-score   support\n",
      "\n",
      "           0       0.64      0.75      0.69       272\n",
      "           1       0.93      0.88      0.90       968\n",
      "\n",
      "    accuracy                           0.85      1240\n",
      "   macro avg       0.78      0.81      0.80      1240\n",
      "weighted avg       0.86      0.85      0.86      1240\n",
      "\n",
      "F1 0.856, Acc 0.852, BA 0.814\n"
     ]
    },
    {
     "name": "stderr",
     "output_type": "stream",
     "text": [
      "100%|██████████████████████████████████████████████████████████████████████████████████| 57/57 [00:38<00:00,  1.46it/s]\n"
     ]
    },
    {
     "name": "stdout",
     "output_type": "stream",
     "text": [
      "Epoch 18\n",
      "Train loss 0.303, F1 0.846, Acc 0.887, BA 0.872\n",
      "cm[[ 670  124]\n",
      " [ 283 2537]]\n"
     ]
    },
    {
     "name": "stderr",
     "output_type": "stream",
     "text": [
      "100%|████████████████████████████████████████████████████████████████████████████████████| 5/5 [00:17<00:00,  3.45s/it]\n"
     ]
    },
    {
     "name": "stdout",
     "output_type": "stream",
     "text": [
      "Epoch 18\n",
      "Val loss 0.518, F1 0.747, Acc 0.813, BA 0.769\n",
      "cm[[ 47  21]\n",
      " [ 37 205]]\n"
     ]
    },
    {
     "name": "stderr",
     "output_type": "stream",
     "text": [
      "100%|██████████████████████████████████████████████████████████████████████████████████| 20/20 [00:34<00:00,  1.72s/it]\n"
     ]
    },
    {
     "name": "stdout",
     "output_type": "stream",
     "text": [
      "cm[[210  62]\n",
      " [117 851]]\n",
      "              precision    recall  f1-score   support\n",
      "\n",
      "           0       0.64      0.77      0.70       272\n",
      "           1       0.93      0.88      0.90       968\n",
      "\n",
      "    accuracy                           0.86      1240\n",
      "   macro avg       0.79      0.83      0.80      1240\n",
      "weighted avg       0.87      0.86      0.86      1240\n",
      "\n",
      "F1 0.860, Acc 0.856, BA 0.826\n"
     ]
    },
    {
     "name": "stderr",
     "output_type": "stream",
     "text": [
      "100%|██████████████████████████████████████████████████████████████████████████████████| 57/57 [00:38<00:00,  1.47it/s]\n"
     ]
    },
    {
     "name": "stdout",
     "output_type": "stream",
     "text": [
      "Epoch 19\n",
      "Train loss 0.302, F1 0.846, Acc 0.887, BA 0.872\n",
      "cm[[ 671  123]\n",
      " [ 287 2533]]\n"
     ]
    },
    {
     "name": "stderr",
     "output_type": "stream",
     "text": [
      "100%|████████████████████████████████████████████████████████████████████████████████████| 5/5 [00:13<00:00,  2.65s/it]\n"
     ]
    },
    {
     "name": "stdout",
     "output_type": "stream",
     "text": [
      "Epoch 19\n",
      "Val loss 0.522, F1 0.749, Acc 0.819, BA 0.763\n",
      "cm[[ 45  23]\n",
      " [ 33 209]]\n"
     ]
    },
    {
     "name": "stderr",
     "output_type": "stream",
     "text": [
      "100%|██████████████████████████████████████████████████████████████████████████████████| 20/20 [00:20<00:00,  1.03s/it]"
     ]
    },
    {
     "name": "stdout",
     "output_type": "stream",
     "text": [
      "cm[[208  64]\n",
      " [110 858]]\n",
      "              precision    recall  f1-score   support\n",
      "\n",
      "           0       0.65      0.76      0.71       272\n",
      "           1       0.93      0.89      0.91       968\n",
      "\n",
      "    accuracy                           0.86      1240\n",
      "   macro avg       0.79      0.83      0.81      1240\n",
      "weighted avg       0.87      0.86      0.86      1240\n",
      "\n",
      "F1 0.863, Acc 0.860, BA 0.826\n",
      "Early stopping triggered.\n"
     ]
    },
    {
     "name": "stderr",
     "output_type": "stream",
     "text": [
      "\n"
     ]
    }
   ],
   "source": [
    "save_dir= HOME_DIR + 'Experiment2'\n",
    "model = train(model, train_dataloader, val_dataloader,test_dataloader, criterion, optimizer, scheduler=None,num_epochs=num_epochs, save=True, save_dir = save_dir,device=\"cuda\", backbone=f'convnextv2_binary_{LABEL}')"
   ]
  },
  {
   "cell_type": "markdown",
   "id": "fad2f69b",
   "metadata": {},
   "source": [
    "### \n",
    "\n",
    "Test"
   ]
  },
  {
   "cell_type": "code",
   "execution_count": 13,
   "id": "4f689e55",
   "metadata": {},
   "outputs": [
    {
     "name": "stderr",
     "output_type": "stream",
     "text": [
      "100%|██████████████████████████████████████████████████████████████████████████████████| 20/20 [00:20<00:00,  1.03s/it]"
     ]
    },
    {
     "name": "stdout",
     "output_type": "stream",
     "text": [
      "cm[[202  70]\n",
      " [123 845]]\n",
      "              precision    recall  f1-score   support\n",
      "\n",
      "           0       0.62      0.74      0.68       272\n",
      "           1       0.92      0.87      0.90       968\n",
      "\n",
      "    accuracy                           0.84      1240\n",
      "   macro avg       0.77      0.81      0.79      1240\n",
      "weighted avg       0.86      0.84      0.85      1240\n",
      "\n",
      "F1 0.849, Acc 0.844, BA 0.808\n"
     ]
    },
    {
     "name": "stderr",
     "output_type": "stream",
     "text": [
      "\n"
     ]
    }
   ],
   "source": [
    "state_dict = torch.load(HOME_DIR + 'Experiment2\\\\fine_tuned_resnet50_best.pth')\n",
    "model.load_state_dict(state_dict, strict=True) \n",
    "y_pred, y_true = test(model, test_dataloader, saliency=False, device=device)"
   ]
  }
 ],
 "metadata": {
  "kernelspec": {
   "display_name": "Python 3 (ipykernel)",
   "language": "python",
   "name": "python3"
  },
  "language_info": {
   "codemirror_mode": {
    "name": "ipython",
    "version": 3
   },
   "file_extension": ".py",
   "mimetype": "text/x-python",
   "name": "python",
   "nbconvert_exporter": "python",
   "pygments_lexer": "ipython3",
   "version": "3.8.17"
  }
 },
 "nbformat": 4,
 "nbformat_minor": 5
}
