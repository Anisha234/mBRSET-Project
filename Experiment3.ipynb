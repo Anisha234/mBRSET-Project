{
 "cells": [
  {
   "cell_type": "markdown",
   "id": "67caa755",
   "metadata": {},
   "source": [
    "### Setup Environment:"
   ]
  },
  {
   "cell_type": "code",
   "execution_count": 1,
   "id": "ff7164ae",
   "metadata": {},
   "outputs": [],
   "source": [
    "from src.get_dataset import get_dataset, split_data\n",
    "from src.data_loader import BRSETDataset, process_labels\n",
    "from src.model import FoundationalCVModel, FoundationalCVModelWithClassifier\n",
    "from sklearn.utils.class_weight import compute_class_weight\n",
    "from torch.utils.data import DataLoader\n",
    "import torch\n",
    "import torch.nn as nn\n",
    "import torch.optim as optim\n",
    "from torchvision import transforms\n",
    "import os\n",
    "import matplotlib.pyplot as plt\n",
    "import numpy as np\n",
    "\n",
    "# loss function and optimizer\n",
    "from src.FocalLoss import BinaryFocalLoss, FocalLoss\n",
    "\n",
    "# train and test functions\n",
    "from src.train import train\n",
    "from src.test import test\n",
    "import pandas as pd\n",
    "import random"
   ]
  },
  {
   "cell_type": "code",
   "execution_count": 2,
   "id": "2f2dffbd-a079-41cd-8086-83bb8374cc74",
   "metadata": {},
   "outputs": [],
   "source": [
    "def set_random_seeds(seed):\n",
    "    random.seed(seed)          # Python random module\n",
    "    np.random.seed(seed)       # NumPy random module\n",
    "    torch.manual_seed(seed)    # PyTorch CPU random generator\n",
    "    torch.cuda.manual_seed(seed)  # PyTorch GPU random generator (if using CUDA)\n",
    "    torch.cuda.manual_seed_all(seed)  # For multi-GPU setups\n",
    "    torch.backends.cudnn.deterministic = True  # Ensure deterministic behavior on CUDA\n",
    "    torch.backends.cudnn.benchmark = False    # Avoid non-deterministic algorithms"
   ]
  },
  {
   "cell_type": "code",
   "execution_count": 3,
   "id": "41c1eda4",
   "metadata": {},
   "outputs": [],
   "source": [
    "set_random_seeds(42)\n",
    "# Constants:\n",
    "DATASET = 'C:\\\\Users\\\\preet\\\\Documents\\\\mBRSET\\\\mbrset-a-mobile-brazilian-retinal-dataset-1.0\\\\'\n",
    "HOME_DIR = 'C:\\\\Users\\\\preet\\\\Documents\\\\mBRSET\\\\mBRSET\\\\' # change this as appropriate \n",
    "DOWNLOAD = False\n",
    "SHAPE = (224, 224)\n",
    "IMAGES = os.path.join(DATASET, 'images')\n",
    "LABEL = 'final_icdr'\n",
    "TEST_SIZE = 0.3\n",
    "UNDERSAMPLE = False\n",
    "\n",
    "\n",
    "LABELS_PATH = os.path.join(DATASET, 'labels.csv') #labels.csv when partitioning by image\n",
    "PARTITION_BY_PATIENT = True #new constant - set to true when doing train_test_split by patient rather than image\n",
    "#---------------------------------\n",
    "\n",
    "IMAGE_COL = 'file'\n",
    "NORM_MEAN =  [0.485, 0.456, 0.406]\n",
    "NORM_STD = [0.229, 0.224, 0.225]\n",
    "BACKBONE = 'resnet50'\n",
    "#BACKBONE = 'dinov2_large'\n",
    "MODE = 'fine_tune'\n",
    "backbone_mode = 'fine_tune'\n",
    "\n",
    "HIDDEN = [128]\n",
    "num_classes = 2\n",
    "\n",
    "BATCH_SIZE = 64 #16\n",
    "NUM_WORKERS = 8 #4\n",
    "\n",
    "LOSS = None #'focal_loss'\n",
    "OPTIMIZER = 'adam'\n",
    "USE_RELU = True #addition of RELU for final model classification, between the two linear layers after the backbone\n",
    "# Define your hyperparameters\n",
    "num_epochs = 50 \n",
    "learning_rate = 1e-5\n",
    "device = torch.device('cuda' if torch.cuda.is_available() else 'cpu')"
   ]
  },
  {
   "cell_type": "markdown",
   "id": "986a7eab",
   "metadata": {},
   "source": [
    "#### Read csv file:"
   ]
  },
  {
   "cell_type": "code",
   "execution_count": 4,
   "id": "0487e2b5",
   "metadata": {},
   "outputs": [
    {
     "name": "stdout",
     "output_type": "stream",
     "text": [
      "(5164, 24)\n",
      "(5164, 24)\n",
      "patient                           0\n",
      "age                               0\n",
      "sex                               0\n",
      "dm_time                          56\n",
      "insulin                          48\n",
      "insulin_time                   4148\n",
      "oraltreatment_dm                 44\n",
      "systemic_hypertension            44\n",
      "insurance                        48\n",
      "educational_level                52\n",
      "alcohol_consumption              76\n",
      "smoking                          88\n",
      "obesity                          76\n",
      "vascular_disease                 76\n",
      "acute_myocardial_infarction      84\n",
      "nephropathy                      80\n",
      "neuropathy                       76\n",
      "diabetic_foot                   108\n",
      "file                              0\n",
      "laterality                        0\n",
      "final_artifacts                   0\n",
      "final_quality                     0\n",
      "final_icdr                      280\n",
      "final_edema                     265\n",
      "dtype: int64\n"
     ]
    },
    {
     "data": {
      "text/html": [
       "<div>\n",
       "<style scoped>\n",
       "    .dataframe tbody tr th:only-of-type {\n",
       "        vertical-align: middle;\n",
       "    }\n",
       "\n",
       "    .dataframe tbody tr th {\n",
       "        vertical-align: top;\n",
       "    }\n",
       "\n",
       "    .dataframe thead th {\n",
       "        text-align: right;\n",
       "    }\n",
       "</style>\n",
       "<table border=\"1\" class=\"dataframe\">\n",
       "  <thead>\n",
       "    <tr style=\"text-align: right;\">\n",
       "      <th></th>\n",
       "      <th>patient</th>\n",
       "      <th>age</th>\n",
       "      <th>sex</th>\n",
       "      <th>dm_time</th>\n",
       "      <th>insulin</th>\n",
       "      <th>insulin_time</th>\n",
       "      <th>oraltreatment_dm</th>\n",
       "      <th>systemic_hypertension</th>\n",
       "      <th>insurance</th>\n",
       "      <th>educational_level</th>\n",
       "      <th>...</th>\n",
       "      <th>acute_myocardial_infarction</th>\n",
       "      <th>nephropathy</th>\n",
       "      <th>neuropathy</th>\n",
       "      <th>diabetic_foot</th>\n",
       "      <th>file</th>\n",
       "      <th>laterality</th>\n",
       "      <th>final_artifacts</th>\n",
       "      <th>final_quality</th>\n",
       "      <th>final_icdr</th>\n",
       "      <th>final_edema</th>\n",
       "    </tr>\n",
       "  </thead>\n",
       "  <tbody>\n",
       "    <tr>\n",
       "      <th>0</th>\n",
       "      <td>1</td>\n",
       "      <td>58</td>\n",
       "      <td>1</td>\n",
       "      <td>15.0</td>\n",
       "      <td>1.0</td>\n",
       "      <td>NaN</td>\n",
       "      <td>1.0</td>\n",
       "      <td>1.0</td>\n",
       "      <td>0.0</td>\n",
       "      <td>3.0</td>\n",
       "      <td>...</td>\n",
       "      <td>1.0</td>\n",
       "      <td>1.0</td>\n",
       "      <td>0.0</td>\n",
       "      <td>0.0</td>\n",
       "      <td>1.1.jpg</td>\n",
       "      <td>right</td>\n",
       "      <td>yes</td>\n",
       "      <td>yes</td>\n",
       "      <td>4.0</td>\n",
       "      <td>no</td>\n",
       "    </tr>\n",
       "    <tr>\n",
       "      <th>1</th>\n",
       "      <td>1</td>\n",
       "      <td>58</td>\n",
       "      <td>1</td>\n",
       "      <td>15.0</td>\n",
       "      <td>1.0</td>\n",
       "      <td>NaN</td>\n",
       "      <td>1.0</td>\n",
       "      <td>1.0</td>\n",
       "      <td>0.0</td>\n",
       "      <td>3.0</td>\n",
       "      <td>...</td>\n",
       "      <td>1.0</td>\n",
       "      <td>1.0</td>\n",
       "      <td>0.0</td>\n",
       "      <td>0.0</td>\n",
       "      <td>1.2.jpg</td>\n",
       "      <td>right</td>\n",
       "      <td>yes</td>\n",
       "      <td>yes</td>\n",
       "      <td>4.0</td>\n",
       "      <td>no</td>\n",
       "    </tr>\n",
       "    <tr>\n",
       "      <th>2</th>\n",
       "      <td>1</td>\n",
       "      <td>58</td>\n",
       "      <td>1</td>\n",
       "      <td>15.0</td>\n",
       "      <td>1.0</td>\n",
       "      <td>NaN</td>\n",
       "      <td>1.0</td>\n",
       "      <td>1.0</td>\n",
       "      <td>0.0</td>\n",
       "      <td>3.0</td>\n",
       "      <td>...</td>\n",
       "      <td>1.0</td>\n",
       "      <td>1.0</td>\n",
       "      <td>0.0</td>\n",
       "      <td>0.0</td>\n",
       "      <td>1.3.jpg</td>\n",
       "      <td>left</td>\n",
       "      <td>yes</td>\n",
       "      <td>yes</td>\n",
       "      <td>4.0</td>\n",
       "      <td>no</td>\n",
       "    </tr>\n",
       "    <tr>\n",
       "      <th>3</th>\n",
       "      <td>1</td>\n",
       "      <td>58</td>\n",
       "      <td>1</td>\n",
       "      <td>15.0</td>\n",
       "      <td>1.0</td>\n",
       "      <td>NaN</td>\n",
       "      <td>1.0</td>\n",
       "      <td>1.0</td>\n",
       "      <td>0.0</td>\n",
       "      <td>3.0</td>\n",
       "      <td>...</td>\n",
       "      <td>1.0</td>\n",
       "      <td>1.0</td>\n",
       "      <td>0.0</td>\n",
       "      <td>0.0</td>\n",
       "      <td>1.4.jpg</td>\n",
       "      <td>left</td>\n",
       "      <td>yes</td>\n",
       "      <td>yes</td>\n",
       "      <td>4.0</td>\n",
       "      <td>no</td>\n",
       "    </tr>\n",
       "    <tr>\n",
       "      <th>4</th>\n",
       "      <td>10</td>\n",
       "      <td>63</td>\n",
       "      <td>0</td>\n",
       "      <td>7.0</td>\n",
       "      <td>0.0</td>\n",
       "      <td>NaN</td>\n",
       "      <td>1.0</td>\n",
       "      <td>1.0</td>\n",
       "      <td>0.0</td>\n",
       "      <td>2.0</td>\n",
       "      <td>...</td>\n",
       "      <td>0.0</td>\n",
       "      <td>0.0</td>\n",
       "      <td>0.0</td>\n",
       "      <td>0.0</td>\n",
       "      <td>10.1.jpg</td>\n",
       "      <td>right</td>\n",
       "      <td>yes</td>\n",
       "      <td>yes</td>\n",
       "      <td>0.0</td>\n",
       "      <td>no</td>\n",
       "    </tr>\n",
       "  </tbody>\n",
       "</table>\n",
       "<p>5 rows × 24 columns</p>\n",
       "</div>"
      ],
      "text/plain": [
       "   patient age  sex  dm_time  insulin  insulin_time  oraltreatment_dm   \n",
       "0        1  58    1     15.0      1.0           NaN               1.0  \\\n",
       "1        1  58    1     15.0      1.0           NaN               1.0   \n",
       "2        1  58    1     15.0      1.0           NaN               1.0   \n",
       "3        1  58    1     15.0      1.0           NaN               1.0   \n",
       "4       10  63    0      7.0      0.0           NaN               1.0   \n",
       "\n",
       "   systemic_hypertension  insurance  educational_level  ...   \n",
       "0                    1.0        0.0                3.0  ...  \\\n",
       "1                    1.0        0.0                3.0  ...   \n",
       "2                    1.0        0.0                3.0  ...   \n",
       "3                    1.0        0.0                3.0  ...   \n",
       "4                    1.0        0.0                2.0  ...   \n",
       "\n",
       "   acute_myocardial_infarction  nephropathy  neuropathy  diabetic_foot   \n",
       "0                          1.0          1.0         0.0            0.0  \\\n",
       "1                          1.0          1.0         0.0            0.0   \n",
       "2                          1.0          1.0         0.0            0.0   \n",
       "3                          1.0          1.0         0.0            0.0   \n",
       "4                          0.0          0.0         0.0            0.0   \n",
       "\n",
       "       file  laterality  final_artifacts  final_quality final_icdr final_edema  \n",
       "0   1.1.jpg       right              yes            yes        4.0          no  \n",
       "1   1.2.jpg       right              yes            yes        4.0          no  \n",
       "2   1.3.jpg        left              yes            yes        4.0          no  \n",
       "3   1.4.jpg        left              yes            yes        4.0          no  \n",
       "4  10.1.jpg       right              yes            yes        0.0          no  \n",
       "\n",
       "[5 rows x 24 columns]"
      ]
     },
     "execution_count": 4,
     "metadata": {},
     "output_type": "execute_result"
    }
   ],
   "source": [
    "df = pd.read_csv(LABELS_PATH)\n",
    "print(df.shape)\n",
    "\n",
    "#Check for nans\n",
    "nan_counts = df.isna().sum()\n",
    "print(df.shape)\n",
    "print(nan_counts)\n",
    "# Fill missing labels as normal\n",
    "df[LABEL] = df[LABEL].fillna(0)\n",
    "df.head(5)"
   ]
  },
  {
   "cell_type": "code",
   "execution_count": 5,
   "id": "d2830ec9",
   "metadata": {},
   "outputs": [
    {
     "name": "stdout",
     "output_type": "stream",
     "text": [
      "Partitioning by patient\n",
      "Train data shape: (903, 2)\n",
      "Test data shape: (388, 2)\n"
     ]
    },
    {
     "data": {
      "image/png": "[encoded data removed]",
      "text/plain": [
       "<Figure size 1000x500 with 2 Axes>"
      ]
     },
     "metadata": {},
     "output_type": "display_data"
    },
    {
     "name": "stdout",
     "output_type": "stream",
     "text": [
      "Getting validation set...\n",
      "Train data shape: (310, 2)\n",
      "Test data shape: (78, 2)\n"
     ]
    },
    {
     "data": {
      "image/png": "[encoded data removed]",
      "text/plain": [
       "<Figure size 1000x500 with 2 Axes>"
      ]
     },
     "metadata": {},
     "output_type": "display_data"
    },
    {
     "name": "stdout",
     "output_type": "stream",
     "text": [
      "(312, 24)\n"
     ]
    }
   ],
   "source": [
    "df[LABEL] = df[LABEL].apply(lambda x: 'Normal' if x == 0.0 else ('DR'))\n",
    "if PARTITION_BY_PATIENT:\n",
    "    print('Partitioning by patient')\n",
    "    ## LOGIC for partitioning by patient\n",
    "    # Separate out patients for training and test\n",
    "    k = 4\n",
    "    df_subsampled = df.iloc[::k]\n",
    "    df_patient = df_subsampled[['patient',LABEL]]\n",
    "    df_patient.head()\n",
    "    #split=0.2\n",
    "    df_patient_train, df_patient_test = split_data(df_patient, LABEL, TEST_SIZE, undersample=False, random_state = 42)\n",
    "    # Now find all rows in df for the patients in df_train\n",
    "    train_patients = list(df_patient_train['patient'])\n",
    "    \n",
    "    df_train = df[df['patient'].isin(train_patients)]\n",
    "    \n",
    "    print('Getting validation set...')\n",
    "    \n",
    "    df_patient_test, df_patient_val = split_data(df_patient_test, LABEL, 0.20,random_state = 42)\n",
    "    test_patients = list(df_patient_test['patient'])\n",
    "    df_test = df[df['patient'].isin(test_patients)]\n",
    "    \n",
    "    val_patients = list(df_patient_val['patient'])\n",
    "    df_val = df[df['patient'].isin(val_patients)]\n",
    "    print(df_val.shape)\n",
    "else:\n",
    "    df_train, df_test = split_data(df, LABEL, TEST_SIZE, undersample=False, random_state=42)\n",
    "    df_test, df_val = split_data(df_test, LABEL, 0.20,random_state = 42)\n"
   ]
  },
  {
   "cell_type": "markdown",
   "id": "93e7975b",
   "metadata": {},
   "source": [
    "### Dataloaders"
   ]
  },
  {
   "cell_type": "code",
   "execution_count": 6,
   "id": "33f243f6",
   "metadata": {},
   "outputs": [
    {
     "name": "stdout",
     "output_type": "stream",
     "text": [
      "0           {DR}\n",
      "1           {DR}\n",
      "2           {DR}\n",
      "3           {DR}\n",
      "4       {Normal}\n",
      "          ...   \n",
      "5155    {Normal}\n",
      "5160    {Normal}\n",
      "5161    {Normal}\n",
      "5162    {Normal}\n",
      "5163    {Normal}\n",
      "Name: final_icdr, Length: 3612, dtype: object\n"
     ]
    }
   ],
   "source": [
    "# Train the one hot encoder on the train set and get the labels for the test and validation sets:\n",
    "train_labels, mlb, train_columns = process_labels(df_train, col=LABEL)\n"
   ]
  },
  {
   "cell_type": "code",
   "execution_count": 7,
   "id": "fb38e445",
   "metadata": {},
   "outputs": [],
   "source": [
    "\n",
    "# Define the target image shape\n",
    "SHAPE = (224, 224)  # Adjust to your desired image size\n",
    "\n",
    "#Here we have added additional transforms: color jitter and random vertical flip to the training image embeddings\n",
    "train_transforms = transforms.Compose([\n",
    "    transforms.Resize((256, 256)),\n",
    "    transforms.RandomRotation(90),  # Randomly rotate the image by up to 10 degrees\n",
    "    transforms.RandomCrop(SHAPE),\n",
    "    transforms.ToTensor(),\n",
    "    transforms.RandomHorizontalFlip(),  # Randomly flip the image horizontally\n",
    "    transforms.RandomVerticalFlip(),  # Randomly flip the image horizontally\n",
    "    transforms.ColorJitter(brightness=0.4, contrast=0.1, saturation=0.0, hue=0.0),\n",
    "\n",
    "])\n",
    "\n",
    "if NORM_MEAN is not None and NORM_STD is not None:\n",
    "    train_transforms.transforms.append(transforms.Normalize(mean=NORM_MEAN, std=NORM_STD))\n",
    "\n",
    "test_transform = transforms.Compose([\n",
    "    transforms.Resize(SHAPE),\n",
    "    transforms.ToTensor(),\n",
    "])\n",
    "\n",
    "if NORM_MEAN is not None and NORM_STD is not None:\n",
    "    test_transform.transforms.append(transforms.Normalize(mean=NORM_MEAN, std=NORM_STD))\n"
   ]
  },
  {
   "cell_type": "code",
   "execution_count": 8,
   "id": "5aa0b4e3",
   "metadata": {},
   "outputs": [
    {
     "name": "stdout",
     "output_type": "stream",
     "text": [
      "DF col dtype object final_icdr\n",
      "DF col dtype object final_icdr\n",
      "DF col dtype object final_icdr\n"
     ]
    }
   ],
   "source": [
    "# Create the custom datasets\n",
    "train_dataset = BRSETDataset(\n",
    "    df_train, \n",
    "    IMAGE_COL, \n",
    "    IMAGES, \n",
    "    LABEL, \n",
    "    mlb, \n",
    "    train_columns, \n",
    "    transform=train_transforms\n",
    ")\n",
    "\n",
    "test_dataset = BRSETDataset(\n",
    "    df_test, \n",
    "    IMAGE_COL, \n",
    "    IMAGES, \n",
    "    LABEL, \n",
    "    mlb, \n",
    "    train_columns, \n",
    "    transform=test_transform\n",
    ")\n",
    "\n",
    "val_dataset = BRSETDataset(\n",
    "    df_val, \n",
    "    IMAGE_COL, \n",
    "    IMAGES, \n",
    "    LABEL, \n",
    "    mlb, \n",
    "    train_columns, \n",
    "    transform=test_transform\n",
    ")\n",
    "\n",
    "#Create dataloaders\n",
    "train_dataloader = DataLoader(train_dataset, batch_size=BATCH_SIZE, shuffle=True, num_workers=NUM_WORKERS, pin_memory=True)\n",
    "test_dataloader = DataLoader(test_dataset, batch_size=BATCH_SIZE, shuffle=False, num_workers=NUM_WORKERS, pin_memory=True)\n",
    "val_dataloader = DataLoader(val_dataset, batch_size=BATCH_SIZE, shuffle=False, num_workers=NUM_WORKERS, pin_memory=True)"
   ]
  },
  {
   "cell_type": "code",
   "execution_count": 9,
   "id": "edec00bf",
   "metadata": {},
   "outputs": [
    {
     "name": "stderr",
     "output_type": "stream",
     "text": [
      "Clipping input data to the valid range for imshow with RGB data ([0..1] for floats or [0..255] for integers).\n",
      "Clipping input data to the valid range for imshow with RGB data ([0..1] for floats or [0..255] for integers).\n",
      "Clipping input data to the valid range for imshow with RGB data ([0..1] for floats or [0..255] for integers).\n",
      "Clipping input data to the valid range for imshow with RGB data ([0..1] for floats or [0..255] for integers).\n",
      "Clipping input data to the valid range for imshow with RGB data ([0..1] for floats or [0..255] for integers).\n",
      "Clipping input data to the valid range for imshow with RGB data ([0..1] for floats or [0..255] for integers).\n"
     ]
    },
    {
     "data": {
      "image/png": "[encoded data removed]",
      "text/plain": [
       "<Figure size 640x480 with 6 Axes>"
      ]
     },
     "metadata": {},
     "output_type": "display_data"
    }
   ],
   "source": [
    "# Print 6 samples with their labels\n",
    "# Iterate through the DataLoader and plot the images with labels after transforms\n",
    "for batch in train_dataloader:\n",
    "    images, labels = batch['image'], batch['labels']\n",
    "    for i in range(len(images)):\n",
    "        if i == 6:\n",
    "            break\n",
    "        plt.subplot(2, 3, i + 1)\n",
    "        plt.imshow(images[i].permute(1, 2, 0))  # Permute to (H, W, C) from (C, H, W)\n",
    "        plt.title(f\"Label: {labels[i]}\")\n",
    "        plt.axis('off')\n",
    "    plt.show()\n",
    "    break"
   ]
  },
  {
   "cell_type": "markdown",
   "id": "038f0fb7",
   "metadata": {},
   "source": [
    "### Model"
   ]
  },
  {
   "cell_type": "code",
   "execution_count": 10,
   "id": "8a652c24",
   "metadata": {},
   "outputs": [],
   "source": [
    "# Create the model\n",
    "backbone_model = FoundationalCVModel(backbone=BACKBONE, mode=MODE)\n",
    "model = FoundationalCVModelWithClassifier(backbone_model, relu= USE_RELU, hidden=HIDDEN, num_classes=num_classes, mode=MODE, backbone_mode=backbone_mode)\n",
    "model.to(device)\n",
    "\n",
    "# Use DataParallel to parallelize the model across multiple GPUs\n",
    "if torch.cuda.device_count() > 1:\n",
    "    print(\"Using\", torch.cuda.device_count(), \"GPUs!\")\n",
    "    model = nn.DataParallel(model, [0,1])"
   ]
  },
  {
   "cell_type": "markdown",
   "id": "7dc7e0f3",
   "metadata": {},
   "source": [
    "### Training:"
   ]
  },
  {
   "cell_type": "code",
   "execution_count": 11,
   "id": "a49bc284",
   "metadata": {},
   "outputs": [
    {
     "name": "stdout",
     "output_type": "stream",
     "text": [
      "[0 0 0 ... 1 1 1]\n"
     ]
    }
   ],
   "source": [
    "if LOSS == 'focal_loss':\n",
    "    class_distribution = train_dataloader.dataset.labels.sum(axis=0)\n",
    "    print(f'Class distribution: {class_distribution}')\n",
    "    class_dis = np.array(class_distribution)\n",
    "    class_weights =1-class_dis/np.sum(class_dis)\n",
    "    weights = torch.tensor(class_weights).to(device)\n",
    "    #criterion = FocalLoss()  # Focal Loss\n",
    "    criterion = FocalLoss(gamma=2, alpha=weights)\n",
    "else:\n",
    "    # Assuming train_loader.dataset.labels is a one-hot representation\n",
    "    class_indices = np.argmax(train_dataloader.dataset.labels, axis=1)\n",
    "    print(class_indices)\n",
    "    # Compute class weights using class indices\n",
    "    class_weights = compute_class_weight('balanced', classes=np.unique(class_indices), y=class_indices)\n",
    "    class_weights = torch.tensor(class_weights, dtype=torch.float32)\n",
    "    criterion = nn.CrossEntropyLoss(weight=class_weights).to(device)\n",
    "    #criterion = nn.BCEWithLogitsLoss() # Binary Cross-Entropy Loss\n",
    "\n",
    "if OPTIMIZER == 'adam':\n",
    "    optimizer = optim.Adam(model.parameters(), lr=learning_rate)\n",
    "elif OPTIMIZER == 'adamw':\n",
    "    optimizer = optim.AdamW(model.parameters(), lr=learning_rate)\n",
    "else:\n",
    "    optimizer = optim.SGD(model.parameters(), lr=learning_rate, momentum=0.9)"
   ]
  },
  {
   "cell_type": "code",
   "execution_count": 12,
   "id": "264f3f1f",
   "metadata": {},
   "outputs": [
    {
     "name": "stdout",
     "output_type": "stream",
     "text": [
      "AMP True\n"
     ]
    },
    {
     "name": "stderr",
     "output_type": "stream",
     "text": [
      "100%|██████████████████████████████████████████████████████████████████████████████████| 57/57 [00:55<00:00,  1.02it/s]\n"
     ]
    },
    {
     "name": "stdout",
     "output_type": "stream",
     "text": [
      "Epoch 1\n",
      "Train loss 0.672, F1 0.506, Acc 0.527, BA 0.605\n",
      "cm[[ 585  201]\n",
      " [1509 1317]]\n"
     ]
    },
    {
     "name": "stderr",
     "output_type": "stream",
     "text": [
      "100%|████████████████████████████████████████████████████████████████████████████████████| 5/5 [00:17<00:00,  3.43s/it]\n"
     ]
    },
    {
     "name": "stdout",
     "output_type": "stream",
     "text": [
      "Epoch 1\n",
      "Val loss 0.642, F1 0.529, Acc 0.545, BA 0.636\n",
      "cm[[ 56  14]\n",
      " [128 114]]\n"
     ]
    },
    {
     "name": "stderr",
     "output_type": "stream",
     "text": [
      "100%|██████████████████████████████████████████████████████████████████████████████████| 20/20 [00:27<00:00,  1.36s/it]\n"
     ]
    },
    {
     "name": "stdout",
     "output_type": "stream",
     "text": [
      "cm[[226  52]\n",
      " [519 443]]\n",
      "              precision    recall  f1-score   support\n",
      "\n",
      "           0       0.30      0.81      0.44       278\n",
      "           1       0.89      0.46      0.61       962\n",
      "\n",
      "    accuracy                           0.54      1240\n",
      "   macro avg       0.60      0.64      0.52      1240\n",
      "weighted avg       0.76      0.54      0.57      1240\n",
      "\n",
      "F1 0.571, Acc 0.540, BA 0.637\n",
      "Saving\n"
     ]
    },
    {
     "name": "stderr",
     "output_type": "stream",
     "text": [
      "100%|██████████████████████████████████████████████████████████████████████████████████| 57/57 [00:54<00:00,  1.04it/s]\n"
     ]
    },
    {
     "name": "stdout",
     "output_type": "stream",
     "text": [
      "Epoch 2\n",
      "Train loss 0.576, F1 0.704, Acc 0.785, BA 0.719\n",
      "cm[[ 473  313]\n",
      " [ 462 2364]]\n"
     ]
    },
    {
     "name": "stderr",
     "output_type": "stream",
     "text": [
      "100%|████████████████████████████████████████████████████████████████████████████████████| 5/5 [00:17<00:00,  3.56s/it]\n"
     ]
    },
    {
     "name": "stdout",
     "output_type": "stream",
     "text": [
      "Epoch 2\n",
      "Val loss 0.602, F1 0.639, Acc 0.696, BA 0.687\n",
      "cm[[ 47  23]\n",
      " [ 72 170]]\n"
     ]
    },
    {
     "name": "stderr",
     "output_type": "stream",
     "text": [
      "100%|██████████████████████████████████████████████████████████████████████████████████| 20/20 [00:25<00:00,  1.29s/it]\n"
     ]
    },
    {
     "name": "stdout",
     "output_type": "stream",
     "text": [
      "cm[[193  85]\n",
      " [282 680]]\n",
      "              precision    recall  f1-score   support\n",
      "\n",
      "           0       0.41      0.69      0.51       278\n",
      "           1       0.89      0.71      0.79       962\n",
      "\n",
      "    accuracy                           0.70      1240\n",
      "   macro avg       0.65      0.70      0.65      1240\n",
      "weighted avg       0.78      0.70      0.73      1240\n",
      "\n",
      "F1 0.726, Acc 0.704, BA 0.701\n",
      "Saving\n"
     ]
    },
    {
     "name": "stderr",
     "output_type": "stream",
     "text": [
      "100%|██████████████████████████████████████████████████████████████████████████████████| 57/57 [00:55<00:00,  1.03it/s]\n"
     ]
    },
    {
     "name": "stdout",
     "output_type": "stream",
     "text": [
      "Epoch 3\n",
      "Train loss 0.504, F1 0.742, Acc 0.816, BA 0.755\n",
      "cm[[ 510  276]\n",
      " [ 390 2436]]\n"
     ]
    },
    {
     "name": "stderr",
     "output_type": "stream",
     "text": [
      "100%|████████████████████████████████████████████████████████████████████████████████████| 5/5 [00:16<00:00,  3.39s/it]\n"
     ]
    },
    {
     "name": "stdout",
     "output_type": "stream",
     "text": [
      "Epoch 3\n",
      "Val loss 0.558, F1 0.667, Acc 0.744, BA 0.687\n",
      "cm[[ 41  29]\n",
      " [ 51 191]]\n"
     ]
    },
    {
     "name": "stderr",
     "output_type": "stream",
     "text": [
      "100%|██████████████████████████████████████████████████████████████████████████████████| 20/20 [00:29<00:00,  1.45s/it]\n"
     ]
    },
    {
     "name": "stdout",
     "output_type": "stream",
     "text": [
      "cm[[185  93]\n",
      " [202 760]]\n",
      "              precision    recall  f1-score   support\n",
      "\n",
      "           0       0.48      0.67      0.56       278\n",
      "           1       0.89      0.79      0.84       962\n",
      "\n",
      "    accuracy                           0.76      1240\n",
      "   macro avg       0.68      0.73      0.70      1240\n",
      "weighted avg       0.80      0.76      0.77      1240\n",
      "\n",
      "F1 0.774, Acc 0.762, BA 0.728\n",
      "Saving\n"
     ]
    },
    {
     "name": "stderr",
     "output_type": "stream",
     "text": [
      "100%|██████████████████████████████████████████████████████████████████████████████████| 57/57 [00:54<00:00,  1.04it/s]\n"
     ]
    },
    {
     "name": "stdout",
     "output_type": "stream",
     "text": [
      "Epoch 4\n",
      "Train loss 0.468, F1 0.762, Acc 0.829, BA 0.778\n",
      "cm[[ 540  246]\n",
      " [ 371 2455]]\n"
     ]
    },
    {
     "name": "stderr",
     "output_type": "stream",
     "text": [
      "100%|████████████████████████████████████████████████████████████████████████████████████| 5/5 [00:15<00:00,  3.16s/it]\n"
     ]
    },
    {
     "name": "stdout",
     "output_type": "stream",
     "text": [
      "Epoch 4\n",
      "Val loss 0.540, F1 0.733, Acc 0.795, BA 0.761\n",
      "cm[[ 49  21]\n",
      " [ 43 199]]\n"
     ]
    },
    {
     "name": "stderr",
     "output_type": "stream",
     "text": [
      "100%|██████████████████████████████████████████████████████████████████████████████████| 20/20 [00:27<00:00,  1.35s/it]\n"
     ]
    },
    {
     "name": "stdout",
     "output_type": "stream",
     "text": [
      "cm[[193  85]\n",
      " [186 776]]\n",
      "              precision    recall  f1-score   support\n",
      "\n",
      "           0       0.51      0.69      0.59       278\n",
      "           1       0.90      0.81      0.85       962\n",
      "\n",
      "    accuracy                           0.78      1240\n",
      "   macro avg       0.71      0.75      0.72      1240\n",
      "weighted avg       0.81      0.78      0.79      1240\n",
      "\n",
      "F1 0.792, Acc 0.781, BA 0.750\n",
      "Saving\n"
     ]
    },
    {
     "name": "stderr",
     "output_type": "stream",
     "text": [
      "100%|██████████████████████████████████████████████████████████████████████████████████| 57/57 [00:54<00:00,  1.04it/s]\n"
     ]
    },
    {
     "name": "stdout",
     "output_type": "stream",
     "text": [
      "Epoch 5\n",
      "Train loss 0.441, F1 0.777, Acc 0.838, BA 0.796\n",
      "cm[[ 567  219]\n",
      " [ 366 2460]]\n"
     ]
    },
    {
     "name": "stderr",
     "output_type": "stream",
     "text": [
      "100%|████████████████████████████████████████████████████████████████████████████████████| 5/5 [00:15<00:00,  3.16s/it]\n"
     ]
    },
    {
     "name": "stdout",
     "output_type": "stream",
     "text": [
      "Epoch 5\n",
      "Val loss 0.518, F1 0.742, Acc 0.801, BA 0.770\n",
      "cm[[ 50  20]\n",
      " [ 42 200]]\n"
     ]
    },
    {
     "name": "stderr",
     "output_type": "stream",
     "text": [
      "100%|██████████████████████████████████████████████████████████████████████████████████| 20/20 [00:26<00:00,  1.31s/it]\n"
     ]
    },
    {
     "name": "stdout",
     "output_type": "stream",
     "text": [
      "cm[[197  81]\n",
      " [179 783]]\n",
      "              precision    recall  f1-score   support\n",
      "\n",
      "           0       0.52      0.71      0.60       278\n",
      "           1       0.91      0.81      0.86       962\n",
      "\n",
      "    accuracy                           0.79      1240\n",
      "   macro avg       0.72      0.76      0.73      1240\n",
      "weighted avg       0.82      0.79      0.80      1240\n",
      "\n",
      "F1 0.800, Acc 0.790, BA 0.761\n",
      "Saving\n"
     ]
    },
    {
     "name": "stderr",
     "output_type": "stream",
     "text": [
      "100%|██████████████████████████████████████████████████████████████████████████████████| 57/57 [00:55<00:00,  1.04it/s]\n"
     ]
    },
    {
     "name": "stdout",
     "output_type": "stream",
     "text": [
      "Epoch 6\n",
      "Train loss 0.422, F1 0.792, Acc 0.851, BA 0.808\n",
      "cm[[ 575  211]\n",
      " [ 326 2500]]\n"
     ]
    },
    {
     "name": "stderr",
     "output_type": "stream",
     "text": [
      "100%|████████████████████████████████████████████████████████████████████████████████████| 5/5 [00:16<00:00,  3.22s/it]\n"
     ]
    },
    {
     "name": "stdout",
     "output_type": "stream",
     "text": [
      "Epoch 6\n",
      "Val loss 0.513, F1 0.739, Acc 0.817, BA 0.740\n",
      "cm[[ 42  28]\n",
      " [ 29 213]]\n"
     ]
    },
    {
     "name": "stderr",
     "output_type": "stream",
     "text": [
      "100%|██████████████████████████████████████████████████████████████████████████████████| 20/20 [00:26<00:00,  1.33s/it]\n"
     ]
    },
    {
     "name": "stdout",
     "output_type": "stream",
     "text": [
      "cm[[181  97]\n",
      " [119 843]]\n",
      "              precision    recall  f1-score   support\n",
      "\n",
      "           0       0.60      0.65      0.63       278\n",
      "           1       0.90      0.88      0.89       962\n",
      "\n",
      "    accuracy                           0.83      1240\n",
      "   macro avg       0.75      0.76      0.76      1240\n",
      "weighted avg       0.83      0.83      0.83      1240\n",
      "\n",
      "F1 0.828, Acc 0.826, BA 0.764\n"
     ]
    },
    {
     "name": "stderr",
     "output_type": "stream",
     "text": [
      "100%|██████████████████████████████████████████████████████████████████████████████████| 57/57 [00:55<00:00,  1.03it/s]\n"
     ]
    },
    {
     "name": "stdout",
     "output_type": "stream",
     "text": [
      "Epoch 7\n",
      "Train loss 0.386, F1 0.809, Acc 0.863, BA 0.828\n",
      "cm[[ 603  183]\n",
      " [ 313 2513]]\n"
     ]
    },
    {
     "name": "stderr",
     "output_type": "stream",
     "text": [
      "100%|████████████████████████████████████████████████████████████████████████████████████| 5/5 [00:16<00:00,  3.37s/it]\n"
     ]
    },
    {
     "name": "stdout",
     "output_type": "stream",
     "text": [
      "Epoch 7\n",
      "Val loss 0.499, F1 0.750, Acc 0.808, BA 0.780\n",
      "cm[[ 51  19]\n",
      " [ 41 201]]\n"
     ]
    },
    {
     "name": "stderr",
     "output_type": "stream",
     "text": [
      "100%|██████████████████████████████████████████████████████████████████████████████████| 20/20 [00:25<00:00,  1.29s/it]\n"
     ]
    },
    {
     "name": "stdout",
     "output_type": "stream",
     "text": [
      "cm[[205  73]\n",
      " [178 784]]\n",
      "              precision    recall  f1-score   support\n",
      "\n",
      "           0       0.54      0.74      0.62       278\n",
      "           1       0.91      0.81      0.86       962\n",
      "\n",
      "    accuracy                           0.80      1240\n",
      "   macro avg       0.73      0.78      0.74      1240\n",
      "weighted avg       0.83      0.80      0.81      1240\n",
      "\n",
      "F1 0.808, Acc 0.798, BA 0.776\n",
      "Saving\n"
     ]
    },
    {
     "name": "stderr",
     "output_type": "stream",
     "text": [
      "100%|██████████████████████████████████████████████████████████████████████████████████| 57/57 [00:53<00:00,  1.06it/s]\n"
     ]
    },
    {
     "name": "stdout",
     "output_type": "stream",
     "text": [
      "Epoch 8\n",
      "Train loss 0.390, F1 0.804, Acc 0.857, BA 0.827\n",
      "cm[[ 607  179]\n",
      " [ 337 2489]]\n"
     ]
    },
    {
     "name": "stderr",
     "output_type": "stream",
     "text": [
      "100%|████████████████████████████████████████████████████████████████████████████████████| 5/5 [00:23<00:00,  4.68s/it]\n"
     ]
    },
    {
     "name": "stdout",
     "output_type": "stream",
     "text": [
      "Epoch 8\n",
      "Val loss 0.509, F1 0.742, Acc 0.811, BA 0.756\n",
      "cm[[ 46  24]\n",
      " [ 35 207]]\n"
     ]
    },
    {
     "name": "stderr",
     "output_type": "stream",
     "text": [
      "100%|██████████████████████████████████████████████████████████████████████████████████| 20/20 [00:30<00:00,  1.53s/it]\n"
     ]
    },
    {
     "name": "stdout",
     "output_type": "stream",
     "text": [
      "cm[[194  84]\n",
      " [133 829]]\n",
      "              precision    recall  f1-score   support\n",
      "\n",
      "           0       0.59      0.70      0.64       278\n",
      "           1       0.91      0.86      0.88       962\n",
      "\n",
      "    accuracy                           0.82      1240\n",
      "   macro avg       0.75      0.78      0.76      1240\n",
      "weighted avg       0.84      0.82      0.83      1240\n",
      "\n",
      "F1 0.830, Acc 0.825, BA 0.780\n"
     ]
    },
    {
     "name": "stderr",
     "output_type": "stream",
     "text": [
      "100%|██████████████████████████████████████████████████████████████████████████████████| 57/57 [00:59<00:00,  1.05s/it]\n"
     ]
    },
    {
     "name": "stdout",
     "output_type": "stream",
     "text": [
      "Epoch 9\n",
      "Train loss 0.378, F1 0.811, Acc 0.864, BA 0.831\n",
      "cm[[ 609  177]\n",
      " [ 316 2510]]\n"
     ]
    },
    {
     "name": "stderr",
     "output_type": "stream",
     "text": [
      "100%|████████████████████████████████████████████████████████████████████████████████████| 5/5 [00:15<00:00,  3.20s/it]\n"
     ]
    },
    {
     "name": "stdout",
     "output_type": "stream",
     "text": [
      "Epoch 9\n",
      "Val loss 0.517, F1 0.755, Acc 0.830, BA 0.753\n",
      "cm[[ 43  27]\n",
      " [ 26 216]]\n"
     ]
    },
    {
     "name": "stderr",
     "output_type": "stream",
     "text": [
      "100%|██████████████████████████████████████████████████████████████████████████████████| 20/20 [00:25<00:00,  1.25s/it]\n"
     ]
    },
    {
     "name": "stdout",
     "output_type": "stream",
     "text": [
      "cm[[189  89]\n",
      " [125 837]]\n",
      "              precision    recall  f1-score   support\n",
      "\n",
      "           0       0.60      0.68      0.64       278\n",
      "           1       0.90      0.87      0.89       962\n",
      "\n",
      "    accuracy                           0.83      1240\n",
      "   macro avg       0.75      0.77      0.76      1240\n",
      "weighted avg       0.84      0.83      0.83      1240\n",
      "\n",
      "F1 0.831, Acc 0.827, BA 0.775\n",
      "Saving\n"
     ]
    },
    {
     "name": "stderr",
     "output_type": "stream",
     "text": [
      "100%|██████████████████████████████████████████████████████████████████████████████████| 57/57 [00:52<00:00,  1.08it/s]\n"
     ]
    },
    {
     "name": "stdout",
     "output_type": "stream",
     "text": [
      "Epoch 10\n",
      "Train loss 0.362, F1 0.815, Acc 0.865, BA 0.840\n",
      "cm[[ 625  161]\n",
      " [ 328 2498]]\n"
     ]
    },
    {
     "name": "stderr",
     "output_type": "stream",
     "text": [
      "100%|████████████████████████████████████████████████████████████████████████████████████| 5/5 [00:15<00:00,  3.12s/it]\n"
     ]
    },
    {
     "name": "stdout",
     "output_type": "stream",
     "text": [
      "Epoch 10\n",
      "Val loss 0.513, F1 0.733, Acc 0.801, BA 0.750\n",
      "cm[[ 46  24]\n",
      " [ 38 204]]\n"
     ]
    },
    {
     "name": "stderr",
     "output_type": "stream",
     "text": [
      "100%|██████████████████████████████████████████████████████████████████████████████████| 20/20 [00:24<00:00,  1.24s/it]\n"
     ]
    },
    {
     "name": "stdout",
     "output_type": "stream",
     "text": [
      "cm[[203  75]\n",
      " [152 810]]\n",
      "              precision    recall  f1-score   support\n",
      "\n",
      "           0       0.57      0.73      0.64       278\n",
      "           1       0.92      0.84      0.88       962\n",
      "\n",
      "    accuracy                           0.82      1240\n",
      "   macro avg       0.74      0.79      0.76      1240\n",
      "weighted avg       0.84      0.82      0.82      1240\n",
      "\n",
      "F1 0.824, Acc 0.817, BA 0.786\n"
     ]
    },
    {
     "name": "stderr",
     "output_type": "stream",
     "text": [
      "100%|██████████████████████████████████████████████████████████████████████████████████| 57/57 [00:53<00:00,  1.07it/s]\n"
     ]
    },
    {
     "name": "stdout",
     "output_type": "stream",
     "text": [
      "Epoch 11\n",
      "Train loss 0.353, F1 0.814, Acc 0.863, BA 0.840\n",
      "cm[[ 627  159]\n",
      " [ 335 2491]]\n"
     ]
    },
    {
     "name": "stderr",
     "output_type": "stream",
     "text": [
      "100%|████████████████████████████████████████████████████████████████████████████████████| 5/5 [00:15<00:00,  3.09s/it]\n"
     ]
    },
    {
     "name": "stdout",
     "output_type": "stream",
     "text": [
      "Epoch 11\n",
      "Val loss 0.545, F1 0.763, Acc 0.843, BA 0.752\n",
      "cm[[ 41  29]\n",
      " [ 20 222]]\n"
     ]
    },
    {
     "name": "stderr",
     "output_type": "stream",
     "text": [
      "100%|██████████████████████████████████████████████████████████████████████████████████| 20/20 [00:24<00:00,  1.25s/it]\n"
     ]
    },
    {
     "name": "stdout",
     "output_type": "stream",
     "text": [
      "cm[[181  97]\n",
      " [ 80 882]]\n",
      "              precision    recall  f1-score   support\n",
      "\n",
      "           0       0.69      0.65      0.67       278\n",
      "           1       0.90      0.92      0.91       962\n",
      "\n",
      "    accuracy                           0.86      1240\n",
      "   macro avg       0.80      0.78      0.79      1240\n",
      "weighted avg       0.85      0.86      0.86      1240\n",
      "\n",
      "F1 0.856, Acc 0.857, BA 0.784\n",
      "Saving\n"
     ]
    },
    {
     "name": "stderr",
     "output_type": "stream",
     "text": [
      "100%|██████████████████████████████████████████████████████████████████████████████████| 57/57 [00:51<00:00,  1.10it/s]\n"
     ]
    },
    {
     "name": "stdout",
     "output_type": "stream",
     "text": [
      "Epoch 12\n",
      "Train loss 0.355, F1 0.819, Acc 0.870, BA 0.837\n",
      "cm[[ 613  173]\n",
      " [ 297 2529]]\n"
     ]
    },
    {
     "name": "stderr",
     "output_type": "stream",
     "text": [
      "100%|████████████████████████████████████████████████████████████████████████████████████| 5/5 [00:16<00:00,  3.21s/it]\n"
     ]
    },
    {
     "name": "stdout",
     "output_type": "stream",
     "text": [
      "Epoch 12\n",
      "Val loss 0.534, F1 0.741, Acc 0.814, BA 0.748\n",
      "cm[[ 44  26]\n",
      " [ 32 210]]\n"
     ]
    },
    {
     "name": "stderr",
     "output_type": "stream",
     "text": [
      "100%|██████████████████████████████████████████████████████████████████████████████████| 20/20 [00:24<00:00,  1.23s/it]\n"
     ]
    },
    {
     "name": "stdout",
     "output_type": "stream",
     "text": [
      "cm[[198  80]\n",
      " [126 836]]\n",
      "              precision    recall  f1-score   support\n",
      "\n",
      "           0       0.61      0.71      0.66       278\n",
      "           1       0.91      0.87      0.89       962\n",
      "\n",
      "    accuracy                           0.83      1240\n",
      "   macro avg       0.76      0.79      0.77      1240\n",
      "weighted avg       0.85      0.83      0.84      1240\n",
      "\n",
      "F1 0.838, Acc 0.834, BA 0.791\n"
     ]
    },
    {
     "name": "stderr",
     "output_type": "stream",
     "text": [
      "100%|██████████████████████████████████████████████████████████████████████████████████| 57/57 [00:54<00:00,  1.04it/s]\n"
     ]
    },
    {
     "name": "stdout",
     "output_type": "stream",
     "text": [
      "Epoch 13\n",
      "Train loss 0.341, F1 0.828, Acc 0.874, BA 0.855\n",
      "cm[[ 645  141]\n",
      " [ 315 2511]]\n"
     ]
    },
    {
     "name": "stderr",
     "output_type": "stream",
     "text": [
      "100%|████████████████████████████████████████████████████████████████████████████████████| 5/5 [00:17<00:00,  3.45s/it]\n"
     ]
    },
    {
     "name": "stdout",
     "output_type": "stream",
     "text": [
      "Epoch 13\n",
      "Val loss 0.534, F1 0.748, Acc 0.824, BA 0.749\n",
      "cm[[ 43  27]\n",
      " [ 28 214]]\n"
     ]
    },
    {
     "name": "stderr",
     "output_type": "stream",
     "text": [
      "100%|██████████████████████████████████████████████████████████████████████████████████| 20/20 [00:26<00:00,  1.34s/it]\n"
     ]
    },
    {
     "name": "stdout",
     "output_type": "stream",
     "text": [
      "cm[[197  81]\n",
      " [111 851]]\n",
      "              precision    recall  f1-score   support\n",
      "\n",
      "           0       0.64      0.71      0.67       278\n",
      "           1       0.91      0.88      0.90       962\n",
      "\n",
      "    accuracy                           0.85      1240\n",
      "   macro avg       0.78      0.80      0.79      1240\n",
      "weighted avg       0.85      0.85      0.85      1240\n",
      "\n",
      "F1 0.848, Acc 0.845, BA 0.797\n"
     ]
    },
    {
     "name": "stderr",
     "output_type": "stream",
     "text": [
      "100%|██████████████████████████████████████████████████████████████████████████████████| 57/57 [00:52<00:00,  1.08it/s]\n"
     ]
    },
    {
     "name": "stdout",
     "output_type": "stream",
     "text": [
      "Epoch 14\n",
      "Train loss 0.315, F1 0.844, Acc 0.889, BA 0.861\n",
      "cm[[ 639  147]\n",
      " [ 255 2571]]\n"
     ]
    },
    {
     "name": "stderr",
     "output_type": "stream",
     "text": [
      "100%|████████████████████████████████████████████████████████████████████████████████████| 5/5 [00:15<00:00,  3.05s/it]\n"
     ]
    },
    {
     "name": "stdout",
     "output_type": "stream",
     "text": [
      "Epoch 14\n",
      "Val loss 0.577, F1 0.759, Acc 0.849, BA 0.735\n",
      "cm[[ 37  33]\n",
      " [ 14 228]]\n"
     ]
    },
    {
     "name": "stderr",
     "output_type": "stream",
     "text": [
      "100%|██████████████████████████████████████████████████████████████████████████████████| 20/20 [00:26<00:00,  1.34s/it]\n"
     ]
    },
    {
     "name": "stdout",
     "output_type": "stream",
     "text": [
      "cm[[171 107]\n",
      " [ 65 897]]\n",
      "              precision    recall  f1-score   support\n",
      "\n",
      "           0       0.72      0.62      0.67       278\n",
      "           1       0.89      0.93      0.91       962\n",
      "\n",
      "    accuracy                           0.86      1240\n",
      "   macro avg       0.81      0.77      0.79      1240\n",
      "weighted avg       0.86      0.86      0.86      1240\n",
      "\n",
      "F1 0.857, Acc 0.861, BA 0.774\n"
     ]
    },
    {
     "name": "stderr",
     "output_type": "stream",
     "text": [
      "100%|██████████████████████████████████████████████████████████████████████████████████| 57/57 [00:55<00:00,  1.04it/s]\n"
     ]
    },
    {
     "name": "stdout",
     "output_type": "stream",
     "text": [
      "Epoch 15\n",
      "Train loss 0.307, F1 0.840, Acc 0.883, BA 0.869\n",
      "cm[[ 665  121]\n",
      " [ 303 2523]]\n"
     ]
    },
    {
     "name": "stderr",
     "output_type": "stream",
     "text": [
      "100%|████████████████████████████████████████████████████████████████████████████████████| 5/5 [00:15<00:00,  3.18s/it]\n"
     ]
    },
    {
     "name": "stdout",
     "output_type": "stream",
     "text": [
      "Epoch 15\n",
      "Val loss 0.553, F1 0.775, Acc 0.849, BA 0.766\n",
      "cm[[ 43  27]\n",
      " [ 20 222]]\n"
     ]
    },
    {
     "name": "stderr",
     "output_type": "stream",
     "text": [
      "100%|██████████████████████████████████████████████████████████████████████████████████| 20/20 [00:24<00:00,  1.24s/it]\n"
     ]
    },
    {
     "name": "stdout",
     "output_type": "stream",
     "text": [
      "cm[[191  87]\n",
      " [101 861]]\n",
      "              precision    recall  f1-score   support\n",
      "\n",
      "           0       0.65      0.69      0.67       278\n",
      "           1       0.91      0.90      0.90       962\n",
      "\n",
      "    accuracy                           0.85      1240\n",
      "   macro avg       0.78      0.79      0.79      1240\n",
      "weighted avg       0.85      0.85      0.85      1240\n",
      "\n",
      "F1 0.850, Acc 0.848, BA 0.791\n",
      "Saving\n"
     ]
    },
    {
     "name": "stderr",
     "output_type": "stream",
     "text": [
      "100%|██████████████████████████████████████████████████████████████████████████████████| 57/57 [00:53<00:00,  1.07it/s]\n"
     ]
    },
    {
     "name": "stdout",
     "output_type": "stream",
     "text": [
      "Epoch 16\n",
      "Train loss 0.320, F1 0.840, Acc 0.884, BA 0.863\n",
      "cm[[ 649  137]\n",
      " [ 281 2545]]\n"
     ]
    },
    {
     "name": "stderr",
     "output_type": "stream",
     "text": [
      "100%|████████████████████████████████████████████████████████████████████████████████████| 5/5 [00:15<00:00,  3.14s/it]\n"
     ]
    },
    {
     "name": "stdout",
     "output_type": "stream",
     "text": [
      "Epoch 16\n",
      "Val loss 0.567, F1 0.761, Acc 0.846, BA 0.743\n",
      "cm[[ 39  31]\n",
      " [ 17 225]]\n"
     ]
    },
    {
     "name": "stderr",
     "output_type": "stream",
     "text": [
      "100%|██████████████████████████████████████████████████████████████████████████████████| 20/20 [00:27<00:00,  1.39s/it]\n"
     ]
    },
    {
     "name": "stdout",
     "output_type": "stream",
     "text": [
      "cm[[177 101]\n",
      " [ 69 893]]\n",
      "              precision    recall  f1-score   support\n",
      "\n",
      "           0       0.72      0.64      0.68       278\n",
      "           1       0.90      0.93      0.91       962\n",
      "\n",
      "    accuracy                           0.86      1240\n",
      "   macro avg       0.81      0.78      0.79      1240\n",
      "weighted avg       0.86      0.86      0.86      1240\n",
      "\n",
      "F1 0.860, Acc 0.863, BA 0.782\n"
     ]
    },
    {
     "name": "stderr",
     "output_type": "stream",
     "text": [
      "100%|██████████████████████████████████████████████████████████████████████████████████| 57/57 [00:55<00:00,  1.02it/s]\n"
     ]
    },
    {
     "name": "stdout",
     "output_type": "stream",
     "text": [
      "Epoch 17\n",
      "Train loss 0.307, F1 0.852, Acc 0.892, BA 0.878\n",
      "cm[[ 671  115]\n",
      " [ 276 2550]]\n"
     ]
    },
    {
     "name": "stderr",
     "output_type": "stream",
     "text": [
      "100%|████████████████████████████████████████████████████████████████████████████████████| 5/5 [00:16<00:00,  3.35s/it]\n"
     ]
    },
    {
     "name": "stdout",
     "output_type": "stream",
     "text": [
      "Epoch 17\n",
      "Val loss 0.568, F1 0.756, Acc 0.833, BA 0.750\n",
      "cm[[ 42  28]\n",
      " [ 24 218]]\n"
     ]
    },
    {
     "name": "stderr",
     "output_type": "stream",
     "text": [
      "100%|██████████████████████████████████████████████████████████████████████████████████| 20/20 [00:27<00:00,  1.36s/it]\n"
     ]
    },
    {
     "name": "stdout",
     "output_type": "stream",
     "text": [
      "cm[[188  90]\n",
      " [ 92 870]]\n",
      "              precision    recall  f1-score   support\n",
      "\n",
      "           0       0.67      0.68      0.67       278\n",
      "           1       0.91      0.90      0.91       962\n",
      "\n",
      "    accuracy                           0.85      1240\n",
      "   macro avg       0.79      0.79      0.79      1240\n",
      "weighted avg       0.85      0.85      0.85      1240\n",
      "\n",
      "F1 0.853, Acc 0.853, BA 0.790\n"
     ]
    },
    {
     "name": "stderr",
     "output_type": "stream",
     "text": [
      "100%|██████████████████████████████████████████████████████████████████████████████████| 57/57 [00:54<00:00,  1.05it/s]\n"
     ]
    },
    {
     "name": "stdout",
     "output_type": "stream",
     "text": [
      "Epoch 18\n",
      "Train loss 0.305, F1 0.845, Acc 0.887, BA 0.868\n",
      "cm[[ 656  130]\n",
      " [ 277 2549]]\n"
     ]
    },
    {
     "name": "stderr",
     "output_type": "stream",
     "text": [
      "100%|████████████████████████████████████████████████████████████████████████████████████| 5/5 [00:17<00:00,  3.54s/it]\n"
     ]
    },
    {
     "name": "stdout",
     "output_type": "stream",
     "text": [
      "Epoch 18\n",
      "Val loss 0.579, F1 0.741, Acc 0.830, BA 0.728\n",
      "cm[[ 38  32]\n",
      " [ 21 221]]\n"
     ]
    },
    {
     "name": "stderr",
     "output_type": "stream",
     "text": [
      "100%|██████████████████████████████████████████████████████████████████████████████████| 20/20 [00:25<00:00,  1.29s/it]\n"
     ]
    },
    {
     "name": "stdout",
     "output_type": "stream",
     "text": [
      "cm[[184  94]\n",
      " [102 860]]\n",
      "              precision    recall  f1-score   support\n",
      "\n",
      "           0       0.64      0.66      0.65       278\n",
      "           1       0.90      0.89      0.90       962\n",
      "\n",
      "    accuracy                           0.84      1240\n",
      "   macro avg       0.77      0.78      0.78      1240\n",
      "weighted avg       0.84      0.84      0.84      1240\n",
      "\n",
      "F1 0.843, Acc 0.842, BA 0.778\n"
     ]
    },
    {
     "name": "stderr",
     "output_type": "stream",
     "text": [
      "100%|██████████████████████████████████████████████████████████████████████████████████| 57/57 [00:55<00:00,  1.03it/s]\n"
     ]
    },
    {
     "name": "stdout",
     "output_type": "stream",
     "text": [
      "Epoch 19\n",
      "Train loss 0.292, F1 0.851, Acc 0.892, BA 0.874\n",
      "cm[[ 662  124]\n",
      " [ 265 2561]]\n"
     ]
    },
    {
     "name": "stderr",
     "output_type": "stream",
     "text": [
      "100%|████████████████████████████████████████████████████████████████████████████████████| 5/5 [00:15<00:00,  3.14s/it]\n"
     ]
    },
    {
     "name": "stdout",
     "output_type": "stream",
     "text": [
      "Epoch 19\n",
      "Val loss 0.568, F1 0.737, Acc 0.821, BA 0.732\n",
      "cm[[ 40  30]\n",
      " [ 26 216]]\n"
     ]
    },
    {
     "name": "stderr",
     "output_type": "stream",
     "text": [
      "100%|██████████████████████████████████████████████████████████████████████████████████| 20/20 [00:27<00:00,  1.39s/it]\n"
     ]
    },
    {
     "name": "stdout",
     "output_type": "stream",
     "text": [
      "cm[[197  81]\n",
      " [117 845]]\n",
      "              precision    recall  f1-score   support\n",
      "\n",
      "           0       0.63      0.71      0.67       278\n",
      "           1       0.91      0.88      0.90       962\n",
      "\n",
      "    accuracy                           0.84      1240\n",
      "   macro avg       0.77      0.79      0.78      1240\n",
      "weighted avg       0.85      0.84      0.84      1240\n",
      "\n",
      "F1 0.844, Acc 0.840, BA 0.794\n"
     ]
    },
    {
     "name": "stderr",
     "output_type": "stream",
     "text": [
      "100%|██████████████████████████████████████████████████████████████████████████████████| 57/57 [00:55<00:00,  1.02it/s]\n"
     ]
    },
    {
     "name": "stdout",
     "output_type": "stream",
     "text": [
      "Epoch 20\n",
      "Train loss 0.297, F1 0.843, Acc 0.885, BA 0.870\n",
      "cm[[ 664  122]\n",
      " [ 294 2532]]\n"
     ]
    },
    {
     "name": "stderr",
     "output_type": "stream",
     "text": [
      "100%|████████████████████████████████████████████████████████████████████████████████████| 5/5 [00:17<00:00,  3.48s/it]\n"
     ]
    },
    {
     "name": "stdout",
     "output_type": "stream",
     "text": [
      "Epoch 20\n",
      "Val loss 0.581, F1 0.744, Acc 0.830, BA 0.733\n",
      "cm[[ 39  31]\n",
      " [ 22 220]]\n"
     ]
    },
    {
     "name": "stderr",
     "output_type": "stream",
     "text": [
      "100%|██████████████████████████████████████████████████████████████████████████████████| 20/20 [00:25<00:00,  1.29s/it]\n"
     ]
    },
    {
     "name": "stdout",
     "output_type": "stream",
     "text": [
      "cm[[193  85]\n",
      " [100 862]]\n",
      "              precision    recall  f1-score   support\n",
      "\n",
      "           0       0.66      0.69      0.68       278\n",
      "           1       0.91      0.90      0.90       962\n",
      "\n",
      "    accuracy                           0.85      1240\n",
      "   macro avg       0.78      0.80      0.79      1240\n",
      "weighted avg       0.85      0.85      0.85      1240\n",
      "\n",
      "F1 0.852, Acc 0.851, BA 0.795\n"
     ]
    },
    {
     "name": "stderr",
     "output_type": "stream",
     "text": [
      "100%|██████████████████████████████████████████████████████████████████████████████████| 57/57 [00:58<00:00,  1.03s/it]\n"
     ]
    },
    {
     "name": "stdout",
     "output_type": "stream",
     "text": [
      "Epoch 21\n",
      "Train loss 0.267, F1 0.856, Acc 0.895, BA 0.883\n",
      "cm[[ 678  108]\n",
      " [ 271 2555]]\n"
     ]
    },
    {
     "name": "stderr",
     "output_type": "stream",
     "text": [
      "100%|████████████████████████████████████████████████████████████████████████████████████| 5/5 [00:17<00:00,  3.56s/it]\n"
     ]
    },
    {
     "name": "stdout",
     "output_type": "stream",
     "text": [
      "Epoch 21\n",
      "Val loss 0.625, F1 0.731, Acc 0.827, BA 0.716\n",
      "cm[[ 36  34]\n",
      " [ 20 222]]\n"
     ]
    },
    {
     "name": "stderr",
     "output_type": "stream",
     "text": [
      "100%|██████████████████████████████████████████████████████████████████████████████████| 20/20 [00:28<00:00,  1.42s/it]\n"
     ]
    },
    {
     "name": "stdout",
     "output_type": "stream",
     "text": [
      "cm[[182  96]\n",
      " [ 80 882]]\n",
      "              precision    recall  f1-score   support\n",
      "\n",
      "           0       0.69      0.65      0.67       278\n",
      "           1       0.90      0.92      0.91       962\n",
      "\n",
      "    accuracy                           0.86      1240\n",
      "   macro avg       0.80      0.79      0.79      1240\n",
      "weighted avg       0.86      0.86      0.86      1240\n",
      "\n",
      "F1 0.857, Acc 0.858, BA 0.786\n"
     ]
    },
    {
     "name": "stderr",
     "output_type": "stream",
     "text": [
      "100%|██████████████████████████████████████████████████████████████████████████████████| 57/57 [00:57<00:00,  1.02s/it]\n"
     ]
    },
    {
     "name": "stdout",
     "output_type": "stream",
     "text": [
      "Epoch 22\n",
      "Train loss 0.263, F1 0.871, Acc 0.908, BA 0.891\n",
      "cm[[ 676  110]\n",
      " [ 222 2604]]\n"
     ]
    },
    {
     "name": "stderr",
     "output_type": "stream",
     "text": [
      "100%|████████████████████████████████████████████████████████████████████████████████████| 5/5 [00:15<00:00,  3.13s/it]\n"
     ]
    },
    {
     "name": "stdout",
     "output_type": "stream",
     "text": [
      "Epoch 22\n",
      "Val loss 0.552, F1 0.764, Acc 0.837, BA 0.763\n",
      "cm[[ 44  26]\n",
      " [ 25 217]]\n"
     ]
    },
    {
     "name": "stderr",
     "output_type": "stream",
     "text": [
      "100%|██████████████████████████████████████████████████████████████████████████████████| 20/20 [00:25<00:00,  1.27s/it]"
     ]
    },
    {
     "name": "stdout",
     "output_type": "stream",
     "text": [
      "cm[[198  80]\n",
      " [120 842]]\n",
      "              precision    recall  f1-score   support\n",
      "\n",
      "           0       0.62      0.71      0.66       278\n",
      "           1       0.91      0.88      0.89       962\n",
      "\n",
      "    accuracy                           0.84      1240\n",
      "   macro avg       0.77      0.79      0.78      1240\n",
      "weighted avg       0.85      0.84      0.84      1240\n",
      "\n",
      "F1 0.842, Acc 0.839, BA 0.794\n",
      "Early stopping triggered.\n"
     ]
    },
    {
     "name": "stderr",
     "output_type": "stream",
     "text": [
      "\n"
     ]
    }
   ],
   "source": [
    "save_dir= HOME_DIR + 'Experiment3'\n",
    "model = train(model, train_dataloader, val_dataloader,test_dataloader, criterion, optimizer, scheduler=None,num_epochs=num_epochs, save=True, save_dir = save_dir,device=\"cuda\", backbone=f'convnextv2_binary_{LABEL}')"
   ]
  },
  {
   "cell_type": "markdown",
   "id": "fad2f69b",
   "metadata": {},
   "source": [
    "### \n",
    "\n",
    "Test"
   ]
  },
  {
   "cell_type": "code",
   "execution_count": 13,
   "id": "4f689e55",
   "metadata": {},
   "outputs": [
    {
     "name": "stderr",
     "output_type": "stream",
     "text": [
      "100%|██████████████████████████████████████████████████████████████████████████████████| 20/20 [00:26<00:00,  1.33s/it]"
     ]
    },
    {
     "name": "stdout",
     "output_type": "stream",
     "text": [
      "cm[[191  87]\n",
      " [101 861]]\n",
      "              precision    recall  f1-score   support\n",
      "\n",
      "           0       0.65      0.69      0.67       278\n",
      "           1       0.91      0.90      0.90       962\n",
      "\n",
      "    accuracy                           0.85      1240\n",
      "   macro avg       0.78      0.79      0.79      1240\n",
      "weighted avg       0.85      0.85      0.85      1240\n",
      "\n",
      "F1 0.850, Acc 0.848, BA 0.791\n"
     ]
    },
    {
     "name": "stderr",
     "output_type": "stream",
     "text": [
      "\n"
     ]
    }
   ],
   "source": [
    "state_dict = torch.load(HOME_DIR + 'Experiment3\\\\fine_tuned_resnet50_best.pth')\n",
    "model.load_state_dict(state_dict, strict=True) \n",
    "y_pred, y_true = test(model, test_dataloader, saliency=False, device=device)"
   ]
  },
  {
   "cell_type": "code",
   "execution_count": 14,
   "id": "44a97fba-0d29-49db-b23d-dc4a72262d7f",
   "metadata": {},
   "outputs": [
    {
     "name": "stdout",
     "output_type": "stream",
     "text": [
      "[[0. 1.]\n",
      " [0. 1.]\n",
      " [0. 1.]\n",
      " ...\n",
      " [1. 0.]\n",
      " [0. 1.]\n",
      " [0. 1.]]\n"
     ]
    },
    {
     "ename": "ValueError",
     "evalue": "The truth value of an array with more than one element is ambiguous. Use a.any() or a.all()",
     "output_type": "error",
     "traceback": [
      "\u001b[1;31m---------------------------------------------------------------------------\u001b[0m",
      "\u001b[1;31mValueError\u001b[0m                                Traceback (most recent call last)",
      "Cell \u001b[1;32mIn[14], line 21\u001b[0m\n\u001b[0;32m     19\u001b[0m \u001b[38;5;28;01mfor\u001b[39;00m i \u001b[38;5;129;01min\u001b[39;00m \u001b[38;5;28mrange\u001b[39m(\u001b[38;5;28mlen\u001b[39m(y_true)\u001b[38;5;241m/\u001b[39m\u001b[38;5;241m/\u001b[39m\u001b[38;5;241m4\u001b[39m):\n\u001b[0;32m     20\u001b[0m     a \u001b[38;5;241m=\u001b[39m y_true[\u001b[38;5;241m4\u001b[39m\u001b[38;5;241m*\u001b[39mi:\u001b[38;5;241m4\u001b[39m\u001b[38;5;241m*\u001b[39mi \u001b[38;5;241m+\u001b[39m \u001b[38;5;241m4\u001b[39m] \n\u001b[1;32m---> 21\u001b[0m     b \u001b[38;5;241m=\u001b[39m \u001b[43matleastOne\u001b[49m\u001b[43m(\u001b[49m\u001b[43ma\u001b[49m\u001b[43m)\u001b[49m\n\u001b[0;32m     22\u001b[0m     final_ytrue_lst\u001b[38;5;241m.\u001b[39mappend(b) \n\u001b[0;32m     24\u001b[0m \u001b[38;5;28mprint\u001b[39m(\u001b[38;5;28mlen\u001b[39m(final_ytrue_lst))\n",
      "Cell \u001b[1;32mIn[14], line 6\u001b[0m, in \u001b[0;36matleastOne\u001b[1;34m(lst)\u001b[0m\n\u001b[0;32m      4\u001b[0m \u001b[38;5;28;01mdef\u001b[39;00m \u001b[38;5;21matleastOne\u001b[39m(lst):\n\u001b[0;32m      5\u001b[0m     \u001b[38;5;28;01mfor\u001b[39;00m i \u001b[38;5;129;01min\u001b[39;00m \u001b[38;5;28mrange\u001b[39m(\u001b[38;5;241m0\u001b[39m, \u001b[38;5;241m4\u001b[39m):\n\u001b[1;32m----> 6\u001b[0m         \u001b[38;5;28;01mif\u001b[39;00m(\u001b[43mlst\u001b[49m\u001b[43m[\u001b[49m\u001b[43mi\u001b[49m\u001b[43m]\u001b[49m\u001b[43m \u001b[49m\u001b[38;5;241;43m>\u001b[39;49m\u001b[43m \u001b[49m\u001b[38;5;241;43m0.5\u001b[39;49m):\n\u001b[0;32m      7\u001b[0m             \u001b[38;5;28;01mreturn\u001b[39;00m \u001b[38;5;28;01mTrue\u001b[39;00m\n\u001b[0;32m      8\u001b[0m     \u001b[38;5;28;01mreturn\u001b[39;00m \u001b[38;5;28;01mFalse\u001b[39;00m\n",
      "\u001b[1;31mValueError\u001b[0m: The truth value of an array with more than one element is ambiguous. Use a.any() or a.all()"
     ]
    }
   ],
   "source": [
    "from sklearn.metrics import f1_score, confusion_matrix, accuracy_score,balanced_accuracy_score\n",
    "from sklearn.metrics import confusion_matrix, roc_curve, auc, classification_report\n",
    "\n",
    "def atleastOne(lst):\n",
    "    for i in range(0, 4):\n",
    "        if(lst[i] > 0.5):\n",
    "            return True\n",
    "    return False\n",
    "\n",
    "\n",
    "final_ypred_lst = []\n",
    "for i in range(len(y_pred)//4): \n",
    "    a = y_pred[4*i:4*i + 4] \n",
    "    b = atleastOne(a)\n",
    "    final_ypred_lst.append(b) \n",
    "\n",
    "print(y_true)\n",
    "final_ytrue_lst = []\n",
    "for i in range(len(y_true)//4):\n",
    "    a = y_true[4*i:4*i + 4] \n",
    "    b = atleastOne(a)\n",
    "    final_ytrue_lst.append(b) \n",
    "\n",
    "print(len(final_ytrue_lst))"
   ]
  },
  {
   "cell_type": "code",
   "execution_count": null,
   "id": "e8ab9dcb-f834-4093-a4cc-254210c7796a",
   "metadata": {},
   "outputs": [],
   "source": [
    "import csv \n",
    "from sklearn.metrics import confusion_matrix, roc_curve, auc, classification_report\n",
    "from sklearn.metrics import f1_score, confusion_matrix, accuracy_score,balanced_accuracy_score\n",
    "cm = confusion_matrix(final_ytrue_lst, final_ypred_lst)\n",
    "print(cm)\n",
    "\n",
    "f1 = f1_score(final_ytrue_lst, final_ypred_lst, average='macro')\n",
    "acc = accuracy_score(final_ytrue_lst, final_ypred_lst)\n",
    "ba = balanced_accuracy_score(final_ytrue_lst, final_ypred_lst)\n",
    "print(\"F1 {c:.3f}, Acc {d:.3f}, BA {e:.3f}\".format(c=f1, d = acc, e= ba))\n",
    "\n",
    "df_test[['patient',LABEL]].head(16)\n",
    "#Load labels_modified_clean and check\n",
    "#df_test.to_csv(\"temp.csv\")\n",
    "cr = classification_report(final_ytrue_lst, final_ypred_lst)\n",
    "    # print classification report\n",
    "print(cr)"
   ]
  },
  {
   "cell_type": "code",
   "execution_count": null,
   "id": "6a614679-afab-4481-a7fa-a5121933d08a",
   "metadata": {},
   "outputs": [],
   "source": []
  }
 ],
 "metadata": {
  "kernelspec": {
   "display_name": "Python 3 (ipykernel)",
   "language": "python",
   "name": "python3"
  },
  "language_info": {
   "codemirror_mode": {
    "name": "ipython",
    "version": 3
   },
   "file_extension": ".py",
   "mimetype": "text/x-python",
   "name": "python",
   "nbconvert_exporter": "python",
   "pygments_lexer": "ipython3",
   "version": "3.8.17"
  }
 },
 "nbformat": 4,
 "nbformat_minor": 5
}
