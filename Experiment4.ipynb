{
 "cells": [
  {
   "cell_type": "markdown",
   "id": "67caa755",
   "metadata": {},
   "source": [
    "### Setup Environment:"
   ]
  },
  {
   "cell_type": "code",
   "execution_count": 1,
   "id": "ff7164ae",
   "metadata": {},
   "outputs": [],
   "source": [
    "from src.get_dataset import get_dataset, split_data\n",
    "from src.data_loader import BRSETMultiViewDataset, process_labels\n",
    "from src.model import FoundationalCVModel, MultiViewFoundationalCVModelWithClassifier\n",
    "from sklearn.utils.class_weight import compute_class_weight\n",
    "from torch.utils.data import DataLoader\n",
    "import torch\n",
    "import torch.nn as nn\n",
    "import torch.optim as optim\n",
    "from torchvision import transforms\n",
    "import os\n",
    "import matplotlib.pyplot as plt\n",
    "import numpy as np\n",
    "import pandas as pd\n",
    "# loss function and optimizer\n",
    "from src.FocalLoss import BinaryFocalLoss, FocalLoss\n",
    "\n",
    "# train and test functions\n",
    "from src.train import train\n",
    "from src.test import test\n",
    "import random"
   ]
  },
  {
   "cell_type": "code",
   "execution_count": 2,
   "id": "32e5e743-b66e-4493-be0b-1f2c684dbeda",
   "metadata": {},
   "outputs": [],
   "source": [
    "def set_random_seeds(seed):\n",
    "    random.seed(seed)          # Python random module\n",
    "    np.random.seed(seed)       # NumPy random module\n",
    "    torch.manual_seed(seed)    # PyTorch CPU random generator\n",
    "    torch.cuda.manual_seed(seed)  # PyTorch GPU random generator (if using CUDA)\n",
    "    torch.cuda.manual_seed_all(seed)  # For multi-GPU setups\n",
    "    torch.backends.cudnn.deterministic = True  # Ensure deterministic behavior on CUDA\n",
    "    torch.backends.cudnn.benchmark = False    # Avoid non-deterministic algorithms"
   ]
  },
  {
   "cell_type": "code",
   "execution_count": 3,
   "id": "41c1eda4",
   "metadata": {},
   "outputs": [],
   "source": [
    "set_random_seeds(42)\n",
    "# Constants:\n",
    "DATASET = 'C:\\\\Users\\\\preet\\\\Documents\\\\mBRSET\\\\mbrset-a-mobile-brazilian-retinal-dataset-1.0\\\\'\n",
    "DOWNLOAD = False\n",
    "SHAPE = (224, 224)\n",
    "IMAGES = os.path.join(DATASET, 'images')\n",
    "LABEL = 'final_icdr'\n",
    "TEST_SIZE = 0.3\n",
    "UNDERSAMPLE = False\n",
    "\n",
    "LABELS_PATH = os.path.join(DATASET, 'multi_labels.csv')\n",
    "IMAGE_COL = 'file'\n",
    "\n",
    "\"\"\"\n",
    "Dataset Mean and Std:\n",
    "NORM_MEAN = [0.5896205017400412, 0.29888971649817453, 0.1107679405196557]\n",
    "NORM_STD = [0.28544273712830986, 0.15905456049750208, 0.07012281660980953]\n",
    "\n",
    "ImageNet Mean and Std:\n",
    "\"\"\"\n",
    "NORM_MEAN = [0.485, 0.456, 0.406]\n",
    "NORM_STD = [0.229, 0.224, 0.225]\n",
    "\n",
    "\n",
    "#NORM_MEAN = None # [0.485, 0.456, 0.406]\n",
    "#NORM_STD = None # [0.229, 0.224, 0.225]\n",
    "BACKBONE = 'resnet50'\n",
    "#BACKBONE = 'dinov2_large'\n",
    "MODE = 'fine_tune'\n",
    "backbone_mode = 'fine_tune'\n",
    "\n",
    "HIDDEN = [128, 128]\n",
    "num_classes = 2\n",
    "\n",
    "BATCH_SIZE = 64 #16\n",
    "NUM_WORKERS = 8 #4\n",
    "\n",
    "LOSS = None #'focal_loss'\n",
    "OPTIMIZER = 'adam'\n",
    "\n",
    "USE_RELU = True #addition of RELU for final model classification, between the two linear layers after the backbone\n",
    "# Define your hyperparameters\n",
    "num_epochs = 50\n",
    "learning_rate = 1e-5\n",
    "\n",
    "device = torch.device('cuda' if torch.cuda.is_available() else 'cpu')"
   ]
  },
  {
   "cell_type": "markdown",
   "id": "986a7eab",
   "metadata": {},
   "source": [
    "#### Read csv file:"
   ]
  },
  {
   "cell_type": "code",
   "execution_count": 4,
   "id": "0487e2b5",
   "metadata": {},
   "outputs": [
    {
     "data": {
      "text/html": [
       "<div>\n",
       "<style scoped>\n",
       "    .dataframe tbody tr th:only-of-type {\n",
       "        vertical-align: middle;\n",
       "    }\n",
       "\n",
       "    .dataframe tbody tr th {\n",
       "        vertical-align: top;\n",
       "    }\n",
       "\n",
       "    .dataframe thead th {\n",
       "        text-align: right;\n",
       "    }\n",
       "</style>\n",
       "<table border=\"1\" class=\"dataframe\">\n",
       "  <thead>\n",
       "    <tr style=\"text-align: right;\">\n",
       "      <th></th>\n",
       "      <th>Unnamed: 0</th>\n",
       "      <th>patient</th>\n",
       "      <th>age</th>\n",
       "      <th>sex</th>\n",
       "      <th>dm_time</th>\n",
       "      <th>insulin</th>\n",
       "      <th>insulin_time</th>\n",
       "      <th>oraltreatment_dm</th>\n",
       "      <th>systemic_hypertension</th>\n",
       "      <th>insurance</th>\n",
       "      <th>...</th>\n",
       "      <th>file1</th>\n",
       "      <th>laterality</th>\n",
       "      <th>final_artifacts</th>\n",
       "      <th>final_quality</th>\n",
       "      <th>final_icdr</th>\n",
       "      <th>final_edema</th>\n",
       "      <th>normality</th>\n",
       "      <th>file2</th>\n",
       "      <th>file3</th>\n",
       "      <th>file4</th>\n",
       "    </tr>\n",
       "  </thead>\n",
       "  <tbody>\n",
       "    <tr>\n",
       "      <th>0</th>\n",
       "      <td>0</td>\n",
       "      <td>1</td>\n",
       "      <td>58</td>\n",
       "      <td>1</td>\n",
       "      <td>15.0</td>\n",
       "      <td>1.0</td>\n",
       "      <td>NaN</td>\n",
       "      <td>1.0</td>\n",
       "      <td>1.0</td>\n",
       "      <td>0.0</td>\n",
       "      <td>...</td>\n",
       "      <td>1.1.jpg</td>\n",
       "      <td>right</td>\n",
       "      <td>yes</td>\n",
       "      <td>yes</td>\n",
       "      <td>4.0</td>\n",
       "      <td>no</td>\n",
       "      <td>abnormal</td>\n",
       "      <td>1.2.jpg</td>\n",
       "      <td>1.3.jpg</td>\n",
       "      <td>1.4.jpg</td>\n",
       "    </tr>\n",
       "    <tr>\n",
       "      <th>1</th>\n",
       "      <td>4</td>\n",
       "      <td>10</td>\n",
       "      <td>63</td>\n",
       "      <td>0</td>\n",
       "      <td>7.0</td>\n",
       "      <td>0.0</td>\n",
       "      <td>NaN</td>\n",
       "      <td>1.0</td>\n",
       "      <td>1.0</td>\n",
       "      <td>0.0</td>\n",
       "      <td>...</td>\n",
       "      <td>10.1.jpg</td>\n",
       "      <td>right</td>\n",
       "      <td>yes</td>\n",
       "      <td>yes</td>\n",
       "      <td>0.0</td>\n",
       "      <td>no</td>\n",
       "      <td>abnormal</td>\n",
       "      <td>10.2.jpg</td>\n",
       "      <td>10.3.jpg</td>\n",
       "      <td>10.4.jpg</td>\n",
       "    </tr>\n",
       "    <tr>\n",
       "      <th>2</th>\n",
       "      <td>8</td>\n",
       "      <td>100</td>\n",
       "      <td>66</td>\n",
       "      <td>1</td>\n",
       "      <td>1.0</td>\n",
       "      <td>0.0</td>\n",
       "      <td>NaN</td>\n",
       "      <td>1.0</td>\n",
       "      <td>0.0</td>\n",
       "      <td>0.0</td>\n",
       "      <td>...</td>\n",
       "      <td>100.1.jpg</td>\n",
       "      <td>right</td>\n",
       "      <td>yes</td>\n",
       "      <td>yes</td>\n",
       "      <td>0.0</td>\n",
       "      <td>no</td>\n",
       "      <td>abnormal</td>\n",
       "      <td>100.2.jpg</td>\n",
       "      <td>100.3.jpg</td>\n",
       "      <td>100.4.jpg</td>\n",
       "    </tr>\n",
       "    <tr>\n",
       "      <th>3</th>\n",
       "      <td>12</td>\n",
       "      <td>1000</td>\n",
       "      <td>50</td>\n",
       "      <td>0</td>\n",
       "      <td>2.0</td>\n",
       "      <td>0.0</td>\n",
       "      <td>NaN</td>\n",
       "      <td>1.0</td>\n",
       "      <td>0.0</td>\n",
       "      <td>0.0</td>\n",
       "      <td>...</td>\n",
       "      <td>1000.1.jpg</td>\n",
       "      <td>right</td>\n",
       "      <td>yes</td>\n",
       "      <td>yes</td>\n",
       "      <td>0.0</td>\n",
       "      <td>no</td>\n",
       "      <td>abnormal</td>\n",
       "      <td>1000.2.jpg</td>\n",
       "      <td>1000.3.jpg</td>\n",
       "      <td>1000.4.jpg</td>\n",
       "    </tr>\n",
       "    <tr>\n",
       "      <th>4</th>\n",
       "      <td>16</td>\n",
       "      <td>1001</td>\n",
       "      <td>36</td>\n",
       "      <td>0</td>\n",
       "      <td>2.0</td>\n",
       "      <td>0.0</td>\n",
       "      <td>NaN</td>\n",
       "      <td>1.0</td>\n",
       "      <td>0.0</td>\n",
       "      <td>0.0</td>\n",
       "      <td>...</td>\n",
       "      <td>1001.1.jpg</td>\n",
       "      <td>right</td>\n",
       "      <td>yes</td>\n",
       "      <td>yes</td>\n",
       "      <td>0.0</td>\n",
       "      <td>no</td>\n",
       "      <td>abnormal</td>\n",
       "      <td>1001.2.jpg</td>\n",
       "      <td>1001.3.jpg</td>\n",
       "      <td>1001.4.jpg</td>\n",
       "    </tr>\n",
       "  </tbody>\n",
       "</table>\n",
       "<p>5 rows × 29 columns</p>\n",
       "</div>"
      ],
      "text/plain": [
       "   Unnamed: 0  patient age  sex  dm_time  insulin  insulin_time   \n",
       "0           0        1  58    1     15.0      1.0           NaN  \\\n",
       "1           4       10  63    0      7.0      0.0           NaN   \n",
       "2           8      100  66    1      1.0      0.0           NaN   \n",
       "3          12     1000  50    0      2.0      0.0           NaN   \n",
       "4          16     1001  36    0      2.0      0.0           NaN   \n",
       "\n",
       "   oraltreatment_dm  systemic_hypertension  insurance  ...       file1   \n",
       "0               1.0                    1.0        0.0  ...     1.1.jpg  \\\n",
       "1               1.0                    1.0        0.0  ...    10.1.jpg   \n",
       "2               1.0                    0.0        0.0  ...   100.1.jpg   \n",
       "3               1.0                    0.0        0.0  ...  1000.1.jpg   \n",
       "4               1.0                    0.0        0.0  ...  1001.1.jpg   \n",
       "\n",
       "   laterality  final_artifacts  final_quality  final_icdr  final_edema   \n",
       "0       right              yes            yes         4.0           no  \\\n",
       "1       right              yes            yes         0.0           no   \n",
       "2       right              yes            yes         0.0           no   \n",
       "3       right              yes            yes         0.0           no   \n",
       "4       right              yes            yes         0.0           no   \n",
       "\n",
       "   normality       file2       file3       file4  \n",
       "0   abnormal     1.2.jpg     1.3.jpg     1.4.jpg  \n",
       "1   abnormal    10.2.jpg    10.3.jpg    10.4.jpg  \n",
       "2   abnormal   100.2.jpg   100.3.jpg   100.4.jpg  \n",
       "3   abnormal  1000.2.jpg  1000.3.jpg  1000.4.jpg  \n",
       "4   abnormal  1001.2.jpg  1001.3.jpg  1001.4.jpg  \n",
       "\n",
       "[5 rows x 29 columns]"
      ]
     },
     "execution_count": 4,
     "metadata": {},
     "output_type": "execute_result"
    }
   ],
   "source": [
    "df = pd.read_csv(LABELS_PATH)\n",
    "df.head()"
   ]
  },
  {
   "cell_type": "code",
   "execution_count": 5,
   "id": "d2830ec9",
   "metadata": {
    "scrolled": true
   },
   "outputs": [
    {
     "name": "stdout",
     "output_type": "stream",
     "text": [
      "(1291, 29)\n",
      "Unnamed: 0                        0\n",
      "patient                           0\n",
      "age                               0\n",
      "sex                               0\n",
      "dm_time                          14\n",
      "insulin                          12\n",
      "insulin_time                   1037\n",
      "oraltreatment_dm                 11\n",
      "systemic_hypertension            11\n",
      "insurance                        12\n",
      "educational_level                13\n",
      "alcohol_consumption              19\n",
      "smoking                          22\n",
      "obesity                          19\n",
      "vascular_disease                 19\n",
      "acute_myocardial_infarction      21\n",
      "nephropathy                      20\n",
      "neuropathy                       19\n",
      "diabetic_foot                    27\n",
      "file1                             0\n",
      "laterality                        0\n",
      "final_artifacts                   0\n",
      "final_quality                     0\n",
      "final_icdr                        0\n",
      "final_edema                      73\n",
      "normality                         0\n",
      "file2                             0\n",
      "file3                             0\n",
      "file4                             0\n",
      "dtype: int64\n",
      "Train data shape: (903, 29)\n",
      "Test data shape: (388, 29)\n"
     ]
    },
    {
     "data": {
      "image/png": "[encoded data removed]",
      "text/plain": [
       "<Figure size 1000x500 with 2 Axes>"
      ]
     },
     "metadata": {},
     "output_type": "display_data"
    },
    {
     "name": "stdout",
     "output_type": "stream",
     "text": [
      "Getting validation set...\n",
      "Train data shape: (310, 29)\n",
      "Test data shape: (78, 29)\n"
     ]
    },
    {
     "data": {
      "image/png": "[encoded data removed]",
      "text/plain": [
       "<Figure size 1000x500 with 2 Axes>"
      ]
     },
     "metadata": {},
     "output_type": "display_data"
    }
   ],
   "source": [
    "# Split dataset into train, test and validation:\n",
    "# Count NaNs in each column\n",
    "df[LABEL] = df[LABEL].apply(lambda x: 'Normal' if x == 0.0 else ('DR'))\n",
    "\n",
    "nan_counts = df.isna().sum()\n",
    "print(df.shape)\n",
    "print(nan_counts)\n",
    "df_train, df_test = split_data(df, LABEL, TEST_SIZE, undersample=False,random_state=42)\n",
    "print('Getting validation set...')\n",
    "df_test, df_val = split_data(df_test, LABEL, 0.20,random_state=42)\n",
    "\n"
   ]
  },
  {
   "cell_type": "code",
   "execution_count": 6,
   "id": "b6f96087-de3b-4b65-842f-f4cd73ca7e27",
   "metadata": {},
   "outputs": [],
   "source": [
    "\n",
    "# Define the target image shape\n",
    "SHAPE = (224, 224)  # Adjust to your desired image size\n",
    "\n",
    "train_transforms = transforms.Compose([\n",
    "    transforms.Resize((256, 256)),\n",
    "    transforms.RandomRotation(90),  # Randomly rotate the image by up to 10 degrees\n",
    "    transforms.RandomCrop(SHAPE),\n",
    "    transforms.ToTensor(),\n",
    "    transforms.RandomHorizontalFlip(),  # Randomly flip the image horizontally\n",
    "    transforms.RandomVerticalFlip(),  # Randomly flip the image horizontally\n",
    "    transforms.ColorJitter(brightness=0.4, contrast=0.1, saturation=0.0, hue=0.0),\n",
    "\n",
    "])\n",
    "\n",
    "if NORM_MEAN is not None and NORM_STD is not None:\n",
    "    train_transforms.transforms.append(transforms.Normalize(mean=NORM_MEAN, std=NORM_STD))\n",
    "\n",
    "test_transform = transforms.Compose([\n",
    "    transforms.Resize(SHAPE),\n",
    "    transforms.ToTensor(),\n",
    "])\n",
    "\n",
    "if NORM_MEAN is not None and NORM_STD is not None:\n",
    "    test_transform.transforms.append(transforms.Normalize(mean=NORM_MEAN, std=NORM_STD))\n"
   ]
  },
  {
   "cell_type": "code",
   "execution_count": 7,
   "id": "a58fe29d-d0fe-44dc-9fd6-a162c660283f",
   "metadata": {},
   "outputs": [
    {
     "name": "stdout",
     "output_type": "stream",
     "text": [
      "      Unnamed: 0  patient age  sex  dm_time  insulin  insulin_time   \n",
      "379         1516      154  71    0     10.0      0.0           NaN  \\\n",
      "37           148     1032  64    0      3.0      0.0           NaN   \n",
      "64           256      106  74    1     24.0      1.0          15.0   \n",
      "1038        4152      765  73    0      2.0      0.0           NaN   \n",
      "998         3992      728  72    1      1.0      0.0           NaN   \n",
      "\n",
      "      oraltreatment_dm  systemic_hypertension  insurance  ...       file1   \n",
      "379                1.0                    1.0        0.0  ...   154.1.jpg  \\\n",
      "37                 1.0                    0.0        0.0  ...  1032.1.jpg   \n",
      "64                 0.0                    1.0        0.0  ...   106.1.jpg   \n",
      "1038               1.0                    1.0        0.0  ...   765.1.jpg   \n",
      "998                1.0                    0.0        1.0  ...   728.1.jpg   \n",
      "\n",
      "      laterality  final_artifacts  final_quality  final_icdr  final_edema   \n",
      "379        right              yes            yes          DR           no  \\\n",
      "37         right               no            yes      Normal           no   \n",
      "64         right              yes            yes          DR           no   \n",
      "1038       right              yes            yes      Normal           no   \n",
      "998        right              yes            yes      Normal           no   \n",
      "\n",
      "      normality       file2       file3       file4  \n",
      "379    abnormal   154.2.jpg   154.3.jpg   154.4.jpg  \n",
      "37     abnormal  1032.2.jpg  1032.3.jpg  1032.4.jpg  \n",
      "64     abnormal   106.2.jpg   106.3.jpg   106.4.jpg  \n",
      "1038   abnormal   765.2.jpg   765.3.jpg   765.4.jpg  \n",
      "998    abnormal   728.2.jpg   728.3.jpg   728.4.jpg  \n",
      "\n",
      "[5 rows x 29 columns]\n",
      "final_icdr\n",
      "379         {DR}\n",
      "37      {Normal}\n",
      "64          {DR}\n",
      "1038    {Normal}\n",
      "998     {Normal}\n",
      "          ...   \n",
      "224     {Normal}\n",
      "500     {Normal}\n",
      "985         {DR}\n",
      "1252    {Normal}\n",
      "237     {Normal}\n",
      "Name: final_icdr, Length: 903, dtype: object\n"
     ]
    }
   ],
   "source": [
    "# Train the one hot encoder on the train set and get the labels for the test and validation sets:\n",
    "print(df_train.head())\n",
    "print(LABEL)\n",
    "train_labels, mlb, train_columns = process_labels(df_train, col=LABEL)\n"
   ]
  },
  {
   "cell_type": "code",
   "execution_count": 8,
   "id": "efd1eb4d-fa1b-4df2-8a6a-d6557e936798",
   "metadata": {
    "scrolled": true
   },
   "outputs": [
    {
     "name": "stdout",
     "output_type": "stream",
     "text": [
      "DF col dtype object final_icdr\n",
      "DF col dtype object final_icdr\n",
      "DF col dtype object final_icdr\n"
     ]
    }
   ],
   "source": [
    "# Create the custom dataset\n",
    "IMG_COL_LIST=['file1','file2','file3','file4']\n",
    "train_dataset = BRSETMultiViewDataset(\n",
    "    df_train, \n",
    "    IMG_COL_LIST, \n",
    "    IMAGES, \n",
    "    LABEL, \n",
    "    mlb, \n",
    "    train_columns, \n",
    "    transform=train_transforms\n",
    ")\n",
    "\n",
    "test_dataset = BRSETMultiViewDataset(\n",
    "    df_test, \n",
    "    IMG_COL_LIST, \n",
    "    IMAGES, \n",
    "    LABEL, \n",
    "    mlb, \n",
    "    train_columns, \n",
    "    transform=test_transform\n",
    ")\n",
    "\n",
    "val_dataset = BRSETMultiViewDataset(\n",
    "    df_val, \n",
    "    IMG_COL_LIST, \n",
    "    IMAGES, \n",
    "    LABEL, \n",
    "    mlb, \n",
    "    train_columns, \n",
    "    transform=test_transform\n",
    ")\n",
    "\n",
    "train_dataloader = DataLoader(train_dataset, batch_size=BATCH_SIZE, shuffle=True, num_workers=NUM_WORKERS, pin_memory=True)\n",
    "test_dataloader = DataLoader(test_dataset, batch_size=BATCH_SIZE, shuffle=False, num_workers=NUM_WORKERS, pin_memory=True)\n",
    "val_dataloader = DataLoader(val_dataset, batch_size=BATCH_SIZE, shuffle=False, num_workers=NUM_WORKERS, pin_memory=True)"
   ]
  },
  {
   "cell_type": "code",
   "execution_count": 9,
   "id": "4c031585-f5a4-45e9-9be3-fe685845e664",
   "metadata": {},
   "outputs": [],
   "source": [
    "# Create the model\n",
    "backbone_model = FoundationalCVModel(backbone=BACKBONE, mode=MODE)\n",
    "model = MultiViewFoundationalCVModelWithClassifier(backbone_model, hidden=HIDDEN, num_views=4, num_classes=num_classes, mode=MODE, backbone_mode=backbone_mode)\n",
    "model.to(device)\n",
    "\n",
    "# Use DataParallel to parallelize the model across multiple GPUs\n",
    "if torch.cuda.device_count() > 1:\n",
    "    print(\"Using\", torch.cuda.device_count(), \"GPUs!\")\n",
    "    model = nn.DataParallel(model, [0,1])"
   ]
  },
  {
   "cell_type": "code",
   "execution_count": 10,
   "id": "4968097c-a6f5-4611-9dcd-1e068aef9f67",
   "metadata": {},
   "outputs": [],
   "source": [
    "# Training\n",
    "if LOSS == 'focal_loss':\n",
    "    class_distribution = train_dataloader.dataset.labels.sum(axis=0)\n",
    "    print(f'Class distribution: {class_distribution}')\n",
    "    class_dis = np.array(class_distribution)\n",
    "    class_weights =1-class_dis/np.sum(class_dis)\n",
    "    weights = torch.tensor(class_weights).to(device)\n",
    "    #criterion = FocalLoss()  # Focal Loss\n",
    "    criterion = FocalLoss(gamma=2, alpha=weights)\n",
    "else:\n",
    "    # Assuming train_loader.dataset.labels is a one-hot representation\n",
    "    class_indices = np.argmax(train_dataloader.dataset.labels, axis=1)\n",
    "\n",
    "    # Compute class weights using class indices\n",
    "    class_weights = compute_class_weight('balanced', classes=np.unique(class_indices), y=class_indices)\n",
    "    class_weights = torch.tensor(class_weights, dtype=torch.float32)\n",
    "    criterion = nn.CrossEntropyLoss(weight=class_weights).to(device)\n",
    "    #criterion = nn.BCEWithLogitsLoss() # Binary Cross-Entropy Loss\n",
    "\n",
    "if OPTIMIZER == 'adam':\n",
    "    optimizer = optim.Adam(model.parameters(), lr=learning_rate)\n",
    "elif OPTIMIZER == 'adamw':\n",
    "    optimizer = optim.AdamW(model.parameters(), lr=learning_rate)\n",
    "else:\n",
    "    optimizer = optim.SGD(model.parameters(), lr=learning_rate, momentum=0.9)\n",
    "\n",
    "scheduler = torch.optim.lr_scheduler.CosineAnnealingLR(optimizer, T_max=num_epochs, eta_min=1e-6) # Adam\n"
   ]
  },
  {
   "cell_type": "code",
   "execution_count": 11,
   "id": "1345e1f2-c20a-4193-b465-ad56db6a1b29",
   "metadata": {},
   "outputs": [
    {
     "name": "stdout",
     "output_type": "stream",
     "text": [
      "AMP True\n"
     ]
    },
    {
     "name": "stderr",
     "output_type": "stream",
     "text": [
      "100%|██████████████████████████████████████████████████████████████████████████████████| 15/15 [05:18<00:00, 21.25s/it]\n"
     ]
    },
    {
     "name": "stdout",
     "output_type": "stream",
     "text": [
      "Epoch 1\n",
      "Train loss 0.689, F1 0.531, Acc 0.625, BA 0.531\n",
      "cm[[ 80 170]\n",
      " [169 484]]\n"
     ]
    },
    {
     "name": "stderr",
     "output_type": "stream",
     "text": [
      "100%|████████████████████████████████████████████████████████████████████████████████████| 2/2 [00:33<00:00, 16.87s/it]\n"
     ]
    },
    {
     "name": "stdout",
     "output_type": "stream",
     "text": [
      "Epoch 1\n",
      "Val loss 0.685, F1 0.240, Acc 0.295, BA 0.509\n",
      "cm[[22  0]\n",
      " [55  1]]\n"
     ]
    },
    {
     "name": "stderr",
     "output_type": "stream",
     "text": [
      "100%|████████████████████████████████████████████████████████████████████████████████████| 5/5 [00:59<00:00, 11.99s/it]\n"
     ]
    },
    {
     "name": "stdout",
     "output_type": "stream",
     "text": [
      "cm[[ 86   0]\n",
      " [220   4]]\n",
      "              precision    recall  f1-score   support\n",
      "\n",
      "           0       0.28      1.00      0.44        86\n",
      "           1       1.00      0.02      0.04       224\n",
      "\n",
      "    accuracy                           0.29       310\n",
      "   macro avg       0.64      0.51      0.24       310\n",
      "weighted avg       0.80      0.29      0.15       310\n",
      "\n",
      "F1 0.147, Acc 0.290, BA 0.509\n",
      "Saving\n"
     ]
    },
    {
     "name": "stderr",
     "output_type": "stream",
     "text": [
      "100%|██████████████████████████████████████████████████████████████████████████████████| 15/15 [04:36<00:00, 18.44s/it]\n"
     ]
    },
    {
     "name": "stdout",
     "output_type": "stream",
     "text": [
      "Epoch 2\n",
      "Train loss 0.675, F1 0.608, Acc 0.631, BA 0.654\n",
      "cm[[176  74]\n",
      " [259 394]]\n"
     ]
    },
    {
     "name": "stderr",
     "output_type": "stream",
     "text": [
      "100%|████████████████████████████████████████████████████████████████████████████████████| 2/2 [00:25<00:00, 12.52s/it]\n"
     ]
    },
    {
     "name": "stdout",
     "output_type": "stream",
     "text": [
      "Epoch 2\n",
      "Val loss 0.675, F1 0.724, Acc 0.808, BA 0.700\n",
      "cm[[10 12]\n",
      " [ 3 53]]\n"
     ]
    },
    {
     "name": "stderr",
     "output_type": "stream",
     "text": [
      "100%|████████████████████████████████████████████████████████████████████████████████████| 5/5 [00:45<00:00,  9.07s/it]\n"
     ]
    },
    {
     "name": "stdout",
     "output_type": "stream",
     "text": [
      "cm[[ 40  46]\n",
      " [ 20 204]]\n",
      "              precision    recall  f1-score   support\n",
      "\n",
      "           0       0.67      0.47      0.55        86\n",
      "           1       0.82      0.91      0.86       224\n",
      "\n",
      "    accuracy                           0.79       310\n",
      "   macro avg       0.74      0.69      0.70       310\n",
      "weighted avg       0.77      0.79      0.77       310\n",
      "\n",
      "F1 0.774, Acc 0.787, BA 0.688\n",
      "Saving\n"
     ]
    },
    {
     "name": "stderr",
     "output_type": "stream",
     "text": [
      "100%|██████████████████████████████████████████████████████████████████████████████████| 15/15 [03:43<00:00, 14.89s/it]\n"
     ]
    },
    {
     "name": "stdout",
     "output_type": "stream",
     "text": [
      "Epoch 3\n",
      "Train loss 0.654, F1 0.698, Acc 0.749, BA 0.706\n",
      "cm[[153  97]\n",
      " [130 523]]\n"
     ]
    },
    {
     "name": "stderr",
     "output_type": "stream",
     "text": [
      "100%|████████████████████████████████████████████████████████████████████████████████████| 2/2 [00:26<00:00, 13.00s/it]\n"
     ]
    },
    {
     "name": "stdout",
     "output_type": "stream",
     "text": [
      "Epoch 3\n",
      "Val loss 0.657, F1 0.614, Acc 0.628, BA 0.672\n",
      "cm[[17  5]\n",
      " [24 32]]\n"
     ]
    },
    {
     "name": "stderr",
     "output_type": "stream",
     "text": [
      "100%|████████████████████████████████████████████████████████████████████████████████████| 5/5 [00:53<00:00, 10.70s/it]\n"
     ]
    },
    {
     "name": "stdout",
     "output_type": "stream",
     "text": [
      "cm[[ 70  16]\n",
      " [ 89 135]]\n",
      "              precision    recall  f1-score   support\n",
      "\n",
      "           0       0.44      0.81      0.57        86\n",
      "           1       0.89      0.60      0.72       224\n",
      "\n",
      "    accuracy                           0.66       310\n",
      "   macro avg       0.67      0.71      0.65       310\n",
      "weighted avg       0.77      0.66      0.68       310\n",
      "\n",
      "F1 0.679, Acc 0.661, BA 0.708\n"
     ]
    },
    {
     "name": "stderr",
     "output_type": "stream",
     "text": [
      "100%|██████████████████████████████████████████████████████████████████████████████████| 15/15 [03:43<00:00, 14.92s/it]\n"
     ]
    },
    {
     "name": "stdout",
     "output_type": "stream",
     "text": [
      "Epoch 4\n",
      "Train loss 0.612, F1 0.711, Acc 0.784, BA 0.699\n",
      "cm[[127 123]\n",
      " [ 72 581]]\n"
     ]
    },
    {
     "name": "stderr",
     "output_type": "stream",
     "text": [
      "100%|████████████████████████████████████████████████████████████████████████████████████| 2/2 [00:19<00:00,  9.93s/it]\n"
     ]
    },
    {
     "name": "stdout",
     "output_type": "stream",
     "text": [
      "Epoch 4\n",
      "Val loss 0.624, F1 0.712, Acc 0.744, BA 0.739\n",
      "cm[[16  6]\n",
      " [14 42]]\n"
     ]
    },
    {
     "name": "stderr",
     "output_type": "stream",
     "text": [
      "100%|████████████████████████████████████████████████████████████████████████████████████| 5/5 [00:26<00:00,  5.32s/it]\n"
     ]
    },
    {
     "name": "stdout",
     "output_type": "stream",
     "text": [
      "cm[[ 64  22]\n",
      " [ 67 157]]\n",
      "              precision    recall  f1-score   support\n",
      "\n",
      "           0       0.49      0.74      0.59        86\n",
      "           1       0.88      0.70      0.78       224\n",
      "\n",
      "    accuracy                           0.71       310\n",
      "   macro avg       0.68      0.72      0.68       310\n",
      "weighted avg       0.77      0.71      0.73       310\n",
      "\n",
      "F1 0.727, Acc 0.713, BA 0.723\n"
     ]
    },
    {
     "name": "stderr",
     "output_type": "stream",
     "text": [
      "100%|██████████████████████████████████████████████████████████████████████████████████| 15/15 [01:00<00:00,  4.06s/it]\n"
     ]
    },
    {
     "name": "stdout",
     "output_type": "stream",
     "text": [
      "Epoch 5\n",
      "Train loss 0.555, F1 0.735, Acc 0.779, BA 0.746\n",
      "cm[[168  82]\n",
      " [118 535]]\n"
     ]
    },
    {
     "name": "stderr",
     "output_type": "stream",
     "text": [
      "100%|████████████████████████████████████████████████████████████████████████████████████| 2/2 [00:26<00:00, 13.46s/it]\n"
     ]
    },
    {
     "name": "stdout",
     "output_type": "stream",
     "text": [
      "Epoch 5\n",
      "Val loss 0.596, F1 0.805, Acc 0.846, BA 0.796\n",
      "cm[[15  7]\n",
      " [ 5 51]]\n"
     ]
    },
    {
     "name": "stderr",
     "output_type": "stream",
     "text": [
      "100%|████████████████████████████████████████████████████████████████████████████████████| 5/5 [01:26<00:00, 17.30s/it]\n"
     ]
    },
    {
     "name": "stdout",
     "output_type": "stream",
     "text": [
      "cm[[ 56  30]\n",
      " [ 39 185]]\n",
      "              precision    recall  f1-score   support\n",
      "\n",
      "           0       0.59      0.65      0.62        86\n",
      "           1       0.86      0.83      0.84       224\n",
      "\n",
      "    accuracy                           0.78       310\n",
      "   macro avg       0.72      0.74      0.73       310\n",
      "weighted avg       0.79      0.78      0.78       310\n",
      "\n",
      "F1 0.781, Acc 0.777, BA 0.739\n",
      "Saving\n"
     ]
    },
    {
     "name": "stderr",
     "output_type": "stream",
     "text": [
      "100%|██████████████████████████████████████████████████████████████████████████████████| 15/15 [01:49<00:00,  7.27s/it]\n"
     ]
    },
    {
     "name": "stdout",
     "output_type": "stream",
     "text": [
      "Epoch 6\n",
      "Train loss 0.525, F1 0.744, Acc 0.786, BA 0.755\n",
      "cm[[171  79]\n",
      " [114 539]]\n"
     ]
    },
    {
     "name": "stderr",
     "output_type": "stream",
     "text": [
      "100%|████████████████████████████████████████████████████████████████████████████████████| 2/2 [00:27<00:00, 13.54s/it]\n"
     ]
    },
    {
     "name": "stdout",
     "output_type": "stream",
     "text": [
      "Epoch 6\n",
      "Val loss 0.580, F1 0.717, Acc 0.756, BA 0.734\n",
      "cm[[15  7]\n",
      " [12 44]]\n"
     ]
    },
    {
     "name": "stderr",
     "output_type": "stream",
     "text": [
      "100%|████████████████████████████████████████████████████████████████████████████████████| 5/5 [00:55<00:00, 11.06s/it]\n"
     ]
    },
    {
     "name": "stdout",
     "output_type": "stream",
     "text": [
      "cm[[ 65  21]\n",
      " [ 64 160]]\n",
      "              precision    recall  f1-score   support\n",
      "\n",
      "           0       0.50      0.76      0.60        86\n",
      "           1       0.88      0.71      0.79       224\n",
      "\n",
      "    accuracy                           0.73       310\n",
      "   macro avg       0.69      0.74      0.70       310\n",
      "weighted avg       0.78      0.73      0.74       310\n",
      "\n",
      "F1 0.739, Acc 0.726, BA 0.735\n"
     ]
    },
    {
     "name": "stderr",
     "output_type": "stream",
     "text": [
      "100%|██████████████████████████████████████████████████████████████████████████████████| 15/15 [01:27<00:00,  5.84s/it]\n"
     ]
    },
    {
     "name": "stdout",
     "output_type": "stream",
     "text": [
      "Epoch 7\n",
      "Train loss 0.490, F1 0.777, Acc 0.828, BA 0.767\n",
      "cm[[157  93]\n",
      " [ 62 591]]\n"
     ]
    },
    {
     "name": "stderr",
     "output_type": "stream",
     "text": [
      "100%|████████████████████████████████████████████████████████████████████████████████████| 2/2 [00:27<00:00, 13.56s/it]\n"
     ]
    },
    {
     "name": "stdout",
     "output_type": "stream",
     "text": [
      "Epoch 7\n",
      "Val loss 0.577, F1 0.683, Acc 0.718, BA 0.707\n",
      "cm[[15  7]\n",
      " [15 41]]\n"
     ]
    },
    {
     "name": "stderr",
     "output_type": "stream",
     "text": [
      "100%|████████████████████████████████████████████████████████████████████████████████████| 5/5 [01:04<00:00, 12.93s/it]\n"
     ]
    },
    {
     "name": "stdout",
     "output_type": "stream",
     "text": [
      "cm[[ 68  18]\n",
      " [ 70 154]]\n",
      "              precision    recall  f1-score   support\n",
      "\n",
      "           0       0.49      0.79      0.61        86\n",
      "           1       0.90      0.69      0.78       224\n",
      "\n",
      "    accuracy                           0.72       310\n",
      "   macro avg       0.69      0.74      0.69       310\n",
      "weighted avg       0.78      0.72      0.73       310\n",
      "\n",
      "F1 0.730, Acc 0.716, BA 0.739\n"
     ]
    },
    {
     "name": "stderr",
     "output_type": "stream",
     "text": [
      "100%|██████████████████████████████████████████████████████████████████████████████████| 15/15 [02:20<00:00,  9.39s/it]\n"
     ]
    },
    {
     "name": "stdout",
     "output_type": "stream",
     "text": [
      "Epoch 8\n",
      "Train loss 0.482, F1 0.764, Acc 0.797, BA 0.786\n",
      "cm[[190  60]\n",
      " [123 530]]\n"
     ]
    },
    {
     "name": "stderr",
     "output_type": "stream",
     "text": [
      "100%|████████████████████████████████████████████████████████████████████████████████████| 2/2 [00:24<00:00, 12.30s/it]\n"
     ]
    },
    {
     "name": "stdout",
     "output_type": "stream",
     "text": [
      "Epoch 8\n",
      "Val loss 0.603, F1 0.614, Acc 0.628, BA 0.672\n",
      "cm[[17  5]\n",
      " [24 32]]\n"
     ]
    },
    {
     "name": "stderr",
     "output_type": "stream",
     "text": [
      "100%|████████████████████████████████████████████████████████████████████████████████████| 5/5 [00:41<00:00,  8.28s/it]\n"
     ]
    },
    {
     "name": "stdout",
     "output_type": "stream",
     "text": [
      "cm[[ 74  12]\n",
      " [ 93 131]]\n",
      "              precision    recall  f1-score   support\n",
      "\n",
      "           0       0.44      0.86      0.58        86\n",
      "           1       0.92      0.58      0.71       224\n",
      "\n",
      "    accuracy                           0.66       310\n",
      "   macro avg       0.68      0.72      0.65       310\n",
      "weighted avg       0.78      0.66      0.68       310\n",
      "\n",
      "F1 0.678, Acc 0.661, BA 0.723\n"
     ]
    },
    {
     "name": "stderr",
     "output_type": "stream",
     "text": [
      "100%|██████████████████████████████████████████████████████████████████████████████████| 15/15 [01:40<00:00,  6.72s/it]\n"
     ]
    },
    {
     "name": "stdout",
     "output_type": "stream",
     "text": [
      "Epoch 9\n",
      "Train loss 0.434, F1 0.771, Acc 0.819, BA 0.768\n",
      "cm[[163  87]\n",
      " [ 76 577]]\n"
     ]
    },
    {
     "name": "stderr",
     "output_type": "stream",
     "text": [
      "100%|████████████████████████████████████████████████████████████████████████████████████| 2/2 [00:31<00:00, 15.64s/it]\n"
     ]
    },
    {
     "name": "stdout",
     "output_type": "stream",
     "text": [
      "Epoch 9\n",
      "Val loss 0.560, F1 0.747, Acc 0.795, BA 0.747\n",
      "cm[[14  8]\n",
      " [ 8 48]]\n"
     ]
    },
    {
     "name": "stderr",
     "output_type": "stream",
     "text": [
      "100%|████████████████████████████████████████████████████████████████████████████████████| 5/5 [01:11<00:00, 14.38s/it]\n"
     ]
    },
    {
     "name": "stdout",
     "output_type": "stream",
     "text": [
      "cm[[ 62  24]\n",
      " [ 39 185]]\n",
      "              precision    recall  f1-score   support\n",
      "\n",
      "           0       0.61      0.72      0.66        86\n",
      "           1       0.89      0.83      0.85       224\n",
      "\n",
      "    accuracy                           0.80       310\n",
      "   macro avg       0.75      0.77      0.76       310\n",
      "weighted avg       0.81      0.80      0.80       310\n",
      "\n",
      "F1 0.801, Acc 0.797, BA 0.773\n"
     ]
    },
    {
     "name": "stderr",
     "output_type": "stream",
     "text": [
      "100%|██████████████████████████████████████████████████████████████████████████████████| 15/15 [01:37<00:00,  6.53s/it]\n"
     ]
    },
    {
     "name": "stdout",
     "output_type": "stream",
     "text": [
      "Epoch 10\n",
      "Train loss 0.439, F1 0.790, Acc 0.821, BA 0.811\n",
      "cm[[197  53]\n",
      " [109 544]]\n"
     ]
    },
    {
     "name": "stderr",
     "output_type": "stream",
     "text": [
      "100%|████████████████████████████████████████████████████████████████████████████████████| 2/2 [00:25<00:00, 12.96s/it]\n"
     ]
    },
    {
     "name": "stdout",
     "output_type": "stream",
     "text": [
      "Epoch 10\n",
      "Val loss 0.583, F1 0.683, Acc 0.718, BA 0.707\n",
      "cm[[15  7]\n",
      " [15 41]]\n"
     ]
    },
    {
     "name": "stderr",
     "output_type": "stream",
     "text": [
      "100%|████████████████████████████████████████████████████████████████████████████████████| 5/5 [00:53<00:00, 10.65s/it]\n"
     ]
    },
    {
     "name": "stdout",
     "output_type": "stream",
     "text": [
      "cm[[ 66  20]\n",
      " [ 61 163]]\n",
      "              precision    recall  f1-score   support\n",
      "\n",
      "           0       0.52      0.77      0.62        86\n",
      "           1       0.89      0.73      0.80       224\n",
      "\n",
      "    accuracy                           0.74       310\n",
      "   macro avg       0.71      0.75      0.71       310\n",
      "weighted avg       0.79      0.74      0.75       310\n",
      "\n",
      "F1 0.751, Acc 0.739, BA 0.748\n"
     ]
    },
    {
     "name": "stderr",
     "output_type": "stream",
     "text": [
      "100%|██████████████████████████████████████████████████████████████████████████████████| 15/15 [01:38<00:00,  6.59s/it]\n"
     ]
    },
    {
     "name": "stdout",
     "output_type": "stream",
     "text": [
      "Epoch 11\n",
      "Train loss 0.401, F1 0.815, Acc 0.852, BA 0.816\n",
      "cm[[184  66]\n",
      " [ 68 585]]\n"
     ]
    },
    {
     "name": "stderr",
     "output_type": "stream",
     "text": [
      "100%|████████████████████████████████████████████████████████████████████████████████████| 2/2 [00:25<00:00, 12.71s/it]\n"
     ]
    },
    {
     "name": "stdout",
     "output_type": "stream",
     "text": [
      "Epoch 11\n",
      "Val loss 0.606, F1 0.632, Acc 0.654, BA 0.676\n",
      "cm[[16  6]\n",
      " [21 35]]\n"
     ]
    },
    {
     "name": "stderr",
     "output_type": "stream",
     "text": [
      "100%|████████████████████████████████████████████████████████████████████████████████████| 5/5 [00:52<00:00, 10.52s/it]\n"
     ]
    },
    {
     "name": "stdout",
     "output_type": "stream",
     "text": [
      "cm[[ 71  15]\n",
      " [ 77 147]]\n",
      "              precision    recall  f1-score   support\n",
      "\n",
      "           0       0.48      0.83      0.61        86\n",
      "           1       0.91      0.66      0.76       224\n",
      "\n",
      "    accuracy                           0.70       310\n",
      "   macro avg       0.69      0.74      0.68       310\n",
      "weighted avg       0.79      0.70      0.72       310\n",
      "\n",
      "F1 0.719, Acc 0.703, BA 0.741\n"
     ]
    },
    {
     "name": "stderr",
     "output_type": "stream",
     "text": [
      "100%|██████████████████████████████████████████████████████████████████████████████████| 15/15 [01:37<00:00,  6.48s/it]\n"
     ]
    },
    {
     "name": "stdout",
     "output_type": "stream",
     "text": [
      "Epoch 12\n",
      "Train loss 0.414, F1 0.813, Acc 0.846, BA 0.823\n",
      "cm[[193  57]\n",
      " [ 82 571]]\n"
     ]
    },
    {
     "name": "stderr",
     "output_type": "stream",
     "text": [
      "100%|████████████████████████████████████████████████████████████████████████████████████| 2/2 [00:25<00:00, 12.86s/it]\n"
     ]
    },
    {
     "name": "stdout",
     "output_type": "stream",
     "text": [
      "Epoch 12\n",
      "Val loss 0.588, F1 0.735, Acc 0.782, BA 0.738\n",
      "cm[[14  8]\n",
      " [ 9 47]]\n"
     ]
    },
    {
     "name": "stderr",
     "output_type": "stream",
     "text": [
      "100%|████████████████████████████████████████████████████████████████████████████████████| 5/5 [00:52<00:00, 10.57s/it]"
     ]
    },
    {
     "name": "stdout",
     "output_type": "stream",
     "text": [
      "cm[[ 62  24]\n",
      " [ 42 182]]\n",
      "              precision    recall  f1-score   support\n",
      "\n",
      "           0       0.60      0.72      0.65        86\n",
      "           1       0.88      0.81      0.85       224\n",
      "\n",
      "    accuracy                           0.79       310\n",
      "   macro avg       0.74      0.77      0.75       310\n",
      "weighted avg       0.80      0.79      0.79       310\n",
      "\n",
      "F1 0.793, Acc 0.787, BA 0.767\n",
      "Early stopping triggered.\n"
     ]
    },
    {
     "name": "stderr",
     "output_type": "stream",
     "text": [
      "\n"
     ]
    }
   ],
   "source": [
    "#state_dict = torch.load('C:\\\\Users\\\\preet\\\\Documents\\\\BRSET\\\\BRSET\\\\Models\\\\fine_tuned_resnet50_best.pth')\n",
    "#model.load_state_dict(state_dict, strict=True) \n",
    "save_dir= 'C:\\\\Users\\\\preet\\\\Documents\\\\mBRSET\\\\mBRSET\\\\Experiment4'\n",
    "model = train(model, train_dataloader, val_dataloader,test_dataloader,\n",
    "              criterion, optimizer, scheduler=None, num_epochs=num_epochs, save=True, save_dir = save_dir,device=\"cuda\", \n",
    "              backbone=f'convnextv2_binary_{LABEL}',patience=7)"
   ]
  },
  {
   "cell_type": "code",
   "execution_count": 12,
   "id": "6f5e15ba-cf2b-44e5-af54-b7d1305296fb",
   "metadata": {},
   "outputs": [
    {
     "name": "stderr",
     "output_type": "stream",
     "text": [
      "100%|████████████████████████████████████████████████████████████████████████████████████| 5/5 [00:51<00:00, 10.40s/it]"
     ]
    },
    {
     "name": "stdout",
     "output_type": "stream",
     "text": [
      "cm[[ 62  24]\n",
      " [ 42 182]]\n",
      "              precision    recall  f1-score   support\n",
      "\n",
      "           0       0.60      0.72      0.65        86\n",
      "           1       0.88      0.81      0.85       224\n",
      "\n",
      "    accuracy                           0.79       310\n",
      "   macro avg       0.74      0.77      0.75       310\n",
      "weighted avg       0.80      0.79      0.79       310\n",
      "\n",
      "F1 0.793, Acc 0.787, BA 0.767\n"
     ]
    },
    {
     "name": "stderr",
     "output_type": "stream",
     "text": [
      "\n"
     ]
    },
    {
     "data": {
      "text/plain": [
       "(array([0.4934856 , 0.02082931, 0.6516588 , 0.8610927 , 0.8135206 ,\n",
       "        0.6258793 , 0.8854784 , 0.44364986, 0.6435862 , 0.20730615,\n",
       "        0.5103957 , 0.8225147 , 0.07855059, 0.5386679 , 0.06165194,\n",
       "        0.78355753, 0.94568574, 0.6648762 , 0.0415236 , 0.13789529,\n",
       "        0.88214475, 0.4198746 , 0.90060514, 0.45179823, 0.3742952 ,\n",
       "        0.62765324, 0.93275875, 0.21473035, 0.77479535, 0.19770549,\n",
       "        0.01145617, 0.03442846, 0.8724271 , 0.7016694 , 0.6995896 ,\n",
       "        0.04163787, 0.5739627 , 0.7791926 , 0.5003636 , 0.02938218,\n",
       "        0.8167291 , 0.8429064 , 0.8669995 , 0.01659785, 0.6311654 ,\n",
       "        0.695195  , 0.7606398 , 0.0208903 , 0.86359954, 0.79923487,\n",
       "        0.7824752 , 0.779509  , 0.8488483 , 0.4806023 , 0.8660646 ,\n",
       "        0.79777384, 0.02287627, 0.94337803, 0.75752   , 0.7651536 ,\n",
       "        0.49905849, 0.8077194 , 0.76016915, 0.17918757, 0.7648988 ,\n",
       "        0.31957036, 0.7830442 , 0.00949759, 0.51376235, 0.8720604 ,\n",
       "        0.7699192 , 0.85593325, 0.43222094, 0.812062  , 0.12626283,\n",
       "        0.8022182 , 0.03236856, 0.02147259, 0.90974295, 0.8136205 ,\n",
       "        0.73420846, 0.66204154, 0.4742623 , 0.79743683, 0.45573908,\n",
       "        0.06209987, 0.7249821 , 0.16125251, 0.85692346, 0.7996419 ,\n",
       "        0.2067116 , 0.677932  , 0.595048  , 0.06591178, 0.5699616 ,\n",
       "        0.7710947 , 0.45366532, 0.8672318 , 0.7114788 , 0.50357133,\n",
       "        0.6245126 , 0.8447836 , 0.6522481 , 0.89752   , 0.88944495,\n",
       "        0.81888694, 0.09322306, 0.92346364, 0.8833984 , 0.4888553 ,\n",
       "        0.69018894, 0.5149774 , 0.39593315, 0.9346283 , 0.88796526,\n",
       "        0.07250305, 0.58865786, 0.84378386, 0.7148325 , 0.9131966 ,\n",
       "        0.5578889 , 0.8905588 , 0.9101426 , 0.74517107, 0.294177  ,\n",
       "        0.8497883 , 0.0818984 , 0.89028376, 0.0386716 , 0.05891108,\n",
       "        0.7846924 , 0.80584437, 0.09865434, 0.8557712 , 0.59205854,\n",
       "        0.06270586, 0.90681696, 0.74398273, 0.8997423 , 0.05368262,\n",
       "        0.46458858, 0.24895382, 0.5146948 , 0.6098324 , 0.09696815,\n",
       "        0.8593633 , 0.34120828, 0.809332  , 0.8731404 , 0.7117286 ,\n",
       "        0.87435186, 0.912007  , 0.71784735, 0.5435144 , 0.80781484,\n",
       "        0.5900374 , 0.28984153, 0.5517174 , 0.48774672, 0.07085675,\n",
       "        0.86499363, 0.8214455 , 0.13042475, 0.7418392 , 0.88491917,\n",
       "        0.42926002, 0.5935015 , 0.8937465 , 0.7938648 , 0.17627923,\n",
       "        0.63759726, 0.03029477, 0.06401636, 0.92136157, 0.4293692 ,\n",
       "        0.6405758 , 0.9128725 , 0.3700771 , 0.7950077 , 0.10629754,\n",
       "        0.80994713, 0.06143614, 0.87141144, 0.7950168 , 0.02048769,\n",
       "        0.44580498, 0.5738872 , 0.82691497, 0.50471896, 0.3165655 ,\n",
       "        0.62192744, 0.3861024 , 0.38864842, 0.87817955, 0.8054197 ,\n",
       "        0.8730857 , 0.732352  , 0.5243911 , 0.6824587 , 0.8762806 ,\n",
       "        0.88892365, 0.03951435, 0.57378316, 0.17145394, 0.7121826 ,\n",
       "        0.29964525, 0.9151253 , 0.7055896 , 0.6649862 , 0.70093924,\n",
       "        0.54571694, 0.9443486 , 0.7199596 , 0.4390567 , 0.7553995 ,\n",
       "        0.8596275 , 0.02665349, 0.2692711 , 0.60239977, 0.05849334,\n",
       "        0.3544135 , 0.02039725, 0.09950969, 0.79323745, 0.7453287 ,\n",
       "        0.9492636 , 0.54034257, 0.86169964, 0.1266436 , 0.6332848 ,\n",
       "        0.8269928 , 0.83301693, 0.35694155, 0.49237713, 0.8106721 ,\n",
       "        0.04375661, 0.9175482 , 0.8824144 , 0.8814737 , 0.6485761 ,\n",
       "        0.93566966, 0.7617406 , 0.85973114, 0.85973114, 0.56389654,\n",
       "        0.62291265, 0.02032699, 0.82164353, 0.8523557 , 0.7983234 ,\n",
       "        0.4312399 , 0.24320108, 0.8706733 , 0.91144735, 0.06110871,\n",
       "        0.8692934 , 0.1181594 , 0.5426393 , 0.7402094 , 0.7783591 ,\n",
       "        0.55897963, 0.6592279 , 0.8003856 , 0.32691896, 0.1300055 ,\n",
       "        0.52168775, 0.8002799 , 0.49610874, 0.845875  , 0.7668935 ,\n",
       "        0.7739456 , 0.2087599 , 0.7655896 , 0.68575746, 0.7778725 ,\n",
       "        0.93829113, 0.21645182, 0.5176318 , 0.77315205, 0.05324881,\n",
       "        0.7003989 , 0.79204696, 0.8559299 , 0.33657992, 0.6937661 ,\n",
       "        0.640639  , 0.24468952, 0.78355616, 0.8984235 , 0.5174437 ,\n",
       "        0.73564607, 0.77110857, 0.6799334 , 0.12504618, 0.35653195,\n",
       "        0.7572244 , 0.2701655 , 0.05163181, 0.9247347 , 0.496062  ,\n",
       "        0.46099052, 0.8760755 , 0.57984924, 0.7636258 , 0.6745401 ,\n",
       "        0.95385206, 0.807521  , 0.02886059, 0.44083342, 0.0792401 ],\n",
       "       dtype=float32),\n",
       " array([[0., 1.],\n",
       "        [1., 0.],\n",
       "        [0., 1.],\n",
       "        [0., 1.],\n",
       "        [0., 1.],\n",
       "        [0., 1.],\n",
       "        [0., 1.],\n",
       "        [0., 1.],\n",
       "        [0., 1.],\n",
       "        [0., 1.],\n",
       "        [0., 1.],\n",
       "        [0., 1.],\n",
       "        [1., 0.],\n",
       "        [0., 1.],\n",
       "        [1., 0.],\n",
       "        [0., 1.],\n",
       "        [0., 1.],\n",
       "        [0., 1.],\n",
       "        [1., 0.],\n",
       "        [1., 0.],\n",
       "        [0., 1.],\n",
       "        [0., 1.],\n",
       "        [0., 1.],\n",
       "        [0., 1.],\n",
       "        [0., 1.],\n",
       "        [0., 1.],\n",
       "        [0., 1.],\n",
       "        [0., 1.],\n",
       "        [0., 1.],\n",
       "        [1., 0.],\n",
       "        [1., 0.],\n",
       "        [1., 0.],\n",
       "        [0., 1.],\n",
       "        [0., 1.],\n",
       "        [0., 1.],\n",
       "        [1., 0.],\n",
       "        [0., 1.],\n",
       "        [0., 1.],\n",
       "        [0., 1.],\n",
       "        [1., 0.],\n",
       "        [0., 1.],\n",
       "        [0., 1.],\n",
       "        [0., 1.],\n",
       "        [1., 0.],\n",
       "        [0., 1.],\n",
       "        [0., 1.],\n",
       "        [1., 0.],\n",
       "        [1., 0.],\n",
       "        [0., 1.],\n",
       "        [0., 1.],\n",
       "        [1., 0.],\n",
       "        [1., 0.],\n",
       "        [0., 1.],\n",
       "        [1., 0.],\n",
       "        [0., 1.],\n",
       "        [0., 1.],\n",
       "        [1., 0.],\n",
       "        [0., 1.],\n",
       "        [0., 1.],\n",
       "        [0., 1.],\n",
       "        [0., 1.],\n",
       "        [0., 1.],\n",
       "        [0., 1.],\n",
       "        [0., 1.],\n",
       "        [0., 1.],\n",
       "        [1., 0.],\n",
       "        [0., 1.],\n",
       "        [1., 0.],\n",
       "        [0., 1.],\n",
       "        [0., 1.],\n",
       "        [1., 0.],\n",
       "        [0., 1.],\n",
       "        [1., 0.],\n",
       "        [1., 0.],\n",
       "        [0., 1.],\n",
       "        [0., 1.],\n",
       "        [1., 0.],\n",
       "        [1., 0.],\n",
       "        [0., 1.],\n",
       "        [0., 1.],\n",
       "        [0., 1.],\n",
       "        [1., 0.],\n",
       "        [0., 1.],\n",
       "        [0., 1.],\n",
       "        [0., 1.],\n",
       "        [1., 0.],\n",
       "        [1., 0.],\n",
       "        [1., 0.],\n",
       "        [0., 1.],\n",
       "        [0., 1.],\n",
       "        [1., 0.],\n",
       "        [0., 1.],\n",
       "        [0., 1.],\n",
       "        [1., 0.],\n",
       "        [0., 1.],\n",
       "        [0., 1.],\n",
       "        [0., 1.],\n",
       "        [0., 1.],\n",
       "        [0., 1.],\n",
       "        [1., 0.],\n",
       "        [0., 1.],\n",
       "        [0., 1.],\n",
       "        [0., 1.],\n",
       "        [0., 1.],\n",
       "        [0., 1.],\n",
       "        [0., 1.],\n",
       "        [1., 0.],\n",
       "        [0., 1.],\n",
       "        [0., 1.],\n",
       "        [1., 0.],\n",
       "        [0., 1.],\n",
       "        [0., 1.],\n",
       "        [0., 1.],\n",
       "        [1., 0.],\n",
       "        [0., 1.],\n",
       "        [0., 1.],\n",
       "        [0., 1.],\n",
       "        [0., 1.],\n",
       "        [0., 1.],\n",
       "        [0., 1.],\n",
       "        [1., 0.],\n",
       "        [0., 1.],\n",
       "        [0., 1.],\n",
       "        [0., 1.],\n",
       "        [0., 1.],\n",
       "        [0., 1.],\n",
       "        [0., 1.],\n",
       "        [0., 1.],\n",
       "        [1., 0.],\n",
       "        [1., 0.],\n",
       "        [0., 1.],\n",
       "        [1., 0.],\n",
       "        [1., 0.],\n",
       "        [0., 1.],\n",
       "        [0., 1.],\n",
       "        [1., 0.],\n",
       "        [0., 1.],\n",
       "        [0., 1.],\n",
       "        [0., 1.],\n",
       "        [1., 0.],\n",
       "        [0., 1.],\n",
       "        [1., 0.],\n",
       "        [1., 0.],\n",
       "        [0., 1.],\n",
       "        [0., 1.],\n",
       "        [0., 1.],\n",
       "        [1., 0.],\n",
       "        [0., 1.],\n",
       "        [0., 1.],\n",
       "        [1., 0.],\n",
       "        [0., 1.],\n",
       "        [0., 1.],\n",
       "        [0., 1.],\n",
       "        [0., 1.],\n",
       "        [0., 1.],\n",
       "        [0., 1.],\n",
       "        [1., 0.],\n",
       "        [0., 1.],\n",
       "        [0., 1.],\n",
       "        [1., 0.],\n",
       "        [0., 1.],\n",
       "        [0., 1.],\n",
       "        [0., 1.],\n",
       "        [0., 1.],\n",
       "        [0., 1.],\n",
       "        [0., 1.],\n",
       "        [0., 1.],\n",
       "        [0., 1.],\n",
       "        [0., 1.],\n",
       "        [1., 0.],\n",
       "        [0., 1.],\n",
       "        [1., 0.],\n",
       "        [1., 0.],\n",
       "        [0., 1.],\n",
       "        [1., 0.],\n",
       "        [0., 1.],\n",
       "        [0., 1.],\n",
       "        [0., 1.],\n",
       "        [0., 1.],\n",
       "        [1., 0.],\n",
       "        [1., 0.],\n",
       "        [1., 0.],\n",
       "        [0., 1.],\n",
       "        [0., 1.],\n",
       "        [1., 0.],\n",
       "        [1., 0.],\n",
       "        [1., 0.],\n",
       "        [0., 1.],\n",
       "        [0., 1.],\n",
       "        [0., 1.],\n",
       "        [0., 1.],\n",
       "        [0., 1.],\n",
       "        [0., 1.],\n",
       "        [0., 1.],\n",
       "        [0., 1.],\n",
       "        [0., 1.],\n",
       "        [0., 1.],\n",
       "        [0., 1.],\n",
       "        [1., 0.],\n",
       "        [0., 1.],\n",
       "        [0., 1.],\n",
       "        [1., 0.],\n",
       "        [1., 0.],\n",
       "        [1., 0.],\n",
       "        [0., 1.],\n",
       "        [1., 0.],\n",
       "        [0., 1.],\n",
       "        [0., 1.],\n",
       "        [0., 1.],\n",
       "        [0., 1.],\n",
       "        [0., 1.],\n",
       "        [0., 1.],\n",
       "        [0., 1.],\n",
       "        [1., 0.],\n",
       "        [0., 1.],\n",
       "        [0., 1.],\n",
       "        [1., 0.],\n",
       "        [1., 0.],\n",
       "        [0., 1.],\n",
       "        [1., 0.],\n",
       "        [0., 1.],\n",
       "        [1., 0.],\n",
       "        [1., 0.],\n",
       "        [0., 1.],\n",
       "        [0., 1.],\n",
       "        [0., 1.],\n",
       "        [0., 1.],\n",
       "        [0., 1.],\n",
       "        [0., 1.],\n",
       "        [0., 1.],\n",
       "        [0., 1.],\n",
       "        [0., 1.],\n",
       "        [0., 1.],\n",
       "        [0., 1.],\n",
       "        [0., 1.],\n",
       "        [1., 0.],\n",
       "        [0., 1.],\n",
       "        [1., 0.],\n",
       "        [0., 1.],\n",
       "        [0., 1.],\n",
       "        [0., 1.],\n",
       "        [0., 1.],\n",
       "        [1., 0.],\n",
       "        [0., 1.],\n",
       "        [0., 1.],\n",
       "        [1., 0.],\n",
       "        [1., 0.],\n",
       "        [0., 1.],\n",
       "        [0., 1.],\n",
       "        [0., 1.],\n",
       "        [0., 1.],\n",
       "        [1., 0.],\n",
       "        [0., 1.],\n",
       "        [0., 1.],\n",
       "        [0., 1.],\n",
       "        [0., 1.],\n",
       "        [0., 1.],\n",
       "        [1., 0.],\n",
       "        [0., 1.],\n",
       "        [0., 1.],\n",
       "        [0., 1.],\n",
       "        [0., 1.],\n",
       "        [1., 0.],\n",
       "        [0., 1.],\n",
       "        [0., 1.],\n",
       "        [0., 1.],\n",
       "        [0., 1.],\n",
       "        [0., 1.],\n",
       "        [0., 1.],\n",
       "        [0., 1.],\n",
       "        [0., 1.],\n",
       "        [0., 1.],\n",
       "        [0., 1.],\n",
       "        [0., 1.],\n",
       "        [0., 1.],\n",
       "        [0., 1.],\n",
       "        [0., 1.],\n",
       "        [0., 1.],\n",
       "        [0., 1.],\n",
       "        [1., 0.],\n",
       "        [0., 1.],\n",
       "        [0., 1.],\n",
       "        [0., 1.],\n",
       "        [1., 0.],\n",
       "        [0., 1.],\n",
       "        [1., 0.],\n",
       "        [1., 0.],\n",
       "        [0., 1.],\n",
       "        [0., 1.],\n",
       "        [1., 0.],\n",
       "        [0., 1.],\n",
       "        [0., 1.],\n",
       "        [0., 1.],\n",
       "        [1., 0.],\n",
       "        [0., 1.],\n",
       "        [0., 1.],\n",
       "        [0., 1.],\n",
       "        [1., 0.],\n",
       "        [0., 1.],\n",
       "        [0., 1.],\n",
       "        [1., 0.],\n",
       "        [0., 1.],\n",
       "        [0., 1.],\n",
       "        [0., 1.],\n",
       "        [0., 1.],\n",
       "        [0., 1.],\n",
       "        [0., 1.],\n",
       "        [1., 0.],\n",
       "        [0., 1.],\n",
       "        [1., 0.]], dtype=float32))"
      ]
     },
     "execution_count": 12,
     "metadata": {},
     "output_type": "execute_result"
    }
   ],
   "source": [
    "\n",
    "test(model, test_dataloader, saliency=True, device=device)"
   ]
  }
 ],
 "metadata": {
  "kernelspec": {
   "display_name": "Python 3 (ipykernel)",
   "language": "python",
   "name": "python3"
  },
  "language_info": {
   "codemirror_mode": {
    "name": "ipython",
    "version": 3
   },
   "file_extension": ".py",
   "mimetype": "text/x-python",
   "name": "python",
   "nbconvert_exporter": "python",
   "pygments_lexer": "ipython3",
   "version": "3.8.17"
  }
 },
 "nbformat": 4,
 "nbformat_minor": 5
}
