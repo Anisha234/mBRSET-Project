{
 "cells": [
  {
   "cell_type": "markdown",
   "id": "67caa755",
   "metadata": {},
   "source": [
    "### Setup Environment:"
   ]
  },
  {
   "cell_type": "code",
   "execution_count": 1,
   "id": "ff7164ae",
   "metadata": {},
   "outputs": [],
   "source": [
    "from src.get_dataset import get_dataset, split_data\n",
    "from src.data_loader import BRSETDataset, process_labels\n",
    "from src.model import FoundationalCVModel, FoundationalCVModelWithClassifier\n",
    "from sklearn.utils.class_weight import compute_class_weight\n",
    "from torch.utils.data import DataLoader\n",
    "import torch\n",
    "import torch.nn as nn\n",
    "import torch.optim as optim\n",
    "from torchvision import transforms\n",
    "import os\n",
    "import matplotlib.pyplot as plt\n",
    "import numpy as np\n",
    "\n",
    "# loss function and optimizer\n",
    "from src.FocalLoss import BinaryFocalLoss, FocalLoss\n",
    "\n",
    "# train and test functions\n",
    "from src.train import train\n",
    "from src.test import test"
   ]
  },
  {
   "cell_type": "code",
   "execution_count": 2,
   "id": "41c1eda4",
   "metadata": {},
   "outputs": [],
   "source": [
    "# Constants:\n",
    "DATASET = 'C:\\\\Users\\\\preet\\\\Documents\\\\mBRSET\\\\mbrset-a-mobile-brazilian-retinal-dataset-1.0\\\\'\n",
    "HOME_DIR = 'C:\\\\Users\\\\preet\\\\Documents\\\\mBRSET\\\\mBRSET\\\\' # change this as appropriate \n",
    "DOWNLOAD = False\n",
    "SHAPE = (224, 224)\n",
    "IMAGES = os.path.join(DATASET, 'images')\n",
    "LABEL = 'final_icdr'\n",
    "TEST_SIZE = 0.3\n",
    "UNDERSAMPLE = False\n",
    "HOME_DIR = 'C:\\\\Users\\\\preet\\\\Documents\\\\mBRSET\\\\mBRSET\\\\' # change this as appropriate \n",
    "LABELS_PATH = os.path.join(DATASET, 'labels.csv')\n",
    "IMAGE_COL = 'file'\n",
    "\n",
    "\"\"\"\n",
    "Dataset Mean and Std:\n",
    "NORM_MEAN = [0.5896205017400412, 0.29888971649817453, 0.1107679405196557]\n",
    "NORM_STD = [0.28544273712830986, 0.15905456049750208, 0.07012281660980953]\n",
    "\n",
    "ImageNet Mean and Std:\n",
    "NORM_MEAN = [0.485, 0.456, 0.406]\n",
    "NORM_STD = [0.229, 0.224, 0.225]\n",
    "\"\"\"\n",
    "\n",
    "NORM_MEAN = None # [0.485, 0.456, 0.406]\n",
    "NORM_STD = None # [0.229, 0.224, 0.225]\n",
    "\n",
    "BACKBONE = 'resnet50'\n",
    "MODE = 'fine_tune'\n",
    "backbone_mode = 'fine_tune'\n",
    "\n",
    "HIDDEN = [128]\n",
    "num_classes = 2\n",
    "\n",
    "BATCH_SIZE = 64\n",
    "NUM_WORKERS = 8\n",
    "\n",
    "LOSS = None #'focal_loss'\n",
    "OPTIMIZER = 'adam'\n",
    "USE_RELU = False\n",
    "# Define your hyperparameters\n",
    "num_epochs = 50\n",
    "learning_rate = 1e-5\n",
    "\n",
    "device = torch.device('cuda' if torch.cuda.is_available() else 'cpu')"
   ]
  },
  {
   "cell_type": "markdown",
   "id": "986a7eab",
   "metadata": {},
   "source": [
    "#### Read csv file:"
   ]
  },
  {
   "cell_type": "code",
   "execution_count": 3,
   "id": "0487e2b5",
   "metadata": {},
   "outputs": [
    {
     "name": "stdout",
     "output_type": "stream",
     "text": [
      "loading csv file in C:\\Users\\preet\\Documents\\mBRSET\\mbrset-a-mobile-brazilian-retinal-dataset-1.0\\/labels.csv\n"
     ]
    },
    {
     "data": {
      "text/html": [
       "<div>\n",
       "<style scoped>\n",
       "    .dataframe tbody tr th:only-of-type {\n",
       "        vertical-align: middle;\n",
       "    }\n",
       "\n",
       "    .dataframe tbody tr th {\n",
       "        vertical-align: top;\n",
       "    }\n",
       "\n",
       "    .dataframe thead th {\n",
       "        text-align: right;\n",
       "    }\n",
       "</style>\n",
       "<table border=\"1\" class=\"dataframe\">\n",
       "  <thead>\n",
       "    <tr style=\"text-align: right;\">\n",
       "      <th></th>\n",
       "      <th>patient</th>\n",
       "      <th>age</th>\n",
       "      <th>sex</th>\n",
       "      <th>dm_time</th>\n",
       "      <th>insulin</th>\n",
       "      <th>insulin_time</th>\n",
       "      <th>oraltreatment_dm</th>\n",
       "      <th>systemic_hypertension</th>\n",
       "      <th>insurance</th>\n",
       "      <th>educational_level</th>\n",
       "      <th>...</th>\n",
       "      <th>nephropathy</th>\n",
       "      <th>neuropathy</th>\n",
       "      <th>diabetic_foot</th>\n",
       "      <th>file</th>\n",
       "      <th>laterality</th>\n",
       "      <th>final_artifacts</th>\n",
       "      <th>final_quality</th>\n",
       "      <th>final_icdr</th>\n",
       "      <th>final_edema</th>\n",
       "      <th>normality</th>\n",
       "    </tr>\n",
       "  </thead>\n",
       "  <tbody>\n",
       "    <tr>\n",
       "      <th>0</th>\n",
       "      <td>1</td>\n",
       "      <td>58</td>\n",
       "      <td>1</td>\n",
       "      <td>15.0</td>\n",
       "      <td>1.0</td>\n",
       "      <td>NaN</td>\n",
       "      <td>1.0</td>\n",
       "      <td>1.0</td>\n",
       "      <td>0.0</td>\n",
       "      <td>3.0</td>\n",
       "      <td>...</td>\n",
       "      <td>1.0</td>\n",
       "      <td>0.0</td>\n",
       "      <td>0.0</td>\n",
       "      <td>1.1.jpg</td>\n",
       "      <td>right</td>\n",
       "      <td>yes</td>\n",
       "      <td>yes</td>\n",
       "      <td>4.0</td>\n",
       "      <td>no</td>\n",
       "      <td>abnormal</td>\n",
       "    </tr>\n",
       "    <tr>\n",
       "      <th>1</th>\n",
       "      <td>1</td>\n",
       "      <td>58</td>\n",
       "      <td>1</td>\n",
       "      <td>15.0</td>\n",
       "      <td>1.0</td>\n",
       "      <td>NaN</td>\n",
       "      <td>1.0</td>\n",
       "      <td>1.0</td>\n",
       "      <td>0.0</td>\n",
       "      <td>3.0</td>\n",
       "      <td>...</td>\n",
       "      <td>1.0</td>\n",
       "      <td>0.0</td>\n",
       "      <td>0.0</td>\n",
       "      <td>1.2.jpg</td>\n",
       "      <td>right</td>\n",
       "      <td>yes</td>\n",
       "      <td>yes</td>\n",
       "      <td>4.0</td>\n",
       "      <td>no</td>\n",
       "      <td>abnormal</td>\n",
       "    </tr>\n",
       "    <tr>\n",
       "      <th>2</th>\n",
       "      <td>1</td>\n",
       "      <td>58</td>\n",
       "      <td>1</td>\n",
       "      <td>15.0</td>\n",
       "      <td>1.0</td>\n",
       "      <td>NaN</td>\n",
       "      <td>1.0</td>\n",
       "      <td>1.0</td>\n",
       "      <td>0.0</td>\n",
       "      <td>3.0</td>\n",
       "      <td>...</td>\n",
       "      <td>1.0</td>\n",
       "      <td>0.0</td>\n",
       "      <td>0.0</td>\n",
       "      <td>1.3.jpg</td>\n",
       "      <td>left</td>\n",
       "      <td>yes</td>\n",
       "      <td>yes</td>\n",
       "      <td>4.0</td>\n",
       "      <td>no</td>\n",
       "      <td>abnormal</td>\n",
       "    </tr>\n",
       "    <tr>\n",
       "      <th>3</th>\n",
       "      <td>1</td>\n",
       "      <td>58</td>\n",
       "      <td>1</td>\n",
       "      <td>15.0</td>\n",
       "      <td>1.0</td>\n",
       "      <td>NaN</td>\n",
       "      <td>1.0</td>\n",
       "      <td>1.0</td>\n",
       "      <td>0.0</td>\n",
       "      <td>3.0</td>\n",
       "      <td>...</td>\n",
       "      <td>1.0</td>\n",
       "      <td>0.0</td>\n",
       "      <td>0.0</td>\n",
       "      <td>1.4.jpg</td>\n",
       "      <td>left</td>\n",
       "      <td>yes</td>\n",
       "      <td>yes</td>\n",
       "      <td>4.0</td>\n",
       "      <td>no</td>\n",
       "      <td>abnormal</td>\n",
       "    </tr>\n",
       "    <tr>\n",
       "      <th>4</th>\n",
       "      <td>10</td>\n",
       "      <td>63</td>\n",
       "      <td>0</td>\n",
       "      <td>7.0</td>\n",
       "      <td>0.0</td>\n",
       "      <td>NaN</td>\n",
       "      <td>1.0</td>\n",
       "      <td>1.0</td>\n",
       "      <td>0.0</td>\n",
       "      <td>2.0</td>\n",
       "      <td>...</td>\n",
       "      <td>0.0</td>\n",
       "      <td>0.0</td>\n",
       "      <td>0.0</td>\n",
       "      <td>10.1.jpg</td>\n",
       "      <td>right</td>\n",
       "      <td>yes</td>\n",
       "      <td>yes</td>\n",
       "      <td>0.0</td>\n",
       "      <td>no</td>\n",
       "      <td>abnormal</td>\n",
       "    </tr>\n",
       "  </tbody>\n",
       "</table>\n",
       "<p>5 rows × 25 columns</p>\n",
       "</div>"
      ],
      "text/plain": [
       "   patient age  sex  dm_time  insulin  insulin_time  oraltreatment_dm   \n",
       "0        1  58    1     15.0      1.0           NaN               1.0  \\\n",
       "1        1  58    1     15.0      1.0           NaN               1.0   \n",
       "2        1  58    1     15.0      1.0           NaN               1.0   \n",
       "3        1  58    1     15.0      1.0           NaN               1.0   \n",
       "4       10  63    0      7.0      0.0           NaN               1.0   \n",
       "\n",
       "   systemic_hypertension  insurance  educational_level  ...  nephropathy   \n",
       "0                    1.0        0.0                3.0  ...          1.0  \\\n",
       "1                    1.0        0.0                3.0  ...          1.0   \n",
       "2                    1.0        0.0                3.0  ...          1.0   \n",
       "3                    1.0        0.0                3.0  ...          1.0   \n",
       "4                    1.0        0.0                2.0  ...          0.0   \n",
       "\n",
       "   neuropathy  diabetic_foot      file  laterality  final_artifacts   \n",
       "0         0.0            0.0   1.1.jpg       right              yes  \\\n",
       "1         0.0            0.0   1.2.jpg       right              yes   \n",
       "2         0.0            0.0   1.3.jpg        left              yes   \n",
       "3         0.0            0.0   1.4.jpg        left              yes   \n",
       "4         0.0            0.0  10.1.jpg       right              yes   \n",
       "\n",
       "   final_quality  final_icdr final_edema normality  \n",
       "0            yes         4.0          no  abnormal  \n",
       "1            yes         4.0          no  abnormal  \n",
       "2            yes         4.0          no  abnormal  \n",
       "3            yes         4.0          no  abnormal  \n",
       "4            yes         0.0          no  abnormal  \n",
       "\n",
       "[5 rows x 25 columns]"
      ]
     },
     "execution_count": 3,
     "metadata": {},
     "output_type": "execute_result"
    }
   ],
   "source": [
    "df = get_dataset(DATASET, download=DOWNLOAD, info=False)\n",
    "df.head()"
   ]
  },
  {
   "cell_type": "code",
   "execution_count": 4,
   "id": "1c6b0fe3",
   "metadata": {},
   "outputs": [],
   "source": [
    "# Convert into 2 classes:\n",
    "\n",
    "# Normal = 0; Non-proliferative = 1, 2, 3; Proliferative = 4\n",
    "# for binary: 0: normal, 1-4: abnormal\n",
    "# Map values to categories\n",
    "df[LABEL] = df[LABEL].apply(lambda x: 'Normal' if x == 0 else 'Diabetic Retinopathy')"
   ]
  },
  {
   "cell_type": "code",
   "execution_count": 5,
   "id": "d2830ec9",
   "metadata": {},
   "outputs": [
    {
     "name": "stdout",
     "output_type": "stream",
     "text": [
      "Train data shape: (3614, 25)\n",
      "Test data shape: (1550, 25)\n"
     ]
    },
    {
     "data": {
      "image/png": "[encoded data removed]",
      "text/plain": [
       "<Figure size 1000x500 with 2 Axes>"
      ]
     },
     "metadata": {},
     "output_type": "display_data"
    },
    {
     "name": "stdout",
     "output_type": "stream",
     "text": [
      "Getting validation set...\n",
      "Train data shape: (1240, 25)\n",
      "Test data shape: (310, 25)\n"
     ]
    },
    {
     "data": {
      "image/png": "[encoded data removed]",
      "text/plain": [
       "<Figure size 1000x500 with 2 Axes>"
      ]
     },
     "metadata": {},
     "output_type": "display_data"
    }
   ],
   "source": [
    "# Split dataset into train, test and validation:\n",
    "df_train, df_test = split_data(df, LABEL, TEST_SIZE, undersample=False)\n",
    "print('Getting validation set...')\n",
    "df_test, df_val = split_data(df_test, LABEL, 0.20)"
   ]
  },
  {
   "cell_type": "markdown",
   "id": "93e7975b",
   "metadata": {},
   "source": [
    "### Dataloaders"
   ]
  },
  {
   "cell_type": "code",
   "execution_count": 6,
   "id": "33f243f6",
   "metadata": {},
   "outputs": [
    {
     "name": "stdout",
     "output_type": "stream",
     "text": [
      "2810                  {Normal}\n",
      "1275                  {Normal}\n",
      "2363                  {Normal}\n",
      "3185                  {Normal}\n",
      "5062                  {Normal}\n",
      "                 ...          \n",
      "4704    {Diabetic Retinopathy}\n",
      "2180                  {Normal}\n",
      "3408    {Diabetic Retinopathy}\n",
      "4281    {Diabetic Retinopathy}\n",
      "4724    {Diabetic Retinopathy}\n",
      "Name: final_icdr, Length: 3614, dtype: object\n"
     ]
    }
   ],
   "source": [
    "# Train the one hot encoder on the train set and get the labels for the test and validation sets:\n",
    "train_labels, mlb, train_columns = process_labels(df_train, col=LABEL)"
   ]
  },
  {
   "cell_type": "code",
   "execution_count": 7,
   "id": "fb38e445",
   "metadata": {},
   "outputs": [],
   "source": [
    "# Define the target image shape\n",
    "SHAPE = (224, 224)  # Adjust to your desired image size\n",
    "\n",
    "train_transforms = transforms.Compose([\n",
    "    transforms.Resize((256, 256)),\n",
    "    transforms.RandomCrop(SHAPE),\n",
    "    transforms.ToTensor(),\n",
    "    transforms.RandomHorizontalFlip(),  # Randomly flip the image horizontally\n",
    "    transforms.RandomRotation(50),  # Randomly rotate the image by up to 10 degrees\n",
    "])\n",
    "\n",
    "if NORM_MEAN is not None and NORM_STD is not None:\n",
    "    train_transforms.transforms.append(transforms.Normalize(mean=NORM_MEAN, std=NORM_STD))\n",
    "\n",
    "test_transform = transforms.Compose([\n",
    "    transforms.Resize(SHAPE),\n",
    "    transforms.ToTensor(),\n",
    "])\n",
    "\n",
    "if NORM_MEAN is not None and NORM_STD is not None:\n",
    "    test_transform.transforms.append(transforms.Normalize(mean=NORM_MEAN, std=NORM_STD))\n"
   ]
  },
  {
   "cell_type": "code",
   "execution_count": 8,
   "id": "5aa0b4e3",
   "metadata": {},
   "outputs": [
    {
     "name": "stdout",
     "output_type": "stream",
     "text": [
      "DF col dtype object final_icdr\n",
      "DF col dtype object final_icdr\n",
      "DF col dtype object final_icdr\n"
     ]
    }
   ],
   "source": [
    "# Create the custom dataset\n",
    "train_dataset = BRSETDataset(\n",
    "    df_train, \n",
    "    IMAGE_COL, \n",
    "    IMAGES, \n",
    "    LABEL, \n",
    "    mlb, \n",
    "    train_columns, \n",
    "    transform=train_transforms\n",
    ")\n",
    "\n",
    "test_dataset = BRSETDataset(\n",
    "    df_test, \n",
    "    IMAGE_COL, \n",
    "    IMAGES, \n",
    "    LABEL, \n",
    "    mlb, \n",
    "    train_columns, \n",
    "    transform=test_transform\n",
    ")\n",
    "\n",
    "val_dataset = BRSETDataset(\n",
    "    df_val, \n",
    "    IMAGE_COL, \n",
    "    IMAGES, \n",
    "    LABEL, \n",
    "    mlb, \n",
    "    train_columns, \n",
    "    transform=test_transform\n",
    ")\n",
    "\n",
    "train_dataloader = DataLoader(train_dataset, batch_size=BATCH_SIZE, shuffle=True, num_workers=NUM_WORKERS, pin_memory=True)\n",
    "test_dataloader = DataLoader(test_dataset, batch_size=BATCH_SIZE, shuffle=False, num_workers=NUM_WORKERS, pin_memory=True)\n",
    "val_dataloader = DataLoader(val_dataset, batch_size=BATCH_SIZE, shuffle=False, num_workers=NUM_WORKERS, pin_memory=True)"
   ]
  },
  {
   "cell_type": "code",
   "execution_count": 9,
   "id": "edec00bf",
   "metadata": {},
   "outputs": [
    {
     "data": {
      "image/png": "[encoded data removed]",
      "text/plain": [
       "<Figure size 640x480 with 6 Axes>"
      ]
     },
     "metadata": {},
     "output_type": "display_data"
    }
   ],
   "source": [
    "# Print 6 samples with their labels\n",
    "# Iterate through the DataLoader and plot the images with labels\n",
    "for batch in train_dataloader:\n",
    "    images, labels = batch['image'], batch['labels']\n",
    "\n",
    "    for i in range(len(images)):\n",
    "        if i == 6:\n",
    "            break\n",
    "        plt.subplot(2, 3, i + 1)\n",
    "        plt.imshow(images[i].permute(1, 2, 0))  # Permute to (H, W, C) from (C, H, W)\n",
    "        plt.title(f\"Label: {labels[i]}\")\n",
    "        plt.axis('off')\n",
    "    plt.show()\n",
    "    break"
   ]
  },
  {
   "cell_type": "markdown",
   "id": "038f0fb7",
   "metadata": {},
   "source": [
    "### Model"
   ]
  },
  {
   "cell_type": "code",
   "execution_count": 10,
   "id": "8a652c24",
   "metadata": {},
   "outputs": [],
   "source": [
    "# Create the model\n",
    "backbone_model = FoundationalCVModel(backbone=BACKBONE, mode=MODE)\n",
    "model = FoundationalCVModelWithClassifier(backbone_model, relu = USE_RELU, hidden=HIDDEN, num_classes=num_classes, mode=MODE, backbone_mode=backbone_mode)\n",
    "model.to(device)\n",
    "\n",
    "# Use DataParallel to parallelize the model across multiple GPUs\n",
    "if torch.cuda.device_count() > 1:\n",
    "    print(\"Using\", torch.cuda.device_count(), \"GPUs!\")\n",
    "    model = nn.DataParallel(model, [0,1])"
   ]
  },
  {
   "cell_type": "markdown",
   "id": "7dc7e0f3",
   "metadata": {},
   "source": [
    "### Training:"
   ]
  },
  {
   "cell_type": "code",
   "execution_count": 11,
   "id": "a49bc284",
   "metadata": {},
   "outputs": [],
   "source": [
    "if LOSS == 'focal_loss':\n",
    "    class_distribution = train_dataloader.dataset.labels.sum(axis=0)\n",
    "    print(f'Class distribution: {class_distribution}')\n",
    "    class_dis = np.array(class_distribution)\n",
    "    class_weights =1-class_dis/np.sum(class_dis)\n",
    "    weights = torch.tensor(class_weights).to(device)\n",
    "    #criterion = FocalLoss()  # Focal Loss\n",
    "    criterion = FocalLoss(gamma=2, alpha=weights)\n",
    "else:\n",
    "    # Assuming train_loader.dataset.labels is a one-hot representation\n",
    "    class_indices = np.argmax(train_dataloader.dataset.labels, axis=1)\n",
    "\n",
    "    # Compute class weights using class indices\n",
    "    class_weights = compute_class_weight('balanced', classes=np.unique(class_indices), y=class_indices)\n",
    "    class_weights = torch.tensor(class_weights, dtype=torch.float32)\n",
    "    criterion = nn.CrossEntropyLoss(weight=class_weights).to(device)\n",
    "    #criterion = nn.BCEWithLogitsLoss() # Binary Cross-Entropy Loss\n",
    "\n",
    "if OPTIMIZER == 'adam':\n",
    "    optimizer = optim.Adam(model.parameters(), lr=learning_rate)\n",
    "elif OPTIMIZER == 'adamw':\n",
    "    optimizer = optim.AdamW(model.parameters(), lr=learning_rate)\n",
    "else:\n",
    "    optimizer = optim.SGD(model.parameters(), lr=learning_rate, momentum=0.9)"
   ]
  },
  {
   "cell_type": "code",
   "execution_count": 14,
   "id": "264f3f1f",
   "metadata": {},
   "outputs": [
    {
     "name": "stdout",
     "output_type": "stream",
     "text": [
      "AMP True\n"
     ]
    },
    {
     "name": "stderr",
     "output_type": "stream",
     "text": [
      "100%|██████████████████████████████████████████████████████████████████████████████████| 57/57 [00:43<00:00,  1.33it/s]\n"
     ]
    },
    {
     "name": "stdout",
     "output_type": "stream",
     "text": [
      "Epoch 1\n",
      "Train loss 0.655, F1 0.602, Acc 0.639, BA 0.631\n",
      "cm[[ 607  383]\n",
      " [ 922 1702]]\n"
     ]
    },
    {
     "name": "stderr",
     "output_type": "stream",
     "text": [
      "100%|████████████████████████████████████████████████████████████████████████████████████| 5/5 [00:12<00:00,  2.60s/it]\n"
     ]
    },
    {
     "name": "stdout",
     "output_type": "stream",
     "text": [
      "Epoch 1\n",
      "Val loss 0.591, F1 0.709, Acc 0.748, BA 0.732\n",
      "cm[[ 59  26]\n",
      " [ 52 173]]\n"
     ]
    },
    {
     "name": "stderr",
     "output_type": "stream",
     "text": [
      "100%|██████████████████████████████████████████████████████████████████████████████████| 20/20 [00:20<00:00,  1.05s/it]\n"
     ]
    },
    {
     "name": "stdout",
     "output_type": "stream",
     "text": [
      "cm[[228 111]\n",
      " [215 686]]\n",
      "              precision    recall  f1-score   support\n",
      "\n",
      "           0       0.51      0.67      0.58       339\n",
      "           1       0.86      0.76      0.81       901\n",
      "\n",
      "    accuracy                           0.74      1240\n",
      "   macro avg       0.69      0.72      0.70      1240\n",
      "weighted avg       0.77      0.74      0.75      1240\n",
      "\n",
      "F1 0.747, Acc 0.737, BA 0.717\n",
      "Saving\n"
     ]
    },
    {
     "name": "stderr",
     "output_type": "stream",
     "text": [
      "100%|██████████████████████████████████████████████████████████████████████████████████| 57/57 [00:48<00:00,  1.18it/s]\n"
     ]
    },
    {
     "name": "stdout",
     "output_type": "stream",
     "text": [
      "Epoch 2\n",
      "Train loss 0.554, F1 0.714, Acc 0.767, BA 0.720\n",
      "cm[[ 609  381]\n",
      " [ 461 2163]]\n"
     ]
    },
    {
     "name": "stderr",
     "output_type": "stream",
     "text": [
      "100%|████████████████████████████████████████████████████████████████████████████████████| 5/5 [00:15<00:00,  3.11s/it]\n"
     ]
    },
    {
     "name": "stdout",
     "output_type": "stream",
     "text": [
      "Epoch 2\n",
      "Val loss 0.508, F1 0.733, Acc 0.777, BA 0.744\n",
      "cm[[ 57  28]\n",
      " [ 41 184]]\n"
     ]
    },
    {
     "name": "stderr",
     "output_type": "stream",
     "text": [
      "100%|██████████████████████████████████████████████████████████████████████████████████| 20/20 [00:20<00:00,  1.01s/it]\n"
     ]
    },
    {
     "name": "stdout",
     "output_type": "stream",
     "text": [
      "cm[[236 103]\n",
      " [187 714]]\n",
      "              precision    recall  f1-score   support\n",
      "\n",
      "           0       0.56      0.70      0.62       339\n",
      "           1       0.87      0.79      0.83       901\n",
      "\n",
      "    accuracy                           0.77      1240\n",
      "   macro avg       0.72      0.74      0.73      1240\n",
      "weighted avg       0.79      0.77      0.77      1240\n",
      "\n",
      "F1 0.773, Acc 0.766, BA 0.744\n",
      "Saving\n"
     ]
    },
    {
     "name": "stderr",
     "output_type": "stream",
     "text": [
      "100%|██████████████████████████████████████████████████████████████████████████████████| 57/57 [00:40<00:00,  1.39it/s]\n"
     ]
    },
    {
     "name": "stdout",
     "output_type": "stream",
     "text": [
      "Epoch 3\n",
      "Train loss 0.489, F1 0.751, Acc 0.797, BA 0.758\n",
      "cm[[ 665  325]\n",
      " [ 410 2214]]\n"
     ]
    },
    {
     "name": "stderr",
     "output_type": "stream",
     "text": [
      "100%|████████████████████████████████████████████████████████████████████████████████████| 5/5 [00:13<00:00,  2.62s/it]\n"
     ]
    },
    {
     "name": "stdout",
     "output_type": "stream",
     "text": [
      "Epoch 3\n",
      "Val loss 0.487, F1 0.728, Acc 0.771, BA 0.743\n",
      "cm[[ 58  27]\n",
      " [ 44 181]]\n"
     ]
    },
    {
     "name": "stderr",
     "output_type": "stream",
     "text": [
      "100%|██████████████████████████████████████████████████████████████████████████████████| 20/20 [00:19<00:00,  1.04it/s]\n"
     ]
    },
    {
     "name": "stdout",
     "output_type": "stream",
     "text": [
      "cm[[240  99]\n",
      " [187 714]]\n",
      "              precision    recall  f1-score   support\n",
      "\n",
      "           0       0.56      0.71      0.63       339\n",
      "           1       0.88      0.79      0.83       901\n",
      "\n",
      "    accuracy                           0.77      1240\n",
      "   macro avg       0.72      0.75      0.73      1240\n",
      "weighted avg       0.79      0.77      0.78      1240\n",
      "\n",
      "F1 0.777, Acc 0.769, BA 0.750\n"
     ]
    },
    {
     "name": "stderr",
     "output_type": "stream",
     "text": [
      "100%|██████████████████████████████████████████████████████████████████████████████████| 57/57 [00:39<00:00,  1.43it/s]\n"
     ]
    },
    {
     "name": "stdout",
     "output_type": "stream",
     "text": [
      "Epoch 4\n",
      "Train loss 0.457, F1 0.767, Acc 0.809, BA 0.775\n",
      "cm[[ 694  296]\n",
      " [ 394 2230]]\n"
     ]
    },
    {
     "name": "stderr",
     "output_type": "stream",
     "text": [
      "100%|████████████████████████████████████████████████████████████████████████████████████| 5/5 [00:12<00:00,  2.47s/it]\n"
     ]
    },
    {
     "name": "stdout",
     "output_type": "stream",
     "text": [
      "Epoch 4\n",
      "Val loss 0.472, F1 0.760, Acc 0.806, BA 0.764\n",
      "cm[[ 57  28]\n",
      " [ 32 193]]\n"
     ]
    },
    {
     "name": "stderr",
     "output_type": "stream",
     "text": [
      "100%|██████████████████████████████████████████████████████████████████████████████████| 20/20 [00:19<00:00,  1.05it/s]\n"
     ]
    },
    {
     "name": "stdout",
     "output_type": "stream",
     "text": [
      "cm[[239 100]\n",
      " [139 762]]\n",
      "              precision    recall  f1-score   support\n",
      "\n",
      "           0       0.63      0.71      0.67       339\n",
      "           1       0.88      0.85      0.86       901\n",
      "\n",
      "    accuracy                           0.81      1240\n",
      "   macro avg       0.76      0.78      0.77      1240\n",
      "weighted avg       0.82      0.81      0.81      1240\n",
      "\n",
      "F1 0.810, Acc 0.807, BA 0.775\n",
      "Saving\n"
     ]
    },
    {
     "name": "stderr",
     "output_type": "stream",
     "text": [
      "100%|██████████████████████████████████████████████████████████████████████████████████| 57/57 [00:39<00:00,  1.43it/s]\n"
     ]
    },
    {
     "name": "stdout",
     "output_type": "stream",
     "text": [
      "Epoch 5\n",
      "Train loss 0.429, F1 0.784, Acc 0.823, BA 0.793\n",
      "cm[[ 718  272]\n",
      " [ 366 2258]]\n"
     ]
    },
    {
     "name": "stderr",
     "output_type": "stream",
     "text": [
      "100%|████████████████████████████████████████████████████████████████████████████████████| 5/5 [00:12<00:00,  2.51s/it]\n"
     ]
    },
    {
     "name": "stdout",
     "output_type": "stream",
     "text": [
      "Epoch 5\n",
      "Val loss 0.474, F1 0.770, Acc 0.819, BA 0.766\n",
      "cm[[ 55  30]\n",
      " [ 26 199]]\n"
     ]
    },
    {
     "name": "stderr",
     "output_type": "stream",
     "text": [
      "100%|██████████████████████████████████████████████████████████████████████████████████| 20/20 [00:18<00:00,  1.06it/s]\n"
     ]
    },
    {
     "name": "stdout",
     "output_type": "stream",
     "text": [
      "cm[[228 111]\n",
      " [117 784]]\n",
      "              precision    recall  f1-score   support\n",
      "\n",
      "           0       0.66      0.67      0.67       339\n",
      "           1       0.88      0.87      0.87       901\n",
      "\n",
      "    accuracy                           0.82      1240\n",
      "   macro avg       0.77      0.77      0.77      1240\n",
      "weighted avg       0.82      0.82      0.82      1240\n",
      "\n",
      "F1 0.817, Acc 0.816, BA 0.771\n",
      "Saving\n"
     ]
    },
    {
     "name": "stderr",
     "output_type": "stream",
     "text": [
      "100%|██████████████████████████████████████████████████████████████████████████████████| 57/57 [00:40<00:00,  1.41it/s]\n"
     ]
    },
    {
     "name": "stdout",
     "output_type": "stream",
     "text": [
      "Epoch 6\n",
      "Train loss 0.405, F1 0.796, Acc 0.831, BA 0.810\n",
      "cm[[ 755  235]\n",
      " [ 376 2248]]\n"
     ]
    },
    {
     "name": "stderr",
     "output_type": "stream",
     "text": [
      "100%|████████████████████████████████████████████████████████████████████████████████████| 5/5 [00:12<00:00,  2.53s/it]\n"
     ]
    },
    {
     "name": "stdout",
     "output_type": "stream",
     "text": [
      "Epoch 6\n",
      "Val loss 0.486, F1 0.773, Acc 0.835, BA 0.751\n",
      "cm[[ 48  37]\n",
      " [ 14 211]]\n"
     ]
    },
    {
     "name": "stderr",
     "output_type": "stream",
     "text": [
      "100%|██████████████████████████████████████████████████████████████████████████████████| 20/20 [00:18<00:00,  1.08it/s]\n"
     ]
    },
    {
     "name": "stdout",
     "output_type": "stream",
     "text": [
      "cm[[209 130]\n",
      " [ 70 831]]\n",
      "              precision    recall  f1-score   support\n",
      "\n",
      "           0       0.75      0.62      0.68       339\n",
      "           1       0.86      0.92      0.89       901\n",
      "\n",
      "    accuracy                           0.84      1240\n",
      "   macro avg       0.81      0.77      0.78      1240\n",
      "weighted avg       0.83      0.84      0.83      1240\n",
      "\n",
      "F1 0.833, Acc 0.839, BA 0.769\n",
      "Saving\n"
     ]
    },
    {
     "name": "stderr",
     "output_type": "stream",
     "text": [
      "100%|██████████████████████████████████████████████████████████████████████████████████| 57/57 [00:39<00:00,  1.45it/s]\n"
     ]
    },
    {
     "name": "stdout",
     "output_type": "stream",
     "text": [
      "Epoch 7\n",
      "Train loss 0.388, F1 0.811, Acc 0.844, BA 0.822\n",
      "cm[[ 765  225]\n",
      " [ 338 2286]]\n"
     ]
    },
    {
     "name": "stderr",
     "output_type": "stream",
     "text": [
      "100%|████████████████████████████████████████████████████████████████████████████████████| 5/5 [00:12<00:00,  2.56s/it]\n"
     ]
    },
    {
     "name": "stdout",
     "output_type": "stream",
     "text": [
      "Epoch 7\n",
      "Val loss 0.483, F1 0.791, Acc 0.842, BA 0.778\n",
      "cm[[ 54  31]\n",
      " [ 18 207]]\n"
     ]
    },
    {
     "name": "stderr",
     "output_type": "stream",
     "text": [
      "100%|██████████████████████████████████████████████████████████████████████████████████| 20/20 [00:21<00:00,  1.06s/it]\n"
     ]
    },
    {
     "name": "stdout",
     "output_type": "stream",
     "text": [
      "cm[[220 119]\n",
      " [ 76 825]]\n",
      "              precision    recall  f1-score   support\n",
      "\n",
      "           0       0.74      0.65      0.69       339\n",
      "           1       0.87      0.92      0.89       901\n",
      "\n",
      "    accuracy                           0.84      1240\n",
      "   macro avg       0.81      0.78      0.79      1240\n",
      "weighted avg       0.84      0.84      0.84      1240\n",
      "\n",
      "F1 0.839, Acc 0.843, BA 0.782\n",
      "Saving\n"
     ]
    },
    {
     "name": "stderr",
     "output_type": "stream",
     "text": [
      "100%|██████████████████████████████████████████████████████████████████████████████████| 57/57 [00:40<00:00,  1.40it/s]\n"
     ]
    },
    {
     "name": "stdout",
     "output_type": "stream",
     "text": [
      "Epoch 8\n",
      "Train loss 0.369, F1 0.820, Acc 0.852, BA 0.833\n",
      "cm[[ 784  206]\n",
      " [ 330 2294]]\n"
     ]
    },
    {
     "name": "stderr",
     "output_type": "stream",
     "text": [
      "100%|████████████████████████████████████████████████████████████████████████████████████| 5/5 [00:12<00:00,  2.49s/it]\n"
     ]
    },
    {
     "name": "stdout",
     "output_type": "stream",
     "text": [
      "Epoch 8\n",
      "Val loss 0.476, F1 0.784, Acc 0.835, BA 0.773\n",
      "cm[[ 54  31]\n",
      " [ 20 205]]\n"
     ]
    },
    {
     "name": "stderr",
     "output_type": "stream",
     "text": [
      "100%|██████████████████████████████████████████████████████████████████████████████████| 20/20 [00:18<00:00,  1.06it/s]\n"
     ]
    },
    {
     "name": "stdout",
     "output_type": "stream",
     "text": [
      "cm[[227 112]\n",
      " [ 99 802]]\n",
      "              precision    recall  f1-score   support\n",
      "\n",
      "           0       0.70      0.67      0.68       339\n",
      "           1       0.88      0.89      0.88       901\n",
      "\n",
      "    accuracy                           0.83      1240\n",
      "   macro avg       0.79      0.78      0.78      1240\n",
      "weighted avg       0.83      0.83      0.83      1240\n",
      "\n",
      "F1 0.829, Acc 0.830, BA 0.780\n"
     ]
    },
    {
     "name": "stderr",
     "output_type": "stream",
     "text": [
      "100%|██████████████████████████████████████████████████████████████████████████████████| 57/57 [00:39<00:00,  1.43it/s]\n"
     ]
    },
    {
     "name": "stdout",
     "output_type": "stream",
     "text": [
      "Epoch 9\n",
      "Train loss 0.341, F1 0.836, Acc 0.866, BA 0.846\n",
      "cm[[ 792  198]\n",
      " [ 285 2339]]\n"
     ]
    },
    {
     "name": "stderr",
     "output_type": "stream",
     "text": [
      "100%|████████████████████████████████████████████████████████████████████████████████████| 5/5 [00:12<00:00,  2.47s/it]\n"
     ]
    },
    {
     "name": "stdout",
     "output_type": "stream",
     "text": [
      "Epoch 9\n",
      "Val loss 0.487, F1 0.798, Acc 0.852, BA 0.777\n",
      "cm[[ 52  33]\n",
      " [ 13 212]]\n"
     ]
    },
    {
     "name": "stderr",
     "output_type": "stream",
     "text": [
      "100%|██████████████████████████████████████████████████████████████████████████████████| 20/20 [00:19<00:00,  1.01it/s]\n"
     ]
    },
    {
     "name": "stdout",
     "output_type": "stream",
     "text": [
      "cm[[221 118]\n",
      " [ 72 829]]\n",
      "              precision    recall  f1-score   support\n",
      "\n",
      "           0       0.75      0.65      0.70       339\n",
      "           1       0.88      0.92      0.90       901\n",
      "\n",
      "    accuracy                           0.85      1240\n",
      "   macro avg       0.81      0.79      0.80      1240\n",
      "weighted avg       0.84      0.85      0.84      1240\n",
      "\n",
      "F1 0.843, Acc 0.847, BA 0.786\n",
      "Saving\n"
     ]
    },
    {
     "name": "stderr",
     "output_type": "stream",
     "text": [
      "100%|██████████████████████████████████████████████████████████████████████████████████| 57/57 [00:40<00:00,  1.41it/s]\n"
     ]
    },
    {
     "name": "stdout",
     "output_type": "stream",
     "text": [
      "Epoch 10\n",
      "Train loss 0.337, F1 0.838, Acc 0.866, BA 0.851\n",
      "cm[[ 811  179]\n",
      " [ 305 2319]]\n"
     ]
    },
    {
     "name": "stderr",
     "output_type": "stream",
     "text": [
      "100%|████████████████████████████████████████████████████████████████████████████████████| 5/5 [00:12<00:00,  2.47s/it]\n"
     ]
    },
    {
     "name": "stdout",
     "output_type": "stream",
     "text": [
      "Epoch 10\n",
      "Val loss 0.479, F1 0.791, Acc 0.839, BA 0.783\n",
      "cm[[ 56  29]\n",
      " [ 21 204]]\n"
     ]
    },
    {
     "name": "stderr",
     "output_type": "stream",
     "text": [
      "100%|██████████████████████████████████████████████████████████████████████████████████| 20/20 [00:19<00:00,  1.02it/s]\n"
     ]
    },
    {
     "name": "stdout",
     "output_type": "stream",
     "text": [
      "cm[[239 100]\n",
      " [112 789]]\n",
      "              precision    recall  f1-score   support\n",
      "\n",
      "           0       0.68      0.71      0.69       339\n",
      "           1       0.89      0.88      0.88       901\n",
      "\n",
      "    accuracy                           0.83      1240\n",
      "   macro avg       0.78      0.79      0.79      1240\n",
      "weighted avg       0.83      0.83      0.83      1240\n",
      "\n",
      "F1 0.830, Acc 0.829, BA 0.790\n"
     ]
    },
    {
     "name": "stderr",
     "output_type": "stream",
     "text": [
      "100%|██████████████████████████████████████████████████████████████████████████████████| 57/57 [00:39<00:00,  1.43it/s]\n"
     ]
    },
    {
     "name": "stdout",
     "output_type": "stream",
     "text": [
      "Epoch 11\n",
      "Train loss 0.319, F1 0.847, Acc 0.874, BA 0.861\n",
      "cm[[ 826  164]\n",
      " [ 293 2331]]\n"
     ]
    },
    {
     "name": "stderr",
     "output_type": "stream",
     "text": [
      "100%|████████████████████████████████████████████████████████████████████████████████████| 5/5 [00:12<00:00,  2.54s/it]\n"
     ]
    },
    {
     "name": "stdout",
     "output_type": "stream",
     "text": [
      "Epoch 11\n",
      "Val loss 0.483, F1 0.784, Acc 0.826, BA 0.788\n",
      "cm[[ 60  25]\n",
      " [ 29 196]]\n"
     ]
    },
    {
     "name": "stderr",
     "output_type": "stream",
     "text": [
      "100%|██████████████████████████████████████████████████████████████████████████████████| 20/20 [00:18<00:00,  1.07it/s]\n"
     ]
    },
    {
     "name": "stdout",
     "output_type": "stream",
     "text": [
      "cm[[245  94]\n",
      " [141 760]]\n",
      "              precision    recall  f1-score   support\n",
      "\n",
      "           0       0.63      0.72      0.68       339\n",
      "           1       0.89      0.84      0.87       901\n",
      "\n",
      "    accuracy                           0.81      1240\n",
      "   macro avg       0.76      0.78      0.77      1240\n",
      "weighted avg       0.82      0.81      0.81      1240\n",
      "\n",
      "F1 0.814, Acc 0.810, BA 0.783\n"
     ]
    },
    {
     "name": "stderr",
     "output_type": "stream",
     "text": [
      "100%|██████████████████████████████████████████████████████████████████████████████████| 57/57 [00:39<00:00,  1.43it/s]\n"
     ]
    },
    {
     "name": "stdout",
     "output_type": "stream",
     "text": [
      "Epoch 12\n",
      "Train loss 0.289, F1 0.865, Acc 0.889, BA 0.877\n",
      "cm[[ 842  148]\n",
      " [ 254 2370]]\n"
     ]
    },
    {
     "name": "stderr",
     "output_type": "stream",
     "text": [
      "100%|████████████████████████████████████████████████████████████████████████████████████| 5/5 [00:12<00:00,  2.45s/it]\n"
     ]
    },
    {
     "name": "stdout",
     "output_type": "stream",
     "text": [
      "Epoch 12\n",
      "Val loss 0.496, F1 0.763, Acc 0.810, BA 0.766\n",
      "cm[[ 57  28]\n",
      " [ 31 194]]\n"
     ]
    },
    {
     "name": "stderr",
     "output_type": "stream",
     "text": [
      "100%|██████████████████████████████████████████████████████████████████████████████████| 20/20 [00:19<00:00,  1.04it/s]\n"
     ]
    },
    {
     "name": "stdout",
     "output_type": "stream",
     "text": [
      "cm[[239 100]\n",
      " [122 779]]\n",
      "              precision    recall  f1-score   support\n",
      "\n",
      "           0       0.66      0.71      0.68       339\n",
      "           1       0.89      0.86      0.88       901\n",
      "\n",
      "    accuracy                           0.82      1240\n",
      "   macro avg       0.77      0.78      0.78      1240\n",
      "weighted avg       0.82      0.82      0.82      1240\n",
      "\n",
      "F1 0.823, Acc 0.821, BA 0.785\n"
     ]
    },
    {
     "name": "stderr",
     "output_type": "stream",
     "text": [
      "100%|██████████████████████████████████████████████████████████████████████████████████| 57/57 [00:40<00:00,  1.39it/s]\n"
     ]
    },
    {
     "name": "stdout",
     "output_type": "stream",
     "text": [
      "Epoch 13\n",
      "Train loss 0.277, F1 0.871, Acc 0.894, BA 0.885\n",
      "cm[[ 857  133]\n",
      " [ 250 2374]]\n"
     ]
    },
    {
     "name": "stderr",
     "output_type": "stream",
     "text": [
      "100%|████████████████████████████████████████████████████████████████████████████████████| 5/5 [00:12<00:00,  2.51s/it]\n"
     ]
    },
    {
     "name": "stdout",
     "output_type": "stream",
     "text": [
      "Epoch 13\n",
      "Val loss 0.528, F1 0.798, Acc 0.848, BA 0.782\n",
      "cm[[ 54  31]\n",
      " [ 16 209]]\n"
     ]
    },
    {
     "name": "stderr",
     "output_type": "stream",
     "text": [
      "100%|██████████████████████████████████████████████████████████████████████████████████| 20/20 [00:19<00:00,  1.05it/s]\n"
     ]
    },
    {
     "name": "stdout",
     "output_type": "stream",
     "text": [
      "cm[[218 121]\n",
      " [ 67 834]]\n",
      "              precision    recall  f1-score   support\n",
      "\n",
      "           0       0.76      0.64      0.70       339\n",
      "           1       0.87      0.93      0.90       901\n",
      "\n",
      "    accuracy                           0.85      1240\n",
      "   macro avg       0.82      0.78      0.80      1240\n",
      "weighted avg       0.84      0.85      0.84      1240\n",
      "\n",
      "F1 0.844, Acc 0.848, BA 0.784\n",
      "Saving\n"
     ]
    },
    {
     "name": "stderr",
     "output_type": "stream",
     "text": [
      "100%|██████████████████████████████████████████████████████████████████████████████████| 57/57 [00:39<00:00,  1.44it/s]\n"
     ]
    },
    {
     "name": "stdout",
     "output_type": "stream",
     "text": [
      "Epoch 14\n",
      "Train loss 0.254, F1 0.887, Acc 0.909, BA 0.894\n",
      "cm[[ 852  138]\n",
      " [ 192 2432]]\n"
     ]
    },
    {
     "name": "stderr",
     "output_type": "stream",
     "text": [
      "100%|████████████████████████████████████████████████████████████████████████████████████| 5/5 [00:12<00:00,  2.47s/it]\n"
     ]
    },
    {
     "name": "stdout",
     "output_type": "stream",
     "text": [
      "Epoch 14\n",
      "Val loss 0.508, F1 0.792, Acc 0.832, BA 0.797\n",
      "cm[[ 61  24]\n",
      " [ 28 197]]\n"
     ]
    },
    {
     "name": "stderr",
     "output_type": "stream",
     "text": [
      "100%|██████████████████████████████████████████████████████████████████████████████████| 20/20 [00:18<00:00,  1.07it/s]\n"
     ]
    },
    {
     "name": "stdout",
     "output_type": "stream",
     "text": [
      "cm[[242  97]\n",
      " [144 757]]\n",
      "              precision    recall  f1-score   support\n",
      "\n",
      "           0       0.63      0.71      0.67       339\n",
      "           1       0.89      0.84      0.86       901\n",
      "\n",
      "    accuracy                           0.81      1240\n",
      "   macro avg       0.76      0.78      0.77      1240\n",
      "weighted avg       0.82      0.81      0.81      1240\n",
      "\n",
      "F1 0.809, Acc 0.806, BA 0.777\n"
     ]
    },
    {
     "name": "stderr",
     "output_type": "stream",
     "text": [
      "100%|██████████████████████████████████████████████████████████████████████████████████| 57/57 [00:40<00:00,  1.42it/s]\n"
     ]
    },
    {
     "name": "stdout",
     "output_type": "stream",
     "text": [
      "Epoch 15\n",
      "Train loss 0.238, F1 0.889, Acc 0.908, BA 0.904\n",
      "cm[[ 885  105]\n",
      " [ 227 2397]]\n"
     ]
    },
    {
     "name": "stderr",
     "output_type": "stream",
     "text": [
      "100%|████████████████████████████████████████████████████████████████████████████████████| 5/5 [00:12<00:00,  2.43s/it]\n"
     ]
    },
    {
     "name": "stdout",
     "output_type": "stream",
     "text": [
      "Epoch 15\n",
      "Val loss 0.536, F1 0.789, Acc 0.832, BA 0.789\n",
      "cm[[ 59  26]\n",
      " [ 26 199]]\n"
     ]
    },
    {
     "name": "stderr",
     "output_type": "stream",
     "text": [
      "100%|██████████████████████████████████████████████████████████████████████████████████| 20/20 [00:19<00:00,  1.04it/s]\n"
     ]
    },
    {
     "name": "stdout",
     "output_type": "stream",
     "text": [
      "cm[[241  98]\n",
      " [112 789]]\n",
      "              precision    recall  f1-score   support\n",
      "\n",
      "           0       0.68      0.71      0.70       339\n",
      "           1       0.89      0.88      0.88       901\n",
      "\n",
      "    accuracy                           0.83      1240\n",
      "   macro avg       0.79      0.79      0.79      1240\n",
      "weighted avg       0.83      0.83      0.83      1240\n",
      "\n",
      "F1 0.832, Acc 0.831, BA 0.793\n"
     ]
    },
    {
     "name": "stderr",
     "output_type": "stream",
     "text": [
      "100%|██████████████████████████████████████████████████████████████████████████████████| 57/57 [00:39<00:00,  1.43it/s]\n"
     ]
    },
    {
     "name": "stdout",
     "output_type": "stream",
     "text": [
      "Epoch 16\n",
      "Train loss 0.246, F1 0.890, Acc 0.911, BA 0.900\n",
      "cm[[ 866  124]\n",
      " [ 198 2426]]\n"
     ]
    },
    {
     "name": "stderr",
     "output_type": "stream",
     "text": [
      "100%|████████████████████████████████████████████████████████████████████████████████████| 5/5 [00:12<00:00,  2.54s/it]\n"
     ]
    },
    {
     "name": "stdout",
     "output_type": "stream",
     "text": [
      "Epoch 16\n",
      "Val loss 0.541, F1 0.776, Acc 0.823, BA 0.775\n",
      "cm[[ 57  28]\n",
      " [ 27 198]]\n"
     ]
    },
    {
     "name": "stderr",
     "output_type": "stream",
     "text": [
      "100%|██████████████████████████████████████████████████████████████████████████████████| 20/20 [00:19<00:00,  1.05it/s]\n"
     ]
    },
    {
     "name": "stdout",
     "output_type": "stream",
     "text": [
      "cm[[234 105]\n",
      " [100 801]]\n",
      "              precision    recall  f1-score   support\n",
      "\n",
      "           0       0.70      0.69      0.70       339\n",
      "           1       0.88      0.89      0.89       901\n",
      "\n",
      "    accuracy                           0.83      1240\n",
      "   macro avg       0.79      0.79      0.79      1240\n",
      "weighted avg       0.83      0.83      0.83      1240\n",
      "\n",
      "F1 0.834, Acc 0.835, BA 0.790\n"
     ]
    },
    {
     "name": "stderr",
     "output_type": "stream",
     "text": [
      "100%|██████████████████████████████████████████████████████████████████████████████████| 57/57 [00:39<00:00,  1.44it/s]\n"
     ]
    },
    {
     "name": "stdout",
     "output_type": "stream",
     "text": [
      "Epoch 17\n",
      "Train loss 0.229, F1 0.897, Acc 0.916, BA 0.905\n",
      "cm[[ 872  118]\n",
      " [ 185 2439]]\n"
     ]
    },
    {
     "name": "stderr",
     "output_type": "stream",
     "text": [
      "100%|████████████████████████████████████████████████████████████████████████████████████| 5/5 [00:12<00:00,  2.47s/it]\n"
     ]
    },
    {
     "name": "stdout",
     "output_type": "stream",
     "text": [
      "Epoch 17\n",
      "Val loss 0.520, F1 0.767, Acc 0.810, BA 0.774\n",
      "cm[[ 59  26]\n",
      " [ 33 192]]\n"
     ]
    },
    {
     "name": "stderr",
     "output_type": "stream",
     "text": [
      "100%|██████████████████████████████████████████████████████████████████████████████████| 20/20 [00:19<00:00,  1.04it/s]\n"
     ]
    },
    {
     "name": "stdout",
     "output_type": "stream",
     "text": [
      "cm[[247  92]\n",
      " [151 750]]\n",
      "              precision    recall  f1-score   support\n",
      "\n",
      "           0       0.62      0.73      0.67       339\n",
      "           1       0.89      0.83      0.86       901\n",
      "\n",
      "    accuracy                           0.80      1240\n",
      "   macro avg       0.76      0.78      0.77      1240\n",
      "weighted avg       0.82      0.80      0.81      1240\n",
      "\n",
      "F1 0.809, Acc 0.804, BA 0.781\n"
     ]
    },
    {
     "name": "stderr",
     "output_type": "stream",
     "text": [
      "100%|██████████████████████████████████████████████████████████████████████████████████| 57/57 [00:39<00:00,  1.45it/s]\n"
     ]
    },
    {
     "name": "stdout",
     "output_type": "stream",
     "text": [
      "Epoch 18\n",
      "Train loss 0.211, F1 0.904, Acc 0.921, BA 0.918\n",
      "cm[[ 904   86]\n",
      " [ 200 2424]]\n"
     ]
    },
    {
     "name": "stderr",
     "output_type": "stream",
     "text": [
      "100%|████████████████████████████████████████████████████████████████████████████████████| 5/5 [00:12<00:00,  2.47s/it]\n"
     ]
    },
    {
     "name": "stdout",
     "output_type": "stream",
     "text": [
      "Epoch 18\n",
      "Val loss 0.578, F1 0.783, Acc 0.829, BA 0.780\n",
      "cm[[ 57  28]\n",
      " [ 25 200]]\n"
     ]
    },
    {
     "name": "stderr",
     "output_type": "stream",
     "text": [
      "100%|██████████████████████████████████████████████████████████████████████████████████| 20/20 [00:18<00:00,  1.06it/s]\n"
     ]
    },
    {
     "name": "stdout",
     "output_type": "stream",
     "text": [
      "cm[[242  97]\n",
      " [115 786]]\n",
      "              precision    recall  f1-score   support\n",
      "\n",
      "           0       0.68      0.71      0.70       339\n",
      "           1       0.89      0.87      0.88       901\n",
      "\n",
      "    accuracy                           0.83      1240\n",
      "   macro avg       0.78      0.79      0.79      1240\n",
      "weighted avg       0.83      0.83      0.83      1240\n",
      "\n",
      "F1 0.830, Acc 0.829, BA 0.793\n"
     ]
    },
    {
     "name": "stderr",
     "output_type": "stream",
     "text": [
      "100%|██████████████████████████████████████████████████████████████████████████████████| 57/57 [00:39<00:00,  1.44it/s]\n"
     ]
    },
    {
     "name": "stdout",
     "output_type": "stream",
     "text": [
      "Epoch 19\n",
      "Train loss 0.184, F1 0.914, Acc 0.930, BA 0.925\n",
      "cm[[ 903   87]\n",
      " [ 165 2459]]\n"
     ]
    },
    {
     "name": "stderr",
     "output_type": "stream",
     "text": [
      "100%|████████████████████████████████████████████████████████████████████████████████████| 5/5 [00:12<00:00,  2.59s/it]\n"
     ]
    },
    {
     "name": "stdout",
     "output_type": "stream",
     "text": [
      "Epoch 19\n",
      "Val loss 0.608, F1 0.798, Acc 0.845, BA 0.787\n",
      "cm[[ 56  29]\n",
      " [ 19 206]]\n"
     ]
    },
    {
     "name": "stderr",
     "output_type": "stream",
     "text": [
      "100%|██████████████████████████████████████████████████████████████████████████████████| 20/20 [00:21<00:00,  1.08s/it]\n"
     ]
    },
    {
     "name": "stdout",
     "output_type": "stream",
     "text": [
      "cm[[238 101]\n",
      " [ 98 803]]\n",
      "              precision    recall  f1-score   support\n",
      "\n",
      "           0       0.71      0.70      0.71       339\n",
      "           1       0.89      0.89      0.89       901\n",
      "\n",
      "    accuracy                           0.84      1240\n",
      "   macro avg       0.80      0.80      0.80      1240\n",
      "weighted avg       0.84      0.84      0.84      1240\n",
      "\n",
      "F1 0.839, Acc 0.840, BA 0.797\n"
     ]
    },
    {
     "name": "stderr",
     "output_type": "stream",
     "text": [
      "100%|██████████████████████████████████████████████████████████████████████████████████| 57/57 [00:39<00:00,  1.45it/s]\n"
     ]
    },
    {
     "name": "stdout",
     "output_type": "stream",
     "text": [
      "Epoch 20\n",
      "Train loss 0.185, F1 0.913, Acc 0.929, BA 0.923\n",
      "cm[[ 900   90]\n",
      " [ 165 2459]]\n"
     ]
    },
    {
     "name": "stderr",
     "output_type": "stream",
     "text": [
      "100%|████████████████████████████████████████████████████████████████████████████████████| 5/5 [00:12<00:00,  2.45s/it]\n"
     ]
    },
    {
     "name": "stdout",
     "output_type": "stream",
     "text": [
      "Epoch 20\n",
      "Val loss 0.581, F1 0.800, Acc 0.848, BA 0.786\n",
      "cm[[ 55  30]\n",
      " [ 17 208]]\n"
     ]
    },
    {
     "name": "stderr",
     "output_type": "stream",
     "text": [
      "100%|██████████████████████████████████████████████████████████████████████████████████| 20/20 [00:18<00:00,  1.07it/s]\n"
     ]
    },
    {
     "name": "stdout",
     "output_type": "stream",
     "text": [
      "cm[[235 104]\n",
      " [ 94 807]]\n",
      "              precision    recall  f1-score   support\n",
      "\n",
      "           0       0.71      0.69      0.70       339\n",
      "           1       0.89      0.90      0.89       901\n",
      "\n",
      "    accuracy                           0.84      1240\n",
      "   macro avg       0.80      0.79      0.80      1240\n",
      "weighted avg       0.84      0.84      0.84      1240\n",
      "\n",
      "F1 0.840, Acc 0.840, BA 0.794\n",
      "Saving\n"
     ]
    },
    {
     "name": "stderr",
     "output_type": "stream",
     "text": [
      "100%|██████████████████████████████████████████████████████████████████████████████████| 57/57 [00:43<00:00,  1.31it/s]\n"
     ]
    },
    {
     "name": "stdout",
     "output_type": "stream",
     "text": [
      "Epoch 21\n",
      "Train loss 0.174, F1 0.924, Acc 0.938, BA 0.934\n",
      "cm[[ 916   74]\n",
      " [ 149 2475]]\n"
     ]
    },
    {
     "name": "stderr",
     "output_type": "stream",
     "text": [
      "100%|████████████████████████████████████████████████████████████████████████████████████| 5/5 [00:13<00:00,  2.70s/it]\n"
     ]
    },
    {
     "name": "stdout",
     "output_type": "stream",
     "text": [
      "Epoch 21\n",
      "Val loss 0.609, F1 0.757, Acc 0.803, BA 0.762\n",
      "cm[[ 57  28]\n",
      " [ 33 192]]\n"
     ]
    },
    {
     "name": "stderr",
     "output_type": "stream",
     "text": [
      "100%|██████████████████████████████████████████████████████████████████████████████████| 20/20 [00:19<00:00,  1.03it/s]\n"
     ]
    },
    {
     "name": "stdout",
     "output_type": "stream",
     "text": [
      "cm[[251  88]\n",
      " [137 764]]\n",
      "              precision    recall  f1-score   support\n",
      "\n",
      "           0       0.65      0.74      0.69       339\n",
      "           1       0.90      0.85      0.87       901\n",
      "\n",
      "    accuracy                           0.82      1240\n",
      "   macro avg       0.77      0.79      0.78      1240\n",
      "weighted avg       0.83      0.82      0.82      1240\n",
      "\n",
      "F1 0.822, Acc 0.819, BA 0.794\n"
     ]
    },
    {
     "name": "stderr",
     "output_type": "stream",
     "text": [
      "100%|██████████████████████████████████████████████████████████████████████████████████| 57/57 [00:39<00:00,  1.45it/s]\n"
     ]
    },
    {
     "name": "stdout",
     "output_type": "stream",
     "text": [
      "Epoch 22\n",
      "Train loss 0.163, F1 0.928, Acc 0.941, BA 0.939\n",
      "cm[[ 925   65]\n",
      " [ 147 2477]]\n"
     ]
    },
    {
     "name": "stderr",
     "output_type": "stream",
     "text": [
      "100%|████████████████████████████████████████████████████████████████████████████████████| 5/5 [00:12<00:00,  2.41s/it]\n"
     ]
    },
    {
     "name": "stdout",
     "output_type": "stream",
     "text": [
      "Epoch 22\n",
      "Val loss 0.590, F1 0.778, Acc 0.826, BA 0.774\n",
      "cm[[ 56  29]\n",
      " [ 25 200]]\n"
     ]
    },
    {
     "name": "stderr",
     "output_type": "stream",
     "text": [
      "100%|██████████████████████████████████████████████████████████████████████████████████| 20/20 [00:18<00:00,  1.08it/s]\n"
     ]
    },
    {
     "name": "stdout",
     "output_type": "stream",
     "text": [
      "cm[[241  98]\n",
      " [119 782]]\n",
      "              precision    recall  f1-score   support\n",
      "\n",
      "           0       0.67      0.71      0.69       339\n",
      "           1       0.89      0.87      0.88       901\n",
      "\n",
      "    accuracy                           0.82      1240\n",
      "   macro avg       0.78      0.79      0.78      1240\n",
      "weighted avg       0.83      0.82      0.83      1240\n",
      "\n",
      "F1 0.827, Acc 0.825, BA 0.789\n"
     ]
    },
    {
     "name": "stderr",
     "output_type": "stream",
     "text": [
      "100%|██████████████████████████████████████████████████████████████████████████████████| 57/57 [00:40<00:00,  1.40it/s]\n"
     ]
    },
    {
     "name": "stdout",
     "output_type": "stream",
     "text": [
      "Epoch 23\n",
      "Train loss 0.155, F1 0.927, Acc 0.941, BA 0.934\n",
      "cm[[ 910   80]\n",
      " [ 132 2492]]\n"
     ]
    },
    {
     "name": "stderr",
     "output_type": "stream",
     "text": [
      "100%|████████████████████████████████████████████████████████████████████████████████████| 5/5 [00:12<00:00,  2.52s/it]\n"
     ]
    },
    {
     "name": "stdout",
     "output_type": "stream",
     "text": [
      "Epoch 23\n",
      "Val loss 0.629, F1 0.812, Acc 0.858, BA 0.796\n",
      "cm[[ 56  29]\n",
      " [ 15 210]]\n"
     ]
    },
    {
     "name": "stderr",
     "output_type": "stream",
     "text": [
      "100%|██████████████████████████████████████████████████████████████████████████████████| 20/20 [00:19<00:00,  1.04it/s]\n"
     ]
    },
    {
     "name": "stdout",
     "output_type": "stream",
     "text": [
      "cm[[225 114]\n",
      " [ 85 816]]\n",
      "              precision    recall  f1-score   support\n",
      "\n",
      "           0       0.73      0.66      0.69       339\n",
      "           1       0.88      0.91      0.89       901\n",
      "\n",
      "    accuracy                           0.84      1240\n",
      "   macro avg       0.80      0.78      0.79      1240\n",
      "weighted avg       0.84      0.84      0.84      1240\n",
      "\n",
      "F1 0.837, Acc 0.840, BA 0.785\n",
      "Saving\n"
     ]
    },
    {
     "name": "stderr",
     "output_type": "stream",
     "text": [
      "100%|██████████████████████████████████████████████████████████████████████████████████| 57/57 [00:39<00:00,  1.43it/s]\n"
     ]
    },
    {
     "name": "stdout",
     "output_type": "stream",
     "text": [
      "Epoch 24\n",
      "Train loss 0.133, F1 0.940, Acc 0.951, BA 0.950\n",
      "cm[[ 940   50]\n",
      " [ 128 2496]]\n"
     ]
    },
    {
     "name": "stderr",
     "output_type": "stream",
     "text": [
      "100%|████████████████████████████████████████████████████████████████████████████████████| 5/5 [00:12<00:00,  2.57s/it]\n"
     ]
    },
    {
     "name": "stdout",
     "output_type": "stream",
     "text": [
      "Epoch 24\n",
      "Val loss 0.650, F1 0.784, Acc 0.832, BA 0.778\n",
      "cm[[ 56  29]\n",
      " [ 23 202]]\n"
     ]
    },
    {
     "name": "stderr",
     "output_type": "stream",
     "text": [
      "100%|██████████████████████████████████████████████████████████████████████████████████| 20/20 [00:19<00:00,  1.03it/s]\n"
     ]
    },
    {
     "name": "stdout",
     "output_type": "stream",
     "text": [
      "cm[[233 106]\n",
      " [110 791]]\n",
      "              precision    recall  f1-score   support\n",
      "\n",
      "           0       0.68      0.69      0.68       339\n",
      "           1       0.88      0.88      0.88       901\n",
      "\n",
      "    accuracy                           0.83      1240\n",
      "   macro avg       0.78      0.78      0.78      1240\n",
      "weighted avg       0.83      0.83      0.83      1240\n",
      "\n",
      "F1 0.826, Acc 0.826, BA 0.783\n"
     ]
    },
    {
     "name": "stderr",
     "output_type": "stream",
     "text": [
      "100%|██████████████████████████████████████████████████████████████████████████████████| 57/57 [00:39<00:00,  1.43it/s]\n"
     ]
    },
    {
     "name": "stdout",
     "output_type": "stream",
     "text": [
      "Epoch 25\n",
      "Train loss 0.127, F1 0.942, Acc 0.953, BA 0.952\n",
      "cm[[ 940   50]\n",
      " [ 121 2503]]\n"
     ]
    },
    {
     "name": "stderr",
     "output_type": "stream",
     "text": [
      "100%|████████████████████████████████████████████████████████████████████████████████████| 5/5 [00:12<00:00,  2.46s/it]\n"
     ]
    },
    {
     "name": "stdout",
     "output_type": "stream",
     "text": [
      "Epoch 25\n",
      "Val loss 0.714, F1 0.808, Acc 0.858, BA 0.789\n",
      "cm[[ 54  31]\n",
      " [ 13 212]]\n"
     ]
    },
    {
     "name": "stderr",
     "output_type": "stream",
     "text": [
      "100%|██████████████████████████████████████████████████████████████████████████████████| 20/20 [00:18<00:00,  1.07it/s]\n"
     ]
    },
    {
     "name": "stdout",
     "output_type": "stream",
     "text": [
      "cm[[214 125]\n",
      " [ 61 840]]\n",
      "              precision    recall  f1-score   support\n",
      "\n",
      "           0       0.78      0.63      0.70       339\n",
      "           1       0.87      0.93      0.90       901\n",
      "\n",
      "    accuracy                           0.85      1240\n",
      "   macro avg       0.82      0.78      0.80      1240\n",
      "weighted avg       0.85      0.85      0.84      1240\n",
      "\n",
      "F1 0.845, Acc 0.850, BA 0.782\n"
     ]
    },
    {
     "name": "stderr",
     "output_type": "stream",
     "text": [
      "100%|██████████████████████████████████████████████████████████████████████████████████| 57/57 [00:39<00:00,  1.43it/s]\n"
     ]
    },
    {
     "name": "stdout",
     "output_type": "stream",
     "text": [
      "Epoch 26\n",
      "Train loss 0.122, F1 0.949, Acc 0.959, BA 0.956\n",
      "cm[[ 939   51]\n",
      " [  97 2527]]\n"
     ]
    },
    {
     "name": "stderr",
     "output_type": "stream",
     "text": [
      "100%|████████████████████████████████████████████████████████████████████████████████████| 5/5 [00:12<00:00,  2.44s/it]\n"
     ]
    },
    {
     "name": "stdout",
     "output_type": "stream",
     "text": [
      "Epoch 26\n",
      "Val loss 0.678, F1 0.799, Acc 0.842, BA 0.796\n",
      "cm[[ 59  26]\n",
      " [ 23 202]]\n"
     ]
    },
    {
     "name": "stderr",
     "output_type": "stream",
     "text": [
      "100%|██████████████████████████████████████████████████████████████████████████████████| 20/20 [00:18<00:00,  1.08it/s]\n"
     ]
    },
    {
     "name": "stdout",
     "output_type": "stream",
     "text": [
      "cm[[239 100]\n",
      " [ 96 805]]\n",
      "              precision    recall  f1-score   support\n",
      "\n",
      "           0       0.71      0.71      0.71       339\n",
      "           1       0.89      0.89      0.89       901\n",
      "\n",
      "    accuracy                           0.84      1240\n",
      "   macro avg       0.80      0.80      0.80      1240\n",
      "weighted avg       0.84      0.84      0.84      1240\n",
      "\n",
      "F1 0.842, Acc 0.842, BA 0.799\n"
     ]
    },
    {
     "name": "stderr",
     "output_type": "stream",
     "text": [
      "100%|██████████████████████████████████████████████████████████████████████████████████| 57/57 [00:39<00:00,  1.46it/s]\n"
     ]
    },
    {
     "name": "stdout",
     "output_type": "stream",
     "text": [
      "Epoch 27\n",
      "Train loss 0.124, F1 0.945, Acc 0.955, BA 0.955\n",
      "cm[[ 946   44]\n",
      " [ 119 2505]]\n"
     ]
    },
    {
     "name": "stderr",
     "output_type": "stream",
     "text": [
      "100%|████████████████████████████████████████████████████████████████████████████████████| 5/5 [00:12<00:00,  2.44s/it]\n"
     ]
    },
    {
     "name": "stdout",
     "output_type": "stream",
     "text": [
      "Epoch 27\n",
      "Val loss 0.725, F1 0.806, Acc 0.852, BA 0.795\n",
      "cm[[ 57  28]\n",
      " [ 18 207]]\n"
     ]
    },
    {
     "name": "stderr",
     "output_type": "stream",
     "text": [
      "100%|██████████████████████████████████████████████████████████████████████████████████| 20/20 [00:19<00:00,  1.03it/s]\n"
     ]
    },
    {
     "name": "stdout",
     "output_type": "stream",
     "text": [
      "cm[[225 114]\n",
      " [ 75 826]]\n",
      "              precision    recall  f1-score   support\n",
      "\n",
      "           0       0.75      0.66      0.70       339\n",
      "           1       0.88      0.92      0.90       901\n",
      "\n",
      "    accuracy                           0.85      1240\n",
      "   macro avg       0.81      0.79      0.80      1240\n",
      "weighted avg       0.84      0.85      0.84      1240\n",
      "\n",
      "F1 0.845, Acc 0.848, BA 0.790\n"
     ]
    },
    {
     "name": "stderr",
     "output_type": "stream",
     "text": [
      "100%|██████████████████████████████████████████████████████████████████████████████████| 57/57 [00:39<00:00,  1.46it/s]\n"
     ]
    },
    {
     "name": "stdout",
     "output_type": "stream",
     "text": [
      "Epoch 28\n",
      "Train loss 0.118, F1 0.947, Acc 0.957, BA 0.956\n",
      "cm[[ 944   46]\n",
      " [ 110 2514]]\n"
     ]
    },
    {
     "name": "stderr",
     "output_type": "stream",
     "text": [
      "100%|████████████████████████████████████████████████████████████████████████████████████| 5/5 [00:12<00:00,  2.47s/it]\n"
     ]
    },
    {
     "name": "stdout",
     "output_type": "stream",
     "text": [
      "Epoch 28\n",
      "Val loss 0.739, F1 0.765, Acc 0.810, BA 0.770\n",
      "cm[[ 58  27]\n",
      " [ 32 193]]\n"
     ]
    },
    {
     "name": "stderr",
     "output_type": "stream",
     "text": [
      "100%|██████████████████████████████████████████████████████████████████████████████████| 20/20 [00:18<00:00,  1.07it/s]\n"
     ]
    },
    {
     "name": "stdout",
     "output_type": "stream",
     "text": [
      "cm[[239 100]\n",
      " [116 785]]\n",
      "              precision    recall  f1-score   support\n",
      "\n",
      "           0       0.67      0.71      0.69       339\n",
      "           1       0.89      0.87      0.88       901\n",
      "\n",
      "    accuracy                           0.83      1240\n",
      "   macro avg       0.78      0.79      0.78      1240\n",
      "weighted avg       0.83      0.83      0.83      1240\n",
      "\n",
      "F1 0.827, Acc 0.826, BA 0.788\n"
     ]
    },
    {
     "name": "stderr",
     "output_type": "stream",
     "text": [
      "100%|██████████████████████████████████████████████████████████████████████████████████| 57/57 [00:39<00:00,  1.44it/s]\n"
     ]
    },
    {
     "name": "stdout",
     "output_type": "stream",
     "text": [
      "Epoch 29\n",
      "Train loss 0.103, F1 0.953, Acc 0.962, BA 0.961\n",
      "cm[[ 951   39]\n",
      " [ 100 2524]]\n"
     ]
    },
    {
     "name": "stderr",
     "output_type": "stream",
     "text": [
      "100%|████████████████████████████████████████████████████████████████████████████████████| 5/5 [00:12<00:00,  2.44s/it]\n"
     ]
    },
    {
     "name": "stdout",
     "output_type": "stream",
     "text": [
      "Epoch 29\n",
      "Val loss 0.738, F1 0.788, Acc 0.835, BA 0.781\n",
      "cm[[ 56  29]\n",
      " [ 22 203]]\n"
     ]
    },
    {
     "name": "stderr",
     "output_type": "stream",
     "text": [
      "100%|██████████████████████████████████████████████████████████████████████████████████| 20/20 [00:18<00:00,  1.07it/s]\n"
     ]
    },
    {
     "name": "stdout",
     "output_type": "stream",
     "text": [
      "cm[[229 110]\n",
      " [ 84 817]]\n",
      "              precision    recall  f1-score   support\n",
      "\n",
      "           0       0.73      0.68      0.70       339\n",
      "           1       0.88      0.91      0.89       901\n",
      "\n",
      "    accuracy                           0.84      1240\n",
      "   macro avg       0.81      0.79      0.80      1240\n",
      "weighted avg       0.84      0.84      0.84      1240\n",
      "\n",
      "F1 0.842, Acc 0.844, BA 0.791\n"
     ]
    },
    {
     "name": "stderr",
     "output_type": "stream",
     "text": [
      "100%|██████████████████████████████████████████████████████████████████████████████████| 57/57 [00:39<00:00,  1.44it/s]\n"
     ]
    },
    {
     "name": "stdout",
     "output_type": "stream",
     "text": [
      "Epoch 30\n",
      "Train loss 0.097, F1 0.959, Acc 0.967, BA 0.964\n",
      "cm[[ 947   43]\n",
      " [  77 2547]]\n"
     ]
    },
    {
     "name": "stderr",
     "output_type": "stream",
     "text": [
      "100%|████████████████████████████████████████████████████████████████████████████████████| 5/5 [00:12<00:00,  2.48s/it]\n"
     ]
    },
    {
     "name": "stdout",
     "output_type": "stream",
     "text": [
      "Epoch 30\n",
      "Val loss 0.741, F1 0.778, Acc 0.826, BA 0.774\n",
      "cm[[ 56  29]\n",
      " [ 25 200]]\n"
     ]
    },
    {
     "name": "stderr",
     "output_type": "stream",
     "text": [
      "100%|██████████████████████████████████████████████████████████████████████████████████| 20/20 [00:19<00:00,  1.04it/s]"
     ]
    },
    {
     "name": "stdout",
     "output_type": "stream",
     "text": [
      "cm[[234 105]\n",
      " [ 93 808]]\n",
      "              precision    recall  f1-score   support\n",
      "\n",
      "           0       0.72      0.69      0.70       339\n",
      "           1       0.88      0.90      0.89       901\n",
      "\n",
      "    accuracy                           0.84      1240\n",
      "   macro avg       0.80      0.79      0.80      1240\n",
      "weighted avg       0.84      0.84      0.84      1240\n",
      "\n",
      "F1 0.839, Acc 0.840, BA 0.794\n",
      "Early stopping triggered.\n"
     ]
    },
    {
     "name": "stderr",
     "output_type": "stream",
     "text": [
      "\n"
     ]
    }
   ],
   "source": [
    "save_dir= HOME_DIR + 'Experiment1'\n",
    "model = train(model, train_dataloader, val_dataloader, test_dataloader, criterion, optimizer, num_epochs=num_epochs, save=True, save_dir = save_dir, device=\"cuda\", backbone=f'convnextv2_binary_{LABEL}')"
   ]
  },
  {
   "cell_type": "markdown",
   "id": "fad2f69b",
   "metadata": {},
   "source": [
    "### Test"
   ]
  },
  {
   "cell_type": "code",
   "execution_count": 15,
   "id": "4f689e55",
   "metadata": {},
   "outputs": [
    {
     "name": "stderr",
     "output_type": "stream",
     "text": [
      "100%|██████████████████████████████████████████████████████████████████████████████████| 20/20 [00:20<00:00,  1.01s/it]"
     ]
    },
    {
     "name": "stdout",
     "output_type": "stream",
     "text": [
      "cm[[225 114]\n",
      " [ 85 816]]\n",
      "              precision    recall  f1-score   support\n",
      "\n",
      "           0       0.73      0.66      0.69       339\n",
      "           1       0.88      0.91      0.89       901\n",
      "\n",
      "    accuracy                           0.84      1240\n",
      "   macro avg       0.80      0.78      0.79      1240\n",
      "weighted avg       0.84      0.84      0.84      1240\n",
      "\n",
      "F1 0.837, Acc 0.840, BA 0.785\n"
     ]
    },
    {
     "name": "stderr",
     "output_type": "stream",
     "text": [
      "\n"
     ]
    },
    {
     "data": {
      "text/plain": [
       "(array([9.9777216e-01, 9.9744970e-01, 3.6747614e-01, ..., 9.4987488e-01,\n",
       "        9.6178830e-01, 3.5219881e-04], dtype=float32),\n",
       " array([[0., 1.],\n",
       "        [0., 1.],\n",
       "        [0., 1.],\n",
       "        ...,\n",
       "        [0., 1.],\n",
       "        [0., 1.],\n",
       "        [1., 0.]], dtype=float32))"
      ]
     },
     "execution_count": 15,
     "metadata": {},
     "output_type": "execute_result"
    }
   ],
   "source": [
    "state_dict = torch.load(HOME_DIR + 'Experiment1\\\\fine_tuned_resnet50_best.pth')\n",
    "model.load_state_dict(state_dict, strict=True) \n",
    "test(model, test_dataloader, saliency=True, device=device)"
   ]
  }
 ],
 "metadata": {
  "kernelspec": {
   "display_name": "Python 3 (ipykernel)",
   "language": "python",
   "name": "python3"
  },
  "language_info": {
   "codemirror_mode": {
    "name": "ipython",
    "version": 3
   },
   "file_extension": ".py",
   "mimetype": "text/x-python",
   "name": "python",
   "nbconvert_exporter": "python",
   "pygments_lexer": "ipython3",
   "version": "3.8.17"
  }
 },
 "nbformat": 4,
 "nbformat_minor": 5
}
